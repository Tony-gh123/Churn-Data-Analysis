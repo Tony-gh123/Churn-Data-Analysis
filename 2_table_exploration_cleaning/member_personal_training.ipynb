{
 "cells": [
  {
   "cell_type": "markdown",
   "id": "5f599e3c",
   "metadata": {},
   "source": [
    "# member_personal_training (MPT): Raw Data Discovery & Insights"
   ]
  },
  {
   "cell_type": "markdown",
   "id": "eb44f95a",
   "metadata": {},
   "source": [
    "### Target Attributes: member_id, Session_Date, Session_Type"
   ]
  },
  {
   "cell_type": "code",
   "execution_count": null,
   "id": "e1713d6a",
   "metadata": {},
   "outputs": [],
   "source": [
    "import sqlite3\n",
    "import numpy as np\n",
    "import matplotlib.pylab as plt\n",
    "import pandas as pd\n",
    "import seaborn as sns\n",
    "\n",
    "conn = sqlite3.connect(r\"__PATH__\")\n",
    "\n",
    "df = pd.read_sql_query(\"SELECT * FROM member_personal_training\", conn)"
   ]
  },
  {
   "cell_type": "markdown",
   "id": "27ee1ac1",
   "metadata": {},
   "source": [
    "### Data Understanding, Cleaning & Preparation"
   ]
  },
  {
   "cell_type": "code",
   "execution_count": 2,
   "id": "348a88ab",
   "metadata": {},
   "outputs": [
    {
     "data": {
      "text/plain": [
       "(206, 13)"
      ]
     },
     "execution_count": 2,
     "metadata": {},
     "output_type": "execute_result"
    }
   ],
   "source": [
    "df.shape"
   ]
  },
  {
   "cell_type": "code",
   "execution_count": 3,
   "id": "c0916226",
   "metadata": {},
   "outputs": [
    {
     "data": {
      "text/html": [
       "<div>\n",
       "<style scoped>\n",
       "    .dataframe tbody tr th:only-of-type {\n",
       "        vertical-align: middle;\n",
       "    }\n",
       "\n",
       "    .dataframe tbody tr th {\n",
       "        vertical-align: top;\n",
       "    }\n",
       "\n",
       "    .dataframe thead th {\n",
       "        text-align: right;\n",
       "    }\n",
       "</style>\n",
       "<table border=\"1\" class=\"dataframe\">\n",
       "  <thead>\n",
       "    <tr style=\"text-align: right;\">\n",
       "      <th></th>\n",
       "      <th>pt_row_id</th>\n",
       "      <th>member_id</th>\n",
       "      <th>First Name</th>\n",
       "      <th>Last Name</th>\n",
       "      <th>Trainer Name</th>\n",
       "      <th>Session Date</th>\n",
       "      <th>Session Time</th>\n",
       "      <th>Session Type</th>\n",
       "      <th>Duration (mins)</th>\n",
       "      <th>Location</th>\n",
       "      <th>Cost</th>\n",
       "      <th>Status</th>\n",
       "      <th>Notes</th>\n",
       "    </tr>\n",
       "  </thead>\n",
       "  <tbody>\n",
       "    <tr>\n",
       "      <th>0</th>\n",
       "      <td>1</td>\n",
       "      <td>ABC1859</td>\n",
       "      <td>Caleb</td>\n",
       "      <td>Santiago</td>\n",
       "      <td>Anna White</td>\n",
       "      <td>2024-06-15</td>\n",
       "      <td>07:26 PM</td>\n",
       "      <td>HIIT</td>\n",
       "      <td>60</td>\n",
       "      <td>Studio A</td>\n",
       "      <td>$0.00</td>\n",
       "      <td>Completed</td>\n",
       "      <td>Complimentary trial session</td>\n",
       "    </tr>\n",
       "    <tr>\n",
       "      <th>1</th>\n",
       "      <td>2</td>\n",
       "      <td>ABC1382</td>\n",
       "      <td>Jane</td>\n",
       "      <td>None</td>\n",
       "      <td>Mike Brown</td>\n",
       "      <td>2025-08-20</td>\n",
       "      <td>07:51 PM</td>\n",
       "      <td>Strength Training</td>\n",
       "      <td>45</td>\n",
       "      <td>Studio C</td>\n",
       "      <td>$45.00</td>\n",
       "      <td>Completed</td>\n",
       "      <td>Focused on upper body</td>\n",
       "    </tr>\n",
       "    <tr>\n",
       "      <th>2</th>\n",
       "      <td>3</td>\n",
       "      <td>ABC1252</td>\n",
       "      <td>Brian</td>\n",
       "      <td>Harper</td>\n",
       "      <td>None</td>\n",
       "      <td>2025-05-10</td>\n",
       "      <td>05:49 PM</td>\n",
       "      <td>Yoga &amp; Flexibility</td>\n",
       "      <td>30</td>\n",
       "      <td>Studio C</td>\n",
       "      <td>$0.00</td>\n",
       "      <td>None</td>\n",
       "      <td>Complimentary trial session</td>\n",
       "    </tr>\n",
       "    <tr>\n",
       "      <th>3</th>\n",
       "      <td>4</td>\n",
       "      <td>ABC1794</td>\n",
       "      <td>Barry</td>\n",
       "      <td>Anderson</td>\n",
       "      <td>David Park</td>\n",
       "      <td>2024-04-12</td>\n",
       "      <td>08:31 AM</td>\n",
       "      <td>Yoga &amp; Flexibility</td>\n",
       "      <td>45</td>\n",
       "      <td>Studio C</td>\n",
       "      <td>$45.00</td>\n",
       "      <td>Completed</td>\n",
       "      <td>Introduced new poses</td>\n",
       "    </tr>\n",
       "    <tr>\n",
       "      <th>4</th>\n",
       "      <td>5</td>\n",
       "      <td>ABC1051</td>\n",
       "      <td>William</td>\n",
       "      <td>Ramirez</td>\n",
       "      <td>Anna White</td>\n",
       "      <td>2025-02-17</td>\n",
       "      <td>04:08 PM</td>\n",
       "      <td>Functional Training</td>\n",
       "      <td>60</td>\n",
       "      <td>Studio B</td>\n",
       "      <td>$60.00</td>\n",
       "      <td>Completed</td>\n",
       "      <td>Improved squat form</td>\n",
       "    </tr>\n",
       "  </tbody>\n",
       "</table>\n",
       "</div>"
      ],
      "text/plain": [
       "   pt_row_id member_id First Name Last Name Trainer Name Session Date  \\\n",
       "0          1   ABC1859      Caleb  Santiago   Anna White   2024-06-15   \n",
       "1          2   ABC1382       Jane      None   Mike Brown   2025-08-20   \n",
       "2          3   ABC1252     Brian    Harper          None   2025-05-10   \n",
       "3          4   ABC1794      Barry  Anderson   David Park   2024-04-12   \n",
       "4          5   ABC1051    William   Ramirez   Anna White   2025-02-17   \n",
       "\n",
       "  Session Time         Session Type  Duration (mins)  Location    Cost  \\\n",
       "0     07:26 PM                 HIIT               60  Studio A   $0.00   \n",
       "1     07:51 PM    Strength Training               45  Studio C  $45.00   \n",
       "2     05:49 PM   Yoga & Flexibility               30  Studio C   $0.00   \n",
       "3     08:31 AM   Yoga & Flexibility               45  Studio C  $45.00   \n",
       "4     04:08 PM  Functional Training               60  Studio B  $60.00   \n",
       "\n",
       "      Status                         Notes  \n",
       "0  Completed  Complimentary trial session   \n",
       "1  Completed         Focused on upper body  \n",
       "2       None   Complimentary trial session  \n",
       "3  Completed          Introduced new poses  \n",
       "4  Completed           Improved squat form  "
      ]
     },
     "execution_count": 3,
     "metadata": {},
     "output_type": "execute_result"
    }
   ],
   "source": [
    "df.head()"
   ]
  },
  {
   "cell_type": "code",
   "execution_count": 4,
   "id": "1f5cc41b",
   "metadata": {},
   "outputs": [
    {
     "data": {
      "text/plain": [
       "Index(['pt_row_id', 'member_id', 'first_name', 'last_name', 'trainer_name',\n",
       "       'session_date', 'session_time', 'session_type', 'duration_(mins)',\n",
       "       'location', 'cost', 'status', 'notes'],\n",
       "      dtype='object')"
      ]
     },
     "execution_count": 4,
     "metadata": {},
     "output_type": "execute_result"
    }
   ],
   "source": [
    "df.columns = df.columns.str.lower()\n",
    "df.columns = df.columns.str.replace(\" \", \"_\")\n",
    "df.columns"
   ]
  },
  {
   "cell_type": "code",
   "execution_count": 5,
   "id": "850c884a",
   "metadata": {},
   "outputs": [],
   "source": [
    "df = df[[\n",
    "       #'pt_row_id', \n",
    "       'member_id', \n",
    "       #'first_name', 'last_name', 'trainer_name',\n",
    "       'session_date', 'session_time', 'session_type' \n",
    "       #'duration', 'location',\n",
    "       #'cost', 'status', 'notes'\n",
    "       ]].copy()"
   ]
  },
  {
   "cell_type": "code",
   "execution_count": 6,
   "id": "fd9c6338",
   "metadata": {},
   "outputs": [
    {
     "data": {
      "text/html": [
       "<div>\n",
       "<style scoped>\n",
       "    .dataframe tbody tr th:only-of-type {\n",
       "        vertical-align: middle;\n",
       "    }\n",
       "\n",
       "    .dataframe tbody tr th {\n",
       "        vertical-align: top;\n",
       "    }\n",
       "\n",
       "    .dataframe thead th {\n",
       "        text-align: right;\n",
       "    }\n",
       "</style>\n",
       "<table border=\"1\" class=\"dataframe\">\n",
       "  <thead>\n",
       "    <tr style=\"text-align: right;\">\n",
       "      <th></th>\n",
       "      <th>member_id</th>\n",
       "      <th>session_date</th>\n",
       "      <th>session_time</th>\n",
       "      <th>session_type</th>\n",
       "    </tr>\n",
       "  </thead>\n",
       "  <tbody>\n",
       "    <tr>\n",
       "      <th>0</th>\n",
       "      <td>ABC1859</td>\n",
       "      <td>2024-06-15</td>\n",
       "      <td>07:26 PM</td>\n",
       "      <td>HIIT</td>\n",
       "    </tr>\n",
       "    <tr>\n",
       "      <th>1</th>\n",
       "      <td>ABC1382</td>\n",
       "      <td>2025-08-20</td>\n",
       "      <td>07:51 PM</td>\n",
       "      <td>Strength Training</td>\n",
       "    </tr>\n",
       "  </tbody>\n",
       "</table>\n",
       "</div>"
      ],
      "text/plain": [
       "  member_id session_date session_time       session_type\n",
       "0   ABC1859   2024-06-15     07:26 PM               HIIT\n",
       "1   ABC1382   2025-08-20     07:51 PM  Strength Training"
      ]
     },
     "execution_count": 6,
     "metadata": {},
     "output_type": "execute_result"
    }
   ],
   "source": [
    "df.head(2)"
   ]
  },
  {
   "cell_type": "code",
   "execution_count": 7,
   "id": "5569aac4",
   "metadata": {},
   "outputs": [],
   "source": [
    "df['session_date'] = pd.to_datetime(df['session_date'])"
   ]
  },
  {
   "cell_type": "code",
   "execution_count": 8,
   "id": "9dcc204c",
   "metadata": {},
   "outputs": [],
   "source": [
    "df['session_time'] = pd.to_datetime(df['session_time'], format=\"%I:%M %p\").dt.time"
   ]
  },
  {
   "cell_type": "code",
   "execution_count": 9,
   "id": "576e9512",
   "metadata": {},
   "outputs": [
    {
     "data": {
      "text/html": [
       "<div>\n",
       "<style scoped>\n",
       "    .dataframe tbody tr th:only-of-type {\n",
       "        vertical-align: middle;\n",
       "    }\n",
       "\n",
       "    .dataframe tbody tr th {\n",
       "        vertical-align: top;\n",
       "    }\n",
       "\n",
       "    .dataframe thead th {\n",
       "        text-align: right;\n",
       "    }\n",
       "</style>\n",
       "<table border=\"1\" class=\"dataframe\">\n",
       "  <thead>\n",
       "    <tr style=\"text-align: right;\">\n",
       "      <th></th>\n",
       "      <th>member_id</th>\n",
       "      <th>session_date</th>\n",
       "      <th>session_time</th>\n",
       "      <th>session_type</th>\n",
       "    </tr>\n",
       "  </thead>\n",
       "  <tbody>\n",
       "    <tr>\n",
       "      <th>0</th>\n",
       "      <td>ABC1859</td>\n",
       "      <td>2024-06-15</td>\n",
       "      <td>19:26:00</td>\n",
       "      <td>HIIT</td>\n",
       "    </tr>\n",
       "    <tr>\n",
       "      <th>1</th>\n",
       "      <td>ABC1382</td>\n",
       "      <td>2025-08-20</td>\n",
       "      <td>19:51:00</td>\n",
       "      <td>Strength Training</td>\n",
       "    </tr>\n",
       "    <tr>\n",
       "      <th>2</th>\n",
       "      <td>ABC1252</td>\n",
       "      <td>2025-05-10</td>\n",
       "      <td>17:49:00</td>\n",
       "      <td>Yoga &amp; Flexibility</td>\n",
       "    </tr>\n",
       "    <tr>\n",
       "      <th>3</th>\n",
       "      <td>ABC1794</td>\n",
       "      <td>2024-04-12</td>\n",
       "      <td>08:31:00</td>\n",
       "      <td>Yoga &amp; Flexibility</td>\n",
       "    </tr>\n",
       "    <tr>\n",
       "      <th>4</th>\n",
       "      <td>ABC1051</td>\n",
       "      <td>2025-02-17</td>\n",
       "      <td>16:08:00</td>\n",
       "      <td>Functional Training</td>\n",
       "    </tr>\n",
       "  </tbody>\n",
       "</table>\n",
       "</div>"
      ],
      "text/plain": [
       "  member_id session_date session_time         session_type\n",
       "0   ABC1859   2024-06-15     19:26:00                 HIIT\n",
       "1   ABC1382   2025-08-20     19:51:00    Strength Training\n",
       "2   ABC1252   2025-05-10     17:49:00   Yoga & Flexibility\n",
       "3   ABC1794   2024-04-12     08:31:00   Yoga & Flexibility\n",
       "4   ABC1051   2025-02-17     16:08:00  Functional Training"
      ]
     },
     "execution_count": 9,
     "metadata": {},
     "output_type": "execute_result"
    }
   ],
   "source": [
    "df.head()"
   ]
  },
  {
   "cell_type": "code",
   "execution_count": 10,
   "id": "914054b7",
   "metadata": {},
   "outputs": [
    {
     "data": {
      "text/plain": [
       "array(['HIIT', 'Strength Training', 'Yoga & Flexibility',\n",
       "       'Functional Training'], dtype=object)"
      ]
     },
     "execution_count": 10,
     "metadata": {},
     "output_type": "execute_result"
    }
   ],
   "source": [
    "df['session_type'].unique()"
   ]
  },
  {
   "cell_type": "code",
   "execution_count": 11,
   "id": "5b62e5ca",
   "metadata": {},
   "outputs": [
    {
     "data": {
      "text/plain": [
       "array(['hiit', 'strength_training', 'yoga_&_flexibility',\n",
       "       'functional_training'], dtype=object)"
      ]
     },
     "execution_count": 11,
     "metadata": {},
     "output_type": "execute_result"
    }
   ],
   "source": [
    "df['session_type'] = df['session_type'].str.lower().str.replace(' ', '_')\n",
    "df['session_type'].unique()"
   ]
  },
  {
   "cell_type": "code",
   "execution_count": 12,
   "id": "07a7c399",
   "metadata": {},
   "outputs": [
    {
     "data": {
      "text/plain": [
       "member_id       0\n",
       "session_date    0\n",
       "session_time    0\n",
       "session_type    0\n",
       "dtype: int64"
      ]
     },
     "execution_count": 12,
     "metadata": {},
     "output_type": "execute_result"
    }
   ],
   "source": [
    "df.isna().sum()"
   ]
  },
  {
   "cell_type": "code",
   "execution_count": 13,
   "id": "0e1da4f6",
   "metadata": {},
   "outputs": [
    {
     "data": {
      "text/html": [
       "<div>\n",
       "<style scoped>\n",
       "    .dataframe tbody tr th:only-of-type {\n",
       "        vertical-align: middle;\n",
       "    }\n",
       "\n",
       "    .dataframe tbody tr th {\n",
       "        vertical-align: top;\n",
       "    }\n",
       "\n",
       "    .dataframe thead th {\n",
       "        text-align: right;\n",
       "    }\n",
       "</style>\n",
       "<table border=\"1\" class=\"dataframe\">\n",
       "  <thead>\n",
       "    <tr style=\"text-align: right;\">\n",
       "      <th></th>\n",
       "      <th>member_id</th>\n",
       "      <th>session_date</th>\n",
       "      <th>session_time</th>\n",
       "      <th>session_type</th>\n",
       "    </tr>\n",
       "  </thead>\n",
       "  <tbody>\n",
       "    <tr>\n",
       "      <th>0</th>\n",
       "      <td>ABC1859</td>\n",
       "      <td>2024-06-15</td>\n",
       "      <td>19:26:00</td>\n",
       "      <td>hiit</td>\n",
       "    </tr>\n",
       "    <tr>\n",
       "      <th>1</th>\n",
       "      <td>ABC1382</td>\n",
       "      <td>2025-08-20</td>\n",
       "      <td>19:51:00</td>\n",
       "      <td>strength_training</td>\n",
       "    </tr>\n",
       "    <tr>\n",
       "      <th>2</th>\n",
       "      <td>ABC1252</td>\n",
       "      <td>2025-05-10</td>\n",
       "      <td>17:49:00</td>\n",
       "      <td>yoga_&amp;_flexibility</td>\n",
       "    </tr>\n",
       "    <tr>\n",
       "      <th>3</th>\n",
       "      <td>ABC1794</td>\n",
       "      <td>2024-04-12</td>\n",
       "      <td>08:31:00</td>\n",
       "      <td>yoga_&amp;_flexibility</td>\n",
       "    </tr>\n",
       "    <tr>\n",
       "      <th>4</th>\n",
       "      <td>ABC1051</td>\n",
       "      <td>2025-02-17</td>\n",
       "      <td>16:08:00</td>\n",
       "      <td>functional_training</td>\n",
       "    </tr>\n",
       "  </tbody>\n",
       "</table>\n",
       "</div>"
      ],
      "text/plain": [
       "  member_id session_date session_time         session_type\n",
       "0   ABC1859   2024-06-15     19:26:00                 hiit\n",
       "1   ABC1382   2025-08-20     19:51:00    strength_training\n",
       "2   ABC1252   2025-05-10     17:49:00   yoga_&_flexibility\n",
       "3   ABC1794   2024-04-12     08:31:00   yoga_&_flexibility\n",
       "4   ABC1051   2025-02-17     16:08:00  functional_training"
      ]
     },
     "execution_count": 13,
     "metadata": {},
     "output_type": "execute_result"
    }
   ],
   "source": [
    "df.head()"
   ]
  },
  {
   "cell_type": "code",
   "execution_count": 14,
   "id": "722d0d15",
   "metadata": {},
   "outputs": [
    {
     "data": {
      "text/html": [
       "<div>\n",
       "<style scoped>\n",
       "    .dataframe tbody tr th:only-of-type {\n",
       "        vertical-align: middle;\n",
       "    }\n",
       "\n",
       "    .dataframe tbody tr th {\n",
       "        vertical-align: top;\n",
       "    }\n",
       "\n",
       "    .dataframe thead th {\n",
       "        text-align: right;\n",
       "    }\n",
       "</style>\n",
       "<table border=\"1\" class=\"dataframe\">\n",
       "  <thead>\n",
       "    <tr style=\"text-align: right;\">\n",
       "      <th></th>\n",
       "      <th>member_id</th>\n",
       "      <th>session_date</th>\n",
       "      <th>session_time</th>\n",
       "      <th>session_type</th>\n",
       "    </tr>\n",
       "  </thead>\n",
       "  <tbody>\n",
       "    <tr>\n",
       "      <th>1</th>\n",
       "      <td>ABC1382</td>\n",
       "      <td>2025-08-20</td>\n",
       "      <td>19:51:00</td>\n",
       "      <td>strength_training</td>\n",
       "    </tr>\n",
       "    <tr>\n",
       "      <th>131</th>\n",
       "      <td>ABC1382</td>\n",
       "      <td>2025-08-20</td>\n",
       "      <td>18:21:00</td>\n",
       "      <td>yoga_&amp;_flexibility</td>\n",
       "    </tr>\n",
       "    <tr>\n",
       "      <th>182</th>\n",
       "      <td>ABC1382</td>\n",
       "      <td>2025-08-19</td>\n",
       "      <td>07:43:00</td>\n",
       "      <td>strength_training</td>\n",
       "    </tr>\n",
       "    <tr>\n",
       "      <th>200</th>\n",
       "      <td>ABC1382</td>\n",
       "      <td>2025-08-20</td>\n",
       "      <td>19:51:00</td>\n",
       "      <td>strength_training</td>\n",
       "    </tr>\n",
       "  </tbody>\n",
       "</table>\n",
       "</div>"
      ],
      "text/plain": [
       "    member_id session_date session_time        session_type\n",
       "1     ABC1382   2025-08-20     19:51:00   strength_training\n",
       "131   ABC1382   2025-08-20     18:21:00  yoga_&_flexibility\n",
       "182   ABC1382   2025-08-19     07:43:00   strength_training\n",
       "200   ABC1382   2025-08-20     19:51:00   strength_training"
      ]
     },
     "execution_count": 14,
     "metadata": {},
     "output_type": "execute_result"
    }
   ],
   "source": [
    "df[df['member_id'] == \"ABC1382\"]"
   ]
  },
  {
   "cell_type": "code",
   "execution_count": 15,
   "id": "a4a796d0",
   "metadata": {},
   "outputs": [
    {
     "data": {
      "text/html": [
       "<div>\n",
       "<style scoped>\n",
       "    .dataframe tbody tr th:only-of-type {\n",
       "        vertical-align: middle;\n",
       "    }\n",
       "\n",
       "    .dataframe tbody tr th {\n",
       "        vertical-align: top;\n",
       "    }\n",
       "\n",
       "    .dataframe thead th {\n",
       "        text-align: right;\n",
       "    }\n",
       "</style>\n",
       "<table border=\"1\" class=\"dataframe\">\n",
       "  <thead>\n",
       "    <tr style=\"text-align: right;\">\n",
       "      <th></th>\n",
       "      <th>member_id</th>\n",
       "      <th>session_date</th>\n",
       "      <th>session_time</th>\n",
       "      <th>session_type</th>\n",
       "      <th>total_pt_sessions</th>\n",
       "    </tr>\n",
       "  </thead>\n",
       "  <tbody>\n",
       "    <tr>\n",
       "      <th>1</th>\n",
       "      <td>ABC1382</td>\n",
       "      <td>2025-08-20</td>\n",
       "      <td>19:51:00</td>\n",
       "      <td>strength_training</td>\n",
       "      <td>4</td>\n",
       "    </tr>\n",
       "    <tr>\n",
       "      <th>131</th>\n",
       "      <td>ABC1382</td>\n",
       "      <td>2025-08-20</td>\n",
       "      <td>18:21:00</td>\n",
       "      <td>yoga_&amp;_flexibility</td>\n",
       "      <td>4</td>\n",
       "    </tr>\n",
       "    <tr>\n",
       "      <th>182</th>\n",
       "      <td>ABC1382</td>\n",
       "      <td>2025-08-19</td>\n",
       "      <td>07:43:00</td>\n",
       "      <td>strength_training</td>\n",
       "      <td>4</td>\n",
       "    </tr>\n",
       "    <tr>\n",
       "      <th>200</th>\n",
       "      <td>ABC1382</td>\n",
       "      <td>2025-08-20</td>\n",
       "      <td>19:51:00</td>\n",
       "      <td>strength_training</td>\n",
       "      <td>4</td>\n",
       "    </tr>\n",
       "  </tbody>\n",
       "</table>\n",
       "</div>"
      ],
      "text/plain": [
       "    member_id session_date session_time        session_type  total_pt_sessions\n",
       "1     ABC1382   2025-08-20     19:51:00   strength_training                  4\n",
       "131   ABC1382   2025-08-20     18:21:00  yoga_&_flexibility                  4\n",
       "182   ABC1382   2025-08-19     07:43:00   strength_training                  4\n",
       "200   ABC1382   2025-08-20     19:51:00   strength_training                  4"
      ]
     },
     "execution_count": 15,
     "metadata": {},
     "output_type": "execute_result"
    }
   ],
   "source": [
    "df[\"total_pt_sessions\"] = df.groupby(\"member_id\")[\"session_type\"].transform(\"count\")\n",
    "\n",
    "df[df['member_id'] == \"ABC1382\"]"
   ]
  },
  {
   "cell_type": "code",
   "execution_count": 16,
   "id": "d7e63442",
   "metadata": {},
   "outputs": [
    {
     "data": {
      "text/html": [
       "<div>\n",
       "<style scoped>\n",
       "    .dataframe tbody tr th:only-of-type {\n",
       "        vertical-align: middle;\n",
       "    }\n",
       "\n",
       "    .dataframe tbody tr th {\n",
       "        vertical-align: top;\n",
       "    }\n",
       "\n",
       "    .dataframe thead th {\n",
       "        text-align: right;\n",
       "    }\n",
       "</style>\n",
       "<table border=\"1\" class=\"dataframe\">\n",
       "  <thead>\n",
       "    <tr style=\"text-align: right;\">\n",
       "      <th></th>\n",
       "      <th>member_id</th>\n",
       "      <th>session_date</th>\n",
       "      <th>session_time</th>\n",
       "      <th>session_type</th>\n",
       "      <th>total_pt_sessions</th>\n",
       "      <th>favorite_pt_session</th>\n",
       "    </tr>\n",
       "  </thead>\n",
       "  <tbody>\n",
       "    <tr>\n",
       "      <th>1</th>\n",
       "      <td>ABC1382</td>\n",
       "      <td>2025-08-20</td>\n",
       "      <td>19:51:00</td>\n",
       "      <td>strength_training</td>\n",
       "      <td>4</td>\n",
       "      <td>strength_training</td>\n",
       "    </tr>\n",
       "    <tr>\n",
       "      <th>131</th>\n",
       "      <td>ABC1382</td>\n",
       "      <td>2025-08-20</td>\n",
       "      <td>18:21:00</td>\n",
       "      <td>yoga_&amp;_flexibility</td>\n",
       "      <td>4</td>\n",
       "      <td>strength_training</td>\n",
       "    </tr>\n",
       "    <tr>\n",
       "      <th>182</th>\n",
       "      <td>ABC1382</td>\n",
       "      <td>2025-08-19</td>\n",
       "      <td>07:43:00</td>\n",
       "      <td>strength_training</td>\n",
       "      <td>4</td>\n",
       "      <td>strength_training</td>\n",
       "    </tr>\n",
       "    <tr>\n",
       "      <th>200</th>\n",
       "      <td>ABC1382</td>\n",
       "      <td>2025-08-20</td>\n",
       "      <td>19:51:00</td>\n",
       "      <td>strength_training</td>\n",
       "      <td>4</td>\n",
       "      <td>strength_training</td>\n",
       "    </tr>\n",
       "  </tbody>\n",
       "</table>\n",
       "</div>"
      ],
      "text/plain": [
       "    member_id session_date session_time        session_type  \\\n",
       "1     ABC1382   2025-08-20     19:51:00   strength_training   \n",
       "131   ABC1382   2025-08-20     18:21:00  yoga_&_flexibility   \n",
       "182   ABC1382   2025-08-19     07:43:00   strength_training   \n",
       "200   ABC1382   2025-08-20     19:51:00   strength_training   \n",
       "\n",
       "     total_pt_sessions favorite_pt_session  \n",
       "1                    4   strength_training  \n",
       "131                  4   strength_training  \n",
       "182                  4   strength_training  \n",
       "200                  4   strength_training  "
      ]
     },
     "execution_count": 16,
     "metadata": {},
     "output_type": "execute_result"
    }
   ],
   "source": [
    "member_fav_pt = (\n",
    "    df.groupby(['member_id', 'session_type'])\n",
    "      .size()\n",
    "      .reset_index(name='count')\n",
    ")\n",
    "\n",
    "# Pick pt with max count per member\n",
    "member_fav_pt = member_fav_pt.loc[\n",
    "    member_fav_pt.groupby('member_id')['count'].idxmax()\n",
    "]\n",
    "\n",
    "member_fav_pt = member_fav_pt[['member_id', 'session_type']].rename(\n",
    "    columns={'session_type': 'favorite_pt_session'}\n",
    ")\n",
    "\n",
    "df = df.merge(member_fav_pt, on=\"member_id\", how=\"left\")\n",
    "\n",
    "df[df['member_id'] == \"ABC1382\"]"
   ]
  },
  {
   "cell_type": "code",
   "execution_count": 17,
   "id": "f7c2fe35",
   "metadata": {},
   "outputs": [
    {
     "data": {
      "text/html": [
       "<div>\n",
       "<style scoped>\n",
       "    .dataframe tbody tr th:only-of-type {\n",
       "        vertical-align: middle;\n",
       "    }\n",
       "\n",
       "    .dataframe tbody tr th {\n",
       "        vertical-align: top;\n",
       "    }\n",
       "\n",
       "    .dataframe thead th {\n",
       "        text-align: right;\n",
       "    }\n",
       "</style>\n",
       "<table border=\"1\" class=\"dataframe\">\n",
       "  <thead>\n",
       "    <tr style=\"text-align: right;\">\n",
       "      <th></th>\n",
       "      <th>member_id</th>\n",
       "      <th>session_date</th>\n",
       "      <th>session_time</th>\n",
       "      <th>session_type</th>\n",
       "      <th>total_pt_sessions</th>\n",
       "      <th>favorite_pt_session</th>\n",
       "      <th>day_of_week</th>\n",
       "      <th>hour</th>\n",
       "      <th>favorite_day</th>\n",
       "      <th>favorite_hour</th>\n",
       "    </tr>\n",
       "  </thead>\n",
       "  <tbody>\n",
       "    <tr>\n",
       "      <th>1</th>\n",
       "      <td>ABC1382</td>\n",
       "      <td>2025-08-20</td>\n",
       "      <td>19:51:00</td>\n",
       "      <td>strength_training</td>\n",
       "      <td>4</td>\n",
       "      <td>strength_training</td>\n",
       "      <td>Wednesday</td>\n",
       "      <td>19</td>\n",
       "      <td>Wednesday</td>\n",
       "      <td>19</td>\n",
       "    </tr>\n",
       "    <tr>\n",
       "      <th>131</th>\n",
       "      <td>ABC1382</td>\n",
       "      <td>2025-08-20</td>\n",
       "      <td>18:21:00</td>\n",
       "      <td>yoga_&amp;_flexibility</td>\n",
       "      <td>4</td>\n",
       "      <td>strength_training</td>\n",
       "      <td>Wednesday</td>\n",
       "      <td>18</td>\n",
       "      <td>Wednesday</td>\n",
       "      <td>19</td>\n",
       "    </tr>\n",
       "    <tr>\n",
       "      <th>182</th>\n",
       "      <td>ABC1382</td>\n",
       "      <td>2025-08-19</td>\n",
       "      <td>07:43:00</td>\n",
       "      <td>strength_training</td>\n",
       "      <td>4</td>\n",
       "      <td>strength_training</td>\n",
       "      <td>Tuesday</td>\n",
       "      <td>7</td>\n",
       "      <td>Wednesday</td>\n",
       "      <td>19</td>\n",
       "    </tr>\n",
       "    <tr>\n",
       "      <th>200</th>\n",
       "      <td>ABC1382</td>\n",
       "      <td>2025-08-20</td>\n",
       "      <td>19:51:00</td>\n",
       "      <td>strength_training</td>\n",
       "      <td>4</td>\n",
       "      <td>strength_training</td>\n",
       "      <td>Wednesday</td>\n",
       "      <td>19</td>\n",
       "      <td>Wednesday</td>\n",
       "      <td>19</td>\n",
       "    </tr>\n",
       "  </tbody>\n",
       "</table>\n",
       "</div>"
      ],
      "text/plain": [
       "    member_id session_date session_time        session_type  \\\n",
       "1     ABC1382   2025-08-20     19:51:00   strength_training   \n",
       "131   ABC1382   2025-08-20     18:21:00  yoga_&_flexibility   \n",
       "182   ABC1382   2025-08-19     07:43:00   strength_training   \n",
       "200   ABC1382   2025-08-20     19:51:00   strength_training   \n",
       "\n",
       "     total_pt_sessions favorite_pt_session day_of_week  hour favorite_day  \\\n",
       "1                    4   strength_training   Wednesday    19    Wednesday   \n",
       "131                  4   strength_training   Wednesday    18    Wednesday   \n",
       "182                  4   strength_training     Tuesday     7    Wednesday   \n",
       "200                  4   strength_training   Wednesday    19    Wednesday   \n",
       "\n",
       "     favorite_hour  \n",
       "1               19  \n",
       "131             19  \n",
       "182             19  \n",
       "200             19  "
      ]
     },
     "execution_count": 17,
     "metadata": {},
     "output_type": "execute_result"
    }
   ],
   "source": [
    "# extract features\n",
    "df['day_of_week'] = df['session_date'].dt.day_name()\n",
    "df['hour'] = df['session_time'].apply(lambda t: t.hour)\n",
    "\n",
    "# favorite day\n",
    "fav_day = (\n",
    "    df.groupby('member_id')['day_of_week']\n",
    "      .agg(lambda x: x.mode()[0])\n",
    "      .reset_index(name='favorite_day')\n",
    ")\n",
    "\n",
    "# favorite hour\n",
    "fav_hour = (\n",
    "    df.groupby('member_id')['hour']\n",
    "      .agg(lambda x: x.mode()[0])\n",
    "      .reset_index(name='favorite_hour')\n",
    ")\n",
    "\n",
    "# merge back\n",
    "df = df.merge(fav_day, on='member_id', how='left')\n",
    "df = df.merge(fav_hour, on='member_id', how='left')\n",
    "\n",
    "df[df['member_id'] == \"ABC1382\"]"
   ]
  },
  {
   "cell_type": "code",
   "execution_count": 18,
   "id": "c48fca9a",
   "metadata": {},
   "outputs": [
    {
     "data": {
      "text/html": [
       "<div>\n",
       "<style scoped>\n",
       "    .dataframe tbody tr th:only-of-type {\n",
       "        vertical-align: middle;\n",
       "    }\n",
       "\n",
       "    .dataframe tbody tr th {\n",
       "        vertical-align: top;\n",
       "    }\n",
       "\n",
       "    .dataframe thead th {\n",
       "        text-align: right;\n",
       "    }\n",
       "</style>\n",
       "<table border=\"1\" class=\"dataframe\">\n",
       "  <thead>\n",
       "    <tr style=\"text-align: right;\">\n",
       "      <th></th>\n",
       "      <th>member_id</th>\n",
       "      <th>total_pt_sessions</th>\n",
       "      <th>favorite_pt_session</th>\n",
       "      <th>favorite_day</th>\n",
       "      <th>favorite_hour</th>\n",
       "      <th>latest_session</th>\n",
       "    </tr>\n",
       "  </thead>\n",
       "  <tbody>\n",
       "    <tr>\n",
       "      <th>1</th>\n",
       "      <td>ABC1382</td>\n",
       "      <td>4</td>\n",
       "      <td>strength_training</td>\n",
       "      <td>Wednesday</td>\n",
       "      <td>19</td>\n",
       "      <td>2025-08-20</td>\n",
       "    </tr>\n",
       "  </tbody>\n",
       "</table>\n",
       "</div>"
      ],
      "text/plain": [
       "  member_id  total_pt_sessions favorite_pt_session favorite_day  \\\n",
       "1   ABC1382                  4   strength_training    Wednesday   \n",
       "\n",
       "   favorite_hour latest_session  \n",
       "1             19     2025-08-20  "
      ]
     },
     "execution_count": 18,
     "metadata": {},
     "output_type": "execute_result"
    }
   ],
   "source": [
    "# last session date per member\n",
    "last_session = (\n",
    "    df.groupby('member_id')['session_date']\n",
    "      .max()\n",
    "      .reset_index(name='latest_session')\n",
    ")\n",
    "\n",
    "# now build the member-level table\n",
    "member_features = (\n",
    "    df[['member_id','total_pt_sessions','favorite_pt_session','favorite_day','favorite_hour']]\n",
    "    .drop_duplicates('member_id')\n",
    "    .merge(last_session, on='member_id', how='left')\n",
    ")\n",
    "\n",
    "member_features[member_features['member_id'] == \"ABC1382\"]"
   ]
  },
  {
   "cell_type": "code",
   "execution_count": 19,
   "id": "7c65babb",
   "metadata": {},
   "outputs": [
    {
     "data": {
      "text/html": [
       "<div>\n",
       "<style scoped>\n",
       "    .dataframe tbody tr th:only-of-type {\n",
       "        vertical-align: middle;\n",
       "    }\n",
       "\n",
       "    .dataframe tbody tr th {\n",
       "        vertical-align: top;\n",
       "    }\n",
       "\n",
       "    .dataframe thead th {\n",
       "        text-align: right;\n",
       "    }\n",
       "</style>\n",
       "<table border=\"1\" class=\"dataframe\">\n",
       "  <thead>\n",
       "    <tr style=\"text-align: right;\">\n",
       "      <th></th>\n",
       "      <th>member_id</th>\n",
       "      <th>total_pt_sessions</th>\n",
       "      <th>favorite_pt_session</th>\n",
       "      <th>favorite_day</th>\n",
       "      <th>favorite_hour</th>\n",
       "      <th>latest_session</th>\n",
       "    </tr>\n",
       "  </thead>\n",
       "  <tbody>\n",
       "    <tr>\n",
       "      <th>0</th>\n",
       "      <td>ABC1859</td>\n",
       "      <td>2</td>\n",
       "      <td>hiit</td>\n",
       "      <td>Saturday</td>\n",
       "      <td>6</td>\n",
       "      <td>2024-06-15</td>\n",
       "    </tr>\n",
       "    <tr>\n",
       "      <th>1</th>\n",
       "      <td>ABC1382</td>\n",
       "      <td>4</td>\n",
       "      <td>strength_training</td>\n",
       "      <td>Wednesday</td>\n",
       "      <td>19</td>\n",
       "      <td>2025-08-20</td>\n",
       "    </tr>\n",
       "    <tr>\n",
       "      <th>2</th>\n",
       "      <td>ABC1252</td>\n",
       "      <td>2</td>\n",
       "      <td>strength_training</td>\n",
       "      <td>Saturday</td>\n",
       "      <td>17</td>\n",
       "      <td>2025-05-10</td>\n",
       "    </tr>\n",
       "    <tr>\n",
       "      <th>3</th>\n",
       "      <td>ABC1794</td>\n",
       "      <td>2</td>\n",
       "      <td>functional_training</td>\n",
       "      <td>Friday</td>\n",
       "      <td>8</td>\n",
       "      <td>2024-04-12</td>\n",
       "    </tr>\n",
       "    <tr>\n",
       "      <th>4</th>\n",
       "      <td>ABC1051</td>\n",
       "      <td>2</td>\n",
       "      <td>functional_training</td>\n",
       "      <td>Monday</td>\n",
       "      <td>16</td>\n",
       "      <td>2025-02-17</td>\n",
       "    </tr>\n",
       "    <tr>\n",
       "      <th>5</th>\n",
       "      <td>ABC1250</td>\n",
       "      <td>1</td>\n",
       "      <td>yoga_&amp;_flexibility</td>\n",
       "      <td>Tuesday</td>\n",
       "      <td>8</td>\n",
       "      <td>2024-04-23</td>\n",
       "    </tr>\n",
       "  </tbody>\n",
       "</table>\n",
       "</div>"
      ],
      "text/plain": [
       "  member_id  total_pt_sessions  favorite_pt_session favorite_day  \\\n",
       "0   ABC1859                  2                 hiit     Saturday   \n",
       "1   ABC1382                  4    strength_training    Wednesday   \n",
       "2   ABC1252                  2    strength_training     Saturday   \n",
       "3   ABC1794                  2  functional_training       Friday   \n",
       "4   ABC1051                  2  functional_training       Monday   \n",
       "5   ABC1250                  1   yoga_&_flexibility      Tuesday   \n",
       "\n",
       "   favorite_hour latest_session  \n",
       "0              6     2024-06-15  \n",
       "1             19     2025-08-20  \n",
       "2             17     2025-05-10  \n",
       "3              8     2024-04-12  \n",
       "4             16     2025-02-17  \n",
       "5              8     2024-04-23  "
      ]
     },
     "execution_count": 19,
     "metadata": {},
     "output_type": "execute_result"
    }
   ],
   "source": [
    "member_features.head(6)"
   ]
  },
  {
   "cell_type": "code",
   "execution_count": 20,
   "id": "62419ed4",
   "metadata": {},
   "outputs": [
    {
     "data": {
      "text/plain": [
       "(139, 6)"
      ]
     },
     "execution_count": 20,
     "metadata": {},
     "output_type": "execute_result"
    }
   ],
   "source": [
    "member_features.shape"
   ]
  },
  {
   "cell_type": "markdown",
   "id": "69f17528",
   "metadata": {},
   "source": [
    "### Load to clean_db"
   ]
  },
  {
   "cell_type": "code",
   "execution_count": null,
   "id": "1cb2de20",
   "metadata": {},
   "outputs": [],
   "source": [
    "con_out = sqlite3.connect(r\"__PATH__\")\n",
    "member_features.to_sql(\"member_PT\", con_out, if_exists=\"replace\", index=False)\n",
    "con_out.close()"
   ]
  },
  {
   "cell_type": "markdown",
   "id": "9572f109",
   "metadata": {},
   "source": [
    "## Exploration"
   ]
  },
  {
   "cell_type": "code",
   "execution_count": 22,
   "id": "8f9bac0d",
   "metadata": {},
   "outputs": [],
   "source": [
    "# Order the days\n",
    "dow_order = ['Monday','Tuesday','Wednesday','Thursday','Friday','Saturday','Sunday']\n",
    "\n",
    "# Count how many members have each favorite_day\n",
    "dow_pt_counts = (\n",
    "    member_features['favorite_day']\n",
    "    .value_counts()\n",
    "    .reindex(dow_order, fill_value=0)\n",
    ")"
   ]
  },
  {
   "cell_type": "code",
   "execution_count": 23,
   "id": "b3e1204a",
   "metadata": {},
   "outputs": [
    {
     "data": {
      "image/png": "[encoded data removed]",
      "text/plain": [
       "<Figure size 800x500 with 1 Axes>"
      ]
     },
     "metadata": {},
     "output_type": "display_data"
    }
   ],
   "source": [
    "plt.figure(figsize=(8,5))\n",
    "sns.lineplot(x=dow_pt_counts.index, y=dow_pt_counts.values, marker=\"o\")\n",
    "plt.title(\"Members' Favorite Day of the Week\")\n",
    "plt.xlabel(\"Day of Week\")\n",
    "plt.ylabel(\"Number of Members\")\n",
    "plt.grid(True, linestyle=\"--\", alpha=0.6)\n",
    "plt.show()"
   ]
  },
  {
   "cell_type": "code",
   "execution_count": 24,
   "id": "bd121171",
   "metadata": {},
   "outputs": [
    {
     "data": {
      "text/plain": [
       "favorite_pt_session\n",
       "functional_training    52\n",
       "strength_training      36\n",
       "hiit                   35\n",
       "yoga_&_flexibility     16\n",
       "Name: count, dtype: int64"
      ]
     },
     "execution_count": 24,
     "metadata": {},
     "output_type": "execute_result"
    }
   ],
   "source": [
    "pt_session_counts = member_features['favorite_pt_session'].value_counts()\n",
    "pt_session_counts"
   ]
  },
  {
   "cell_type": "code",
   "execution_count": 25,
   "id": "c2cb75e7",
   "metadata": {},
   "outputs": [
    {
     "data": {
      "image/png": "[encoded data removed]",
      "text/plain": [
       "<Figure size 800x500 with 1 Axes>"
      ]
     },
     "metadata": {},
     "output_type": "display_data"
    }
   ],
   "source": [
    "plt.figure(figsize=(8,5))\n",
    "sns.barplot(x=pt_session_counts.index, y=pt_session_counts.values)\n",
    "plt.title(\"Favorite PT Session per Member\")\n",
    "plt.xlabel(\"PT Session\")\n",
    "plt.ylabel(\"Number of Members\")\n",
    "plt.xticks(rotation=45)\n",
    "plt.show()"
   ]
  },
  {
   "cell_type": "code",
   "execution_count": 26,
   "id": "61e3ae4f",
   "metadata": {},
   "outputs": [],
   "source": [
    "# ordered days\n",
    "days_order = ['Monday','Tuesday','Wednesday','Thursday','Friday','Saturday','Sunday']\n",
    "dow_dtype = pd.CategoricalDtype(days_order, ordered=True)\n",
    "\n",
    "# make sure favorite_day is ordered categorical\n",
    "member_features['favorite_day'] = member_features['favorite_day'].astype(dow_dtype)\n",
    "\n",
    "# pivot: rows = day, cols = hour, values = # of members\n",
    "heatmap_pivot = (\n",
    "    member_features.groupby(['favorite_day','favorite_hour'], observed=True)\n",
    "      .size()\n",
    "      .unstack(fill_value=0)\n",
    "      .reindex(days_order)        # keep rows in weekday order\n",
    "      .sort_index(axis=1)         # keep hours in order\n",
    ")"
   ]
  },
  {
   "cell_type": "code",
   "execution_count": 27,
   "id": "5200454a",
   "metadata": {},
   "outputs": [
    {
     "data": {
      "image/png": "[encoded data removed]",
      "text/plain": [
       "<Figure size 1200x600 with 2 Axes>"
      ]
     },
     "metadata": {},
     "output_type": "display_data"
    }
   ],
   "source": [
    "# 4) Plot\n",
    "plt.figure(figsize=(12,6))\n",
    "sns.heatmap(\n",
    "    heatmap_pivot, annot=True, fmt=\".0f\",\n",
    "    cmap=\"YlGnBu\", linewidths=.5, cbar_kws={\"label\": \"Attendance\"}\n",
    ")\n",
    "plt.title(\"PT Popularity Heatmap (Day vs Hour)\")\n",
    "plt.xlabel(\"Hour of Day\")\n",
    "plt.ylabel(\"Day of Week\")\n",
    "plt.tight_layout()\n",
    "plt.show()"
   ]
  },
  {
   "cell_type": "code",
   "execution_count": null,
   "id": "f4ad886e",
   "metadata": {},
   "outputs": [],
   "source": []
  }
 ],
 "metadata": {
  "kernelspec": {
   "display_name": "Python 3",
   "language": "python",
   "name": "python3"
  },
  "language_info": {
   "codemirror_mode": {
    "name": "ipython",
    "version": 3
   },
   "file_extension": ".py",
   "mimetype": "text/x-python",
   "name": "python",
   "nbconvert_exporter": "python",
   "pygments_lexer": "ipython3",
   "version": "3.13.7"
  }
 },
 "nbformat": 4,
 "nbformat_minor": 5
}
