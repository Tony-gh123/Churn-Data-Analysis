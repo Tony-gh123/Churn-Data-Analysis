{
 "cells": [
  {
   "cell_type": "markdown",
   "id": "3d612204",
   "metadata": {},
   "source": [
    "# Member_Agreements (MA): Data Discovery, Preparation & Insights"
   ]
  },
  {
   "cell_type": "markdown",
   "id": "7704fc45",
   "metadata": {},
   "source": [
    "### Target Attributes: member_id, agreement_type, StartDate, CancelDate, & Cancel Reason."
   ]
  },
  {
   "cell_type": "code",
   "execution_count": 2,
   "id": "17ba78d5",
   "metadata": {},
   "outputs": [],
   "source": [
    "import sqlite3\n",
    "from datetime import date\n",
    "import numpy as np\n",
    "import matplotlib.pylab as plt\n",
    "import pandas as pd\n",
    "import seaborn as sns\n",
    "\n",
    "conn = sqlite3.connect(r\"__PATH__\")\n",
    "\n",
    "df = pd.read_sql_query(\"SELECT * FROM member_agreements\", conn)"
   ]
  },
  {
   "cell_type": "markdown",
   "id": "fcdeb747",
   "metadata": {},
   "source": [
    "### Data Understanding, Cleaning & Preparation"
   ]
  },
  {
   "cell_type": "code",
   "execution_count": 3,
   "id": "a9dcdf4e",
   "metadata": {},
   "outputs": [
    {
     "data": {
      "text/plain": [
       "(1000, 15)"
      ]
     },
     "execution_count": 3,
     "metadata": {},
     "output_type": "execute_result"
    }
   ],
   "source": [
    "df.shape"
   ]
  },
  {
   "cell_type": "code",
   "execution_count": 4,
   "id": "6c311e49",
   "metadata": {},
   "outputs": [
    {
     "data": {
      "text/html": [
       "<div>\n",
       "<style scoped>\n",
       "    .dataframe tbody tr th:only-of-type {\n",
       "        vertical-align: middle;\n",
       "    }\n",
       "\n",
       "    .dataframe tbody tr th {\n",
       "        vertical-align: top;\n",
       "    }\n",
       "\n",
       "    .dataframe thead th {\n",
       "        text-align: right;\n",
       "    }\n",
       "</style>\n",
       "<table border=\"1\" class=\"dataframe\">\n",
       "  <thead>\n",
       "    <tr style=\"text-align: right;\">\n",
       "      <th></th>\n",
       "      <th>agreement_row_id</th>\n",
       "      <th>member_id</th>\n",
       "      <th>First Name</th>\n",
       "      <th>Last Name</th>\n",
       "      <th>Agreement ID</th>\n",
       "      <th>Agreement Type</th>\n",
       "      <th>Sales Person</th>\n",
       "      <th>Promotion</th>\n",
       "      <th>Bundles</th>\n",
       "      <th>Payment Plan</th>\n",
       "      <th>StartDate</th>\n",
       "      <th>EXP/Oblig Date</th>\n",
       "      <th>CancelRequest</th>\n",
       "      <th>CancelDate</th>\n",
       "      <th>CancelReason</th>\n",
       "    </tr>\n",
       "  </thead>\n",
       "  <tbody>\n",
       "    <tr>\n",
       "      <th>0</th>\n",
       "      <td>1</td>\n",
       "      <td>ABC1000</td>\n",
       "      <td>Angela</td>\n",
       "      <td>Brewer</td>\n",
       "      <td>AG-00001</td>\n",
       "      <td>Standard Annual</td>\n",
       "      <td>Sarah Lee</td>\n",
       "      <td>None</td>\n",
       "      <td>None</td>\n",
       "      <td>Annual</td>\n",
       "      <td>08/21/2024</td>\n",
       "      <td>09/20/2024</td>\n",
       "      <td>None</td>\n",
       "      <td>None</td>\n",
       "      <td>None</td>\n",
       "    </tr>\n",
       "    <tr>\n",
       "      <th>1</th>\n",
       "      <td>2</td>\n",
       "      <td>ABC1001</td>\n",
       "      <td>Jared</td>\n",
       "      <td>Sanchez</td>\n",
       "      <td>AG-00002</td>\n",
       "      <td>Standard M2M</td>\n",
       "      <td>John Smith</td>\n",
       "      <td>Summer Promo</td>\n",
       "      <td>None</td>\n",
       "      <td>Monthly</td>\n",
       "      <td>01/04/2024</td>\n",
       "      <td>12/31/2024</td>\n",
       "      <td>02/05/2024</td>\n",
       "      <td>12/02/2024</td>\n",
       "      <td>Relocation</td>\n",
       "    </tr>\n",
       "  </tbody>\n",
       "</table>\n",
       "</div>"
      ],
      "text/plain": [
       "   agreement_row_id member_id First Name Last Name Agreement ID  \\\n",
       "0                 1   ABC1000     Angela    Brewer     AG-00001   \n",
       "1                 2   ABC1001      Jared   Sanchez     AG-00002   \n",
       "\n",
       "    Agreement Type Sales Person     Promotion Bundles Payment Plan  \\\n",
       "0  Standard Annual    Sarah Lee          None    None       Annual   \n",
       "1     Standard M2M   John Smith  Summer Promo    None      Monthly   \n",
       "\n",
       "    StartDate EXP/Oblig Date CancelRequest  CancelDate CancelReason  \n",
       "0  08/21/2024     09/20/2024          None        None         None  \n",
       "1  01/04/2024     12/31/2024    02/05/2024  12/02/2024   Relocation  "
      ]
     },
     "execution_count": 4,
     "metadata": {},
     "output_type": "execute_result"
    }
   ],
   "source": [
    "df.head(2)"
   ]
  },
  {
   "cell_type": "code",
   "execution_count": 5,
   "id": "05710e20",
   "metadata": {},
   "outputs": [
    {
     "data": {
      "text/plain": [
       "(Index(['agreement_row_id', 'member_id', 'First Name', 'Last Name',\n",
       "        'Agreement ID', 'Agreement Type', 'Sales Person', 'Promotion',\n",
       "        'Bundles', 'Payment Plan', 'StartDate', 'EXP/Oblig Date',\n",
       "        'CancelRequest', 'CancelDate', 'CancelReason'],\n",
       "       dtype='object'),\n",
       " agreement_row_id     int64\n",
       " member_id           object\n",
       " First Name          object\n",
       " Last Name           object\n",
       " Agreement ID        object\n",
       " Agreement Type      object\n",
       " Sales Person        object\n",
       " Promotion           object\n",
       " Bundles             object\n",
       " Payment Plan        object\n",
       " StartDate           object\n",
       " EXP/Oblig Date      object\n",
       " CancelRequest       object\n",
       " CancelDate          object\n",
       " CancelReason        object\n",
       " dtype: object)"
      ]
     },
     "execution_count": 5,
     "metadata": {},
     "output_type": "execute_result"
    }
   ],
   "source": [
    "df.columns, df.dtypes"
   ]
  },
  {
   "cell_type": "code",
   "execution_count": 6,
   "id": "aa3bfe1f",
   "metadata": {},
   "outputs": [],
   "source": [
    "df = df[[\n",
    "       #'agreement_row_id', \n",
    "       'member_id', \n",
    "       #'First Name', 'Last Name',\n",
    "        #'Agreement ID', \n",
    "        'Agreement Type', \n",
    "        #'Sales Person', 'Promotion',\n",
    "        #'Bundles', 'Payment Plan', \n",
    "        'StartDate', \n",
    "        #'EXP/Oblig Date',\n",
    "        #'CancelRequest', \n",
    "        'CancelDate', 'CancelReason'\n",
    "       ]].copy()"
   ]
  },
  {
   "cell_type": "code",
   "execution_count": 7,
   "id": "560c9e16",
   "metadata": {},
   "outputs": [],
   "source": [
    "df.columns = df.columns.str.lower()"
   ]
  },
  {
   "cell_type": "code",
   "execution_count": 8,
   "id": "70689e04",
   "metadata": {},
   "outputs": [],
   "source": [
    "df = df.rename(columns={\n",
    "    'agreement type': 'agreement_type',\n",
    "    'startdate': 'start_date',\n",
    "    'canceldate': 'cancel_date',\n",
    "    'cancelreason': 'cancel_reason'\n",
    "        })"
   ]
  },
  {
   "cell_type": "code",
   "execution_count": 9,
   "id": "9e607182",
   "metadata": {},
   "outputs": [
    {
     "data": {
      "text/plain": [
       "(  member_id   agreement_type  start_date cancel_date cancel_reason\n",
       " 0   ABC1000  Standard Annual  08/21/2024        None          None\n",
       " 1   ABC1001     Standard M2M  01/04/2024  12/02/2024    Relocation,\n",
       " member_id         object\n",
       " agreement_type    object\n",
       " start_date        object\n",
       " cancel_date       object\n",
       " cancel_reason     object\n",
       " dtype: object)"
      ]
     },
     "execution_count": 9,
     "metadata": {},
     "output_type": "execute_result"
    }
   ],
   "source": [
    "df.head(2), df.dtypes"
   ]
  },
  {
   "cell_type": "code",
   "execution_count": 10,
   "id": "ee92d636",
   "metadata": {},
   "outputs": [
    {
     "data": {
      "text/plain": [
       "member_id           0\n",
       "agreement_type      0\n",
       "start_date          0\n",
       "cancel_date       617\n",
       "cancel_reason     637\n",
       "dtype: int64"
      ]
     },
     "execution_count": 10,
     "metadata": {},
     "output_type": "execute_result"
    }
   ],
   "source": [
    "df.isna().sum()"
   ]
  },
  {
   "cell_type": "code",
   "execution_count": 11,
   "id": "410039de",
   "metadata": {},
   "outputs": [],
   "source": [
    "df['start_date'] = pd.to_datetime(df['start_date'])"
   ]
  },
  {
   "cell_type": "code",
   "execution_count": 12,
   "id": "96dff385",
   "metadata": {},
   "outputs": [],
   "source": [
    "# df['cancel_date'] = pd.to_datetime(df['cancel_date'])\n",
    "\n",
    "df['cancel_date'] = df['cancel_date'].str.strip()\n",
    "df['cancel_date'] = df['cancel_date'].replace('', np.nan) \n",
    "df['cancel_date'] = df['cancel_date'].replace(['none', 'NAN', 'nan'], np.nan)\n",
    "\n",
    "df['cancel_date'] = pd.to_datetime(df['cancel_date'], errors='coerce')"
   ]
  },
  {
   "cell_type": "code",
   "execution_count": 13,
   "id": "90e3d117",
   "metadata": {},
   "outputs": [
    {
     "data": {
      "text/plain": [
       "cancel_reason\n",
       "None                            686\n",
       "Financial Reasons               107\n",
       "Relocation                       81\n",
       "Schedule Conflict                67\n",
       "Dissatisfied With Facilities     59\n",
       "Name: count, dtype: int64"
      ]
     },
     "execution_count": 13,
     "metadata": {},
     "output_type": "execute_result"
    }
   ],
   "source": [
    "df['cancel_reason'].value_counts()\n",
    "df['cancel_reason'] = df['cancel_reason'].str.strip()\n",
    "df['cancel_reason'] = df['cancel_reason'].replace(['', 'nan', 'NAN'], np.nan)\n",
    "df['cancel_reason'] = df['cancel_reason'].str.title()\n",
    "df['cancel_reason'].value_counts(dropna=False)\n",
    "\n",
    "df['cancel_reason'] = df['cancel_reason'].where(pd.notnull(df['cancel_reason']), 'None')\n",
    "df['cancel_reason'].value_counts(dropna=False)"
   ]
  },
  {
   "cell_type": "markdown",
   "id": "60b1a86f",
   "metadata": {},
   "source": [
    "### Check for duplicates"
   ]
  },
  {
   "cell_type": "code",
   "execution_count": 14,
   "id": "483589ed",
   "metadata": {},
   "outputs": [
    {
     "name": "stdout",
     "output_type": "stream",
     "text": [
      "0\n",
      "0\n",
      "Empty DataFrame\n",
      "Columns: [member_id, agreement_type, start_date, cancel_date, cancel_reason]\n",
      "Index: []\n"
     ]
    }
   ],
   "source": [
    "print(df.duplicated().sum())\n",
    "print(df.duplicated(subset=['member_id']).sum())\n",
    "print(df[df.duplicated(subset=['member_id'], keep=False)].sort_values(by='member_id').head(4))"
   ]
  },
  {
   "cell_type": "markdown",
   "id": "9f40fdf0",
   "metadata": {},
   "source": [
    "### Create Status Attribute for members based on if they have a cancellation date."
   ]
  },
  {
   "cell_type": "code",
   "execution_count": 15,
   "id": "368bbb64",
   "metadata": {},
   "outputs": [
    {
     "name": "stdout",
     "output_type": "stream",
     "text": [
      "status\n",
      "Active      682\n",
      "Canceled    318\n",
      "Name: count, dtype: int64\n"
     ]
    }
   ],
   "source": [
    "df['status'] = df['cancel_date'].isna().map({True: 'Active', False: 'Canceled'})\n",
    "\n",
    "print(df['status'].value_counts())"
   ]
  },
  {
   "cell_type": "code",
   "execution_count": 16,
   "id": "e6bb24c1",
   "metadata": {},
   "outputs": [
    {
     "data": {
      "text/html": [
       "<div>\n",
       "<style scoped>\n",
       "    .dataframe tbody tr th:only-of-type {\n",
       "        vertical-align: middle;\n",
       "    }\n",
       "\n",
       "    .dataframe tbody tr th {\n",
       "        vertical-align: top;\n",
       "    }\n",
       "\n",
       "    .dataframe thead th {\n",
       "        text-align: right;\n",
       "    }\n",
       "</style>\n",
       "<table border=\"1\" class=\"dataframe\">\n",
       "  <thead>\n",
       "    <tr style=\"text-align: right;\">\n",
       "      <th></th>\n",
       "      <th>member_id</th>\n",
       "      <th>agreement_type</th>\n",
       "      <th>start_date</th>\n",
       "      <th>cancel_date</th>\n",
       "      <th>cancel_reason</th>\n",
       "      <th>status</th>\n",
       "    </tr>\n",
       "  </thead>\n",
       "  <tbody>\n",
       "    <tr>\n",
       "      <th>3</th>\n",
       "      <td>ABC1003</td>\n",
       "      <td>Standard M2M</td>\n",
       "      <td>2023-11-02</td>\n",
       "      <td>NaT</td>\n",
       "      <td>None</td>\n",
       "      <td>Active</td>\n",
       "    </tr>\n",
       "  </tbody>\n",
       "</table>\n",
       "</div>"
      ],
      "text/plain": [
       "  member_id agreement_type start_date cancel_date cancel_reason  status\n",
       "3   ABC1003   Standard M2M 2023-11-02         NaT          None  Active"
      ]
     },
     "execution_count": 16,
     "metadata": {},
     "output_type": "execute_result"
    }
   ],
   "source": [
    "df[df['member_id'] == 'ABC1003']"
   ]
  },
  {
   "cell_type": "markdown",
   "id": "d9a57de4",
   "metadata": {},
   "source": [
    "### Calculate Tenure Days for all Members (across lifetime)"
   ]
  },
  {
   "cell_type": "code",
   "execution_count": 17,
   "id": "afc62c7c",
   "metadata": {},
   "outputs": [
    {
     "data": {
      "text/html": [
       "<div>\n",
       "<style scoped>\n",
       "    .dataframe tbody tr th:only-of-type {\n",
       "        vertical-align: middle;\n",
       "    }\n",
       "\n",
       "    .dataframe tbody tr th {\n",
       "        vertical-align: top;\n",
       "    }\n",
       "\n",
       "    .dataframe thead th {\n",
       "        text-align: right;\n",
       "    }\n",
       "</style>\n",
       "<table border=\"1\" class=\"dataframe\">\n",
       "  <thead>\n",
       "    <tr style=\"text-align: right;\">\n",
       "      <th></th>\n",
       "      <th>member_id</th>\n",
       "      <th>agreement_type</th>\n",
       "      <th>start_date</th>\n",
       "      <th>cancel_date</th>\n",
       "      <th>cancel_reason</th>\n",
       "      <th>status</th>\n",
       "      <th>tenure_days</th>\n",
       "    </tr>\n",
       "  </thead>\n",
       "  <tbody>\n",
       "    <tr>\n",
       "      <th>0</th>\n",
       "      <td>ABC1000</td>\n",
       "      <td>Standard Annual</td>\n",
       "      <td>2024-08-21</td>\n",
       "      <td>NaT</td>\n",
       "      <td>None</td>\n",
       "      <td>Active</td>\n",
       "      <td>379</td>\n",
       "    </tr>\n",
       "    <tr>\n",
       "      <th>1</th>\n",
       "      <td>ABC1001</td>\n",
       "      <td>Standard M2M</td>\n",
       "      <td>2024-01-04</td>\n",
       "      <td>2024-12-02</td>\n",
       "      <td>Relocation</td>\n",
       "      <td>Canceled</td>\n",
       "      <td>333</td>\n",
       "    </tr>\n",
       "  </tbody>\n",
       "</table>\n",
       "</div>"
      ],
      "text/plain": [
       "  member_id   agreement_type start_date cancel_date cancel_reason    status  \\\n",
       "0   ABC1000  Standard Annual 2024-08-21         NaT          None    Active   \n",
       "1   ABC1001     Standard M2M 2024-01-04  2024-12-02    Relocation  Canceled   \n",
       "\n",
       "   tenure_days  \n",
       "0          379  \n",
       "1          333  "
      ]
     },
     "execution_count": 17,
     "metadata": {},
     "output_type": "execute_result"
    }
   ],
   "source": [
    "\n",
    "today = pd.Timestamp.today().normalize()\n",
    "\n",
    "df['tenure_days'] = df.apply(\n",
    "    lambda row: (row['cancel_date'] - row['start_date']).days \n",
    "                if pd.notnull(row['cancel_date']) \n",
    "                else (today - row['start_date']).days,\n",
    "    axis=1\n",
    ")\n",
    "df.head(2)"
   ]
  },
  {
   "cell_type": "code",
   "execution_count": 18,
   "id": "820fadcf",
   "metadata": {},
   "outputs": [
    {
     "data": {
      "text/html": [
       "<div>\n",
       "<style scoped>\n",
       "    .dataframe tbody tr th:only-of-type {\n",
       "        vertical-align: middle;\n",
       "    }\n",
       "\n",
       "    .dataframe tbody tr th {\n",
       "        vertical-align: top;\n",
       "    }\n",
       "\n",
       "    .dataframe thead th {\n",
       "        text-align: right;\n",
       "    }\n",
       "</style>\n",
       "<table border=\"1\" class=\"dataframe\">\n",
       "  <thead>\n",
       "    <tr style=\"text-align: right;\">\n",
       "      <th></th>\n",
       "      <th>member_id</th>\n",
       "      <th>agreement_type</th>\n",
       "      <th>start_date</th>\n",
       "      <th>cancel_date</th>\n",
       "      <th>cancel_reason</th>\n",
       "      <th>status</th>\n",
       "      <th>tenure_days</th>\n",
       "    </tr>\n",
       "  </thead>\n",
       "  <tbody>\n",
       "    <tr>\n",
       "      <th>0</th>\n",
       "      <td>ABC1000</td>\n",
       "      <td>Standard Annual</td>\n",
       "      <td>2024-08-21</td>\n",
       "      <td>NaT</td>\n",
       "      <td>None</td>\n",
       "      <td>Active</td>\n",
       "      <td>379</td>\n",
       "    </tr>\n",
       "    <tr>\n",
       "      <th>1</th>\n",
       "      <td>ABC1001</td>\n",
       "      <td>Standard M2M</td>\n",
       "      <td>2024-01-04</td>\n",
       "      <td>2024-12-02</td>\n",
       "      <td>Relocation</td>\n",
       "      <td>Canceled</td>\n",
       "      <td>333</td>\n",
       "    </tr>\n",
       "    <tr>\n",
       "      <th>2</th>\n",
       "      <td>ABC1002</td>\n",
       "      <td>Standard M2M</td>\n",
       "      <td>2024-02-19</td>\n",
       "      <td>NaT</td>\n",
       "      <td>Relocation</td>\n",
       "      <td>Active</td>\n",
       "      <td>563</td>\n",
       "    </tr>\n",
       "    <tr>\n",
       "      <th>3</th>\n",
       "      <td>ABC1003</td>\n",
       "      <td>Standard M2M</td>\n",
       "      <td>2023-11-02</td>\n",
       "      <td>NaT</td>\n",
       "      <td>None</td>\n",
       "      <td>Active</td>\n",
       "      <td>672</td>\n",
       "    </tr>\n",
       "    <tr>\n",
       "      <th>4</th>\n",
       "      <td>ABC1004</td>\n",
       "      <td>Standard M2M</td>\n",
       "      <td>2023-09-12</td>\n",
       "      <td>NaT</td>\n",
       "      <td>None</td>\n",
       "      <td>Active</td>\n",
       "      <td>723</td>\n",
       "    </tr>\n",
       "    <tr>\n",
       "      <th>5</th>\n",
       "      <td>ABC1005</td>\n",
       "      <td>Standard M2M</td>\n",
       "      <td>2023-12-08</td>\n",
       "      <td>NaT</td>\n",
       "      <td>None</td>\n",
       "      <td>Active</td>\n",
       "      <td>636</td>\n",
       "    </tr>\n",
       "    <tr>\n",
       "      <th>6</th>\n",
       "      <td>ABC1006</td>\n",
       "      <td>Standard M2M</td>\n",
       "      <td>2025-06-24</td>\n",
       "      <td>2025-07-10</td>\n",
       "      <td>Schedule Conflict</td>\n",
       "      <td>Canceled</td>\n",
       "      <td>16</td>\n",
       "    </tr>\n",
       "    <tr>\n",
       "      <th>7</th>\n",
       "      <td>ABC1007</td>\n",
       "      <td>Standard M2M</td>\n",
       "      <td>2025-07-25</td>\n",
       "      <td>NaT</td>\n",
       "      <td>None</td>\n",
       "      <td>Active</td>\n",
       "      <td>41</td>\n",
       "    </tr>\n",
       "    <tr>\n",
       "      <th>8</th>\n",
       "      <td>ABC1008</td>\n",
       "      <td>Standard M2M</td>\n",
       "      <td>2025-01-19</td>\n",
       "      <td>NaT</td>\n",
       "      <td>Dissatisfied With Facilities</td>\n",
       "      <td>Active</td>\n",
       "      <td>228</td>\n",
       "    </tr>\n",
       "    <tr>\n",
       "      <th>9</th>\n",
       "      <td>ABC1009</td>\n",
       "      <td>Standard M2M</td>\n",
       "      <td>2024-02-20</td>\n",
       "      <td>NaT</td>\n",
       "      <td>None</td>\n",
       "      <td>Active</td>\n",
       "      <td>562</td>\n",
       "    </tr>\n",
       "  </tbody>\n",
       "</table>\n",
       "</div>"
      ],
      "text/plain": [
       "  member_id   agreement_type start_date cancel_date  \\\n",
       "0   ABC1000  Standard Annual 2024-08-21         NaT   \n",
       "1   ABC1001     Standard M2M 2024-01-04  2024-12-02   \n",
       "2   ABC1002     Standard M2M 2024-02-19         NaT   \n",
       "3   ABC1003     Standard M2M 2023-11-02         NaT   \n",
       "4   ABC1004     Standard M2M 2023-09-12         NaT   \n",
       "5   ABC1005     Standard M2M 2023-12-08         NaT   \n",
       "6   ABC1006     Standard M2M 2025-06-24  2025-07-10   \n",
       "7   ABC1007     Standard M2M 2025-07-25         NaT   \n",
       "8   ABC1008     Standard M2M 2025-01-19         NaT   \n",
       "9   ABC1009     Standard M2M 2024-02-20         NaT   \n",
       "\n",
       "                  cancel_reason    status  tenure_days  \n",
       "0                          None    Active          379  \n",
       "1                    Relocation  Canceled          333  \n",
       "2                    Relocation    Active          563  \n",
       "3                          None    Active          672  \n",
       "4                          None    Active          723  \n",
       "5                          None    Active          636  \n",
       "6             Schedule Conflict  Canceled           16  \n",
       "7                          None    Active           41  \n",
       "8  Dissatisfied With Facilities    Active          228  \n",
       "9                          None    Active          562  "
      ]
     },
     "execution_count": 18,
     "metadata": {},
     "output_type": "execute_result"
    }
   ],
   "source": [
    "df.head(10)"
   ]
  },
  {
   "cell_type": "markdown",
   "id": "7d911fe4",
   "metadata": {},
   "source": [
    "### 105day flag."
   ]
  },
  {
   "cell_type": "code",
   "execution_count": 19,
   "id": "2912c075",
   "metadata": {},
   "outputs": [],
   "source": [
    "cutoff = 105\n",
    "\n",
    "# -------------------------------------------------------------------\n",
    "# eligible_105 flag\n",
    "# -------------------------------------------------------------------\n",
    "# Purpose:\n",
    "#   - Exclude \"immature actives\" (those with tenure < 105 days who have\n",
    "#              not yet had enough time to show churn/retention behavior).\n",
    "#   - Keep all canceled members (no matter when they canceled).\n",
    "#   - Keep active members only if they have been observed for at least 105 days.\n",
    "#\n",
    "# Result:\n",
    "#   - eligible_105 = 1 → member is valid for churn analysis\n",
    "#   - eligible_105 = 0 → member is too new (active < 105 days)\n",
    "\n",
    "df['eligible_105'] = np.where(\n",
    "    (df['status'] == 'Canceled') | ((df['status'] == 'Active') & (df['tenure_days'] >= cutoff)),\n",
    "    1, 0\n",
    ")\n",
    "\n",
    "# -------------------------------------------------------------------\n",
    "# churn_by_105 flag\n",
    "# -------------------------------------------------------------------\n",
    "# Purpose:\n",
    "#   - Identify members who canceled within the first 105 days of tenure.\n",
    "#   - This is your \"early churn\" outcome variable for predictive analysis.\n",
    "#\n",
    "# Result:\n",
    "#   - churn_by_105 = 1 → member canceled within 105 days\n",
    "#   - churn_by_105 = 0 → member either:\n",
    "#       * canceled after 105 days (late churn), OR\n",
    "#       * is still active (no churn event yet)\n",
    "\n",
    "# churn event: 1 if canceled within 105 days\n",
    "df['churn_by_105'] = np.where(\n",
    "    (df['status'] == 'Canceled') &\n",
    "    ((df['cancel_date'] - df['start_date']).dt.days <= cutoff),\n",
    "    1, 0\n",
    ")"
   ]
  },
  {
   "cell_type": "code",
   "execution_count": 20,
   "id": "f78fd700",
   "metadata": {},
   "outputs": [
    {
     "data": {
      "text/html": [
       "<div>\n",
       "<style scoped>\n",
       "    .dataframe tbody tr th:only-of-type {\n",
       "        vertical-align: middle;\n",
       "    }\n",
       "\n",
       "    .dataframe tbody tr th {\n",
       "        vertical-align: top;\n",
       "    }\n",
       "\n",
       "    .dataframe thead th {\n",
       "        text-align: right;\n",
       "    }\n",
       "</style>\n",
       "<table border=\"1\" class=\"dataframe\">\n",
       "  <thead>\n",
       "    <tr style=\"text-align: right;\">\n",
       "      <th></th>\n",
       "      <th>member_id</th>\n",
       "      <th>agreement_type</th>\n",
       "      <th>start_date</th>\n",
       "      <th>cancel_date</th>\n",
       "      <th>cancel_reason</th>\n",
       "      <th>status</th>\n",
       "      <th>tenure_days</th>\n",
       "      <th>eligible_105</th>\n",
       "      <th>churn_by_105</th>\n",
       "    </tr>\n",
       "  </thead>\n",
       "  <tbody>\n",
       "    <tr>\n",
       "      <th>0</th>\n",
       "      <td>ABC1000</td>\n",
       "      <td>Standard Annual</td>\n",
       "      <td>2024-08-21</td>\n",
       "      <td>NaT</td>\n",
       "      <td>None</td>\n",
       "      <td>Active</td>\n",
       "      <td>378</td>\n",
       "      <td>1</td>\n",
       "      <td>0</td>\n",
       "    </tr>\n",
       "    <tr>\n",
       "      <th>1</th>\n",
       "      <td>ABC1001</td>\n",
       "      <td>Standard M2M</td>\n",
       "      <td>2024-01-04</td>\n",
       "      <td>2024-12-02</td>\n",
       "      <td>Relocation</td>\n",
       "      <td>Canceled</td>\n",
       "      <td>333</td>\n",
       "      <td>1</td>\n",
       "      <td>0</td>\n",
       "    </tr>\n",
       "    <tr>\n",
       "      <th>2</th>\n",
       "      <td>ABC1002</td>\n",
       "      <td>Standard M2M</td>\n",
       "      <td>2024-02-19</td>\n",
       "      <td>NaT</td>\n",
       "      <td>Relocation</td>\n",
       "      <td>Active</td>\n",
       "      <td>562</td>\n",
       "      <td>1</td>\n",
       "      <td>0</td>\n",
       "    </tr>\n",
       "    <tr>\n",
       "      <th>3</th>\n",
       "      <td>ABC1003</td>\n",
       "      <td>Standard M2M</td>\n",
       "      <td>2023-11-02</td>\n",
       "      <td>NaT</td>\n",
       "      <td>None</td>\n",
       "      <td>Active</td>\n",
       "      <td>671</td>\n",
       "      <td>1</td>\n",
       "      <td>0</td>\n",
       "    </tr>\n",
       "    <tr>\n",
       "      <th>4</th>\n",
       "      <td>ABC1004</td>\n",
       "      <td>Standard M2M</td>\n",
       "      <td>2023-09-12</td>\n",
       "      <td>NaT</td>\n",
       "      <td>None</td>\n",
       "      <td>Active</td>\n",
       "      <td>722</td>\n",
       "      <td>1</td>\n",
       "      <td>0</td>\n",
       "    </tr>\n",
       "    <tr>\n",
       "      <th>5</th>\n",
       "      <td>ABC1005</td>\n",
       "      <td>Standard M2M</td>\n",
       "      <td>2023-12-08</td>\n",
       "      <td>NaT</td>\n",
       "      <td>None</td>\n",
       "      <td>Active</td>\n",
       "      <td>635</td>\n",
       "      <td>1</td>\n",
       "      <td>0</td>\n",
       "    </tr>\n",
       "    <tr>\n",
       "      <th>6</th>\n",
       "      <td>ABC1006</td>\n",
       "      <td>Standard M2M</td>\n",
       "      <td>2025-06-24</td>\n",
       "      <td>2025-07-10</td>\n",
       "      <td>Schedule Conflict</td>\n",
       "      <td>Canceled</td>\n",
       "      <td>16</td>\n",
       "      <td>1</td>\n",
       "      <td>1</td>\n",
       "    </tr>\n",
       "    <tr>\n",
       "      <th>7</th>\n",
       "      <td>ABC1007</td>\n",
       "      <td>Standard M2M</td>\n",
       "      <td>2025-07-25</td>\n",
       "      <td>NaT</td>\n",
       "      <td>None</td>\n",
       "      <td>Active</td>\n",
       "      <td>40</td>\n",
       "      <td>0</td>\n",
       "      <td>0</td>\n",
       "    </tr>\n",
       "    <tr>\n",
       "      <th>8</th>\n",
       "      <td>ABC1008</td>\n",
       "      <td>Standard M2M</td>\n",
       "      <td>2025-01-19</td>\n",
       "      <td>NaT</td>\n",
       "      <td>Dissatisfied With Facilities</td>\n",
       "      <td>Active</td>\n",
       "      <td>227</td>\n",
       "      <td>1</td>\n",
       "      <td>0</td>\n",
       "    </tr>\n",
       "    <tr>\n",
       "      <th>9</th>\n",
       "      <td>ABC1009</td>\n",
       "      <td>Standard M2M</td>\n",
       "      <td>2024-02-20</td>\n",
       "      <td>NaT</td>\n",
       "      <td>None</td>\n",
       "      <td>Active</td>\n",
       "      <td>561</td>\n",
       "      <td>1</td>\n",
       "      <td>0</td>\n",
       "    </tr>\n",
       "    <tr>\n",
       "      <th>10</th>\n",
       "      <td>ABC1010</td>\n",
       "      <td>Standard M2M</td>\n",
       "      <td>2024-05-16</td>\n",
       "      <td>NaT</td>\n",
       "      <td>None</td>\n",
       "      <td>Active</td>\n",
       "      <td>475</td>\n",
       "      <td>1</td>\n",
       "      <td>0</td>\n",
       "    </tr>\n",
       "    <tr>\n",
       "      <th>11</th>\n",
       "      <td>ABC1011</td>\n",
       "      <td>Standard M2M</td>\n",
       "      <td>2024-06-26</td>\n",
       "      <td>NaT</td>\n",
       "      <td>None</td>\n",
       "      <td>Active</td>\n",
       "      <td>434</td>\n",
       "      <td>1</td>\n",
       "      <td>0</td>\n",
       "    </tr>\n",
       "    <tr>\n",
       "      <th>12</th>\n",
       "      <td>ABC1012</td>\n",
       "      <td>Standard M2M</td>\n",
       "      <td>2024-08-23</td>\n",
       "      <td>NaT</td>\n",
       "      <td>None</td>\n",
       "      <td>Active</td>\n",
       "      <td>376</td>\n",
       "      <td>1</td>\n",
       "      <td>0</td>\n",
       "    </tr>\n",
       "    <tr>\n",
       "      <th>13</th>\n",
       "      <td>ABC1013</td>\n",
       "      <td>Standard M2M</td>\n",
       "      <td>2025-08-17</td>\n",
       "      <td>2025-08-21</td>\n",
       "      <td>Dissatisfied With Facilities</td>\n",
       "      <td>Canceled</td>\n",
       "      <td>4</td>\n",
       "      <td>1</td>\n",
       "      <td>1</td>\n",
       "    </tr>\n",
       "    <tr>\n",
       "      <th>14</th>\n",
       "      <td>ABC1014</td>\n",
       "      <td>Standard M2M</td>\n",
       "      <td>2024-01-25</td>\n",
       "      <td>NaT</td>\n",
       "      <td>None</td>\n",
       "      <td>Active</td>\n",
       "      <td>587</td>\n",
       "      <td>1</td>\n",
       "      <td>0</td>\n",
       "    </tr>\n",
       "    <tr>\n",
       "      <th>15</th>\n",
       "      <td>ABC1015</td>\n",
       "      <td>Passport M2M</td>\n",
       "      <td>2025-01-08</td>\n",
       "      <td>NaT</td>\n",
       "      <td>Dissatisfied With Facilities</td>\n",
       "      <td>Active</td>\n",
       "      <td>238</td>\n",
       "      <td>1</td>\n",
       "      <td>0</td>\n",
       "    </tr>\n",
       "    <tr>\n",
       "      <th>16</th>\n",
       "      <td>ABC1016</td>\n",
       "      <td>Standard M2M</td>\n",
       "      <td>2024-08-12</td>\n",
       "      <td>NaT</td>\n",
       "      <td>None</td>\n",
       "      <td>Active</td>\n",
       "      <td>387</td>\n",
       "      <td>1</td>\n",
       "      <td>0</td>\n",
       "    </tr>\n",
       "    <tr>\n",
       "      <th>17</th>\n",
       "      <td>ABC1017</td>\n",
       "      <td>Standard M2M</td>\n",
       "      <td>2025-07-06</td>\n",
       "      <td>2025-08-07</td>\n",
       "      <td>Schedule Conflict</td>\n",
       "      <td>Canceled</td>\n",
       "      <td>32</td>\n",
       "      <td>1</td>\n",
       "      <td>1</td>\n",
       "    </tr>\n",
       "    <tr>\n",
       "      <th>18</th>\n",
       "      <td>ABC1018</td>\n",
       "      <td>Standard M2M</td>\n",
       "      <td>2025-01-10</td>\n",
       "      <td>2025-01-24</td>\n",
       "      <td>Financial Reasons</td>\n",
       "      <td>Canceled</td>\n",
       "      <td>14</td>\n",
       "      <td>1</td>\n",
       "      <td>1</td>\n",
       "    </tr>\n",
       "    <tr>\n",
       "      <th>19</th>\n",
       "      <td>ABC1019</td>\n",
       "      <td>Passport M2M</td>\n",
       "      <td>2024-11-03</td>\n",
       "      <td>NaT</td>\n",
       "      <td>None</td>\n",
       "      <td>Active</td>\n",
       "      <td>304</td>\n",
       "      <td>1</td>\n",
       "      <td>0</td>\n",
       "    </tr>\n",
       "  </tbody>\n",
       "</table>\n",
       "</div>"
      ],
      "text/plain": [
       "   member_id   agreement_type start_date cancel_date  \\\n",
       "0    ABC1000  Standard Annual 2024-08-21         NaT   \n",
       "1    ABC1001     Standard M2M 2024-01-04  2024-12-02   \n",
       "2    ABC1002     Standard M2M 2024-02-19         NaT   \n",
       "3    ABC1003     Standard M2M 2023-11-02         NaT   \n",
       "4    ABC1004     Standard M2M 2023-09-12         NaT   \n",
       "5    ABC1005     Standard M2M 2023-12-08         NaT   \n",
       "6    ABC1006     Standard M2M 2025-06-24  2025-07-10   \n",
       "7    ABC1007     Standard M2M 2025-07-25         NaT   \n",
       "8    ABC1008     Standard M2M 2025-01-19         NaT   \n",
       "9    ABC1009     Standard M2M 2024-02-20         NaT   \n",
       "10   ABC1010     Standard M2M 2024-05-16         NaT   \n",
       "11   ABC1011     Standard M2M 2024-06-26         NaT   \n",
       "12   ABC1012     Standard M2M 2024-08-23         NaT   \n",
       "13   ABC1013     Standard M2M 2025-08-17  2025-08-21   \n",
       "14   ABC1014     Standard M2M 2024-01-25         NaT   \n",
       "15   ABC1015     Passport M2M 2025-01-08         NaT   \n",
       "16   ABC1016     Standard M2M 2024-08-12         NaT   \n",
       "17   ABC1017     Standard M2M 2025-07-06  2025-08-07   \n",
       "18   ABC1018     Standard M2M 2025-01-10  2025-01-24   \n",
       "19   ABC1019     Passport M2M 2024-11-03         NaT   \n",
       "\n",
       "                   cancel_reason    status  tenure_days  eligible_105  \\\n",
       "0                           None    Active          378             1   \n",
       "1                     Relocation  Canceled          333             1   \n",
       "2                     Relocation    Active          562             1   \n",
       "3                           None    Active          671             1   \n",
       "4                           None    Active          722             1   \n",
       "5                           None    Active          635             1   \n",
       "6              Schedule Conflict  Canceled           16             1   \n",
       "7                           None    Active           40             0   \n",
       "8   Dissatisfied With Facilities    Active          227             1   \n",
       "9                           None    Active          561             1   \n",
       "10                          None    Active          475             1   \n",
       "11                          None    Active          434             1   \n",
       "12                          None    Active          376             1   \n",
       "13  Dissatisfied With Facilities  Canceled            4             1   \n",
       "14                          None    Active          587             1   \n",
       "15  Dissatisfied With Facilities    Active          238             1   \n",
       "16                          None    Active          387             1   \n",
       "17             Schedule Conflict  Canceled           32             1   \n",
       "18             Financial Reasons  Canceled           14             1   \n",
       "19                          None    Active          304             1   \n",
       "\n",
       "    churn_by_105  \n",
       "0              0  \n",
       "1              0  \n",
       "2              0  \n",
       "3              0  \n",
       "4              0  \n",
       "5              0  \n",
       "6              1  \n",
       "7              0  \n",
       "8              0  \n",
       "9              0  \n",
       "10             0  \n",
       "11             0  \n",
       "12             0  \n",
       "13             1  \n",
       "14             0  \n",
       "15             0  \n",
       "16             0  \n",
       "17             1  \n",
       "18             1  \n",
       "19             0  "
      ]
     },
     "execution_count": 20,
     "metadata": {},
     "output_type": "execute_result"
    }
   ],
   "source": [
    "df.head(20)"
   ]
  },
  {
   "cell_type": "markdown",
   "id": "7bcd7d22",
   "metadata": {},
   "source": [
    "### Load to clean_db"
   ]
  },
  {
   "cell_type": "code",
   "execution_count": null,
   "id": "29d1df06",
   "metadata": {},
   "outputs": [],
   "source": [
    "con_out = sqlite3.connect(r\"__PATH__\")\n",
    "df.to_sql(\"member_agreements\", con_out, if_exists=\"replace\", index=False)\n",
    "con_out.close()"
   ]
  },
  {
   "cell_type": "markdown",
   "id": "29ecab9a",
   "metadata": {},
   "source": [
    "## Exploration"
   ]
  },
  {
   "cell_type": "markdown",
   "id": "9cb038b2",
   "metadata": {},
   "source": [
    "### Average Sales v. Cancellations per Month."
   ]
  },
  {
   "cell_type": "code",
   "execution_count": 23,
   "id": "afff30f7",
   "metadata": {},
   "outputs": [],
   "source": [
    "# Extract year and month\n",
    "df['start_year'] = df['start_date'].dt.year\n",
    "df['start_month'] = df['start_date'].dt.month\n",
    "df['cancel_year'] = df['cancel_date'].dt.year\n",
    "df['cancel_month'] = df['cancel_date'].dt.month\n",
    "\n",
    "# Count starts and cancels by year & month\n",
    "starts = df.groupby(['start_year', 'start_month']).size().unstack(fill_value=0)\n",
    "cancels = df.groupby(['cancel_year', 'cancel_month']).size().unstack(fill_value=0)\n",
    "\n",
    "# Total starts by month across years\n",
    "starts_by_month = df.groupby('start_month').size()\n",
    "\n",
    "# Total cancels by month across years\n",
    "cancels_by_month = df.groupby('cancel_month').size()\n",
    "\n",
    "# Combine\n",
    "seasonality = pd.DataFrame({\n",
    "    'Starts': starts_by_month,\n",
    "    'Cancels': cancels_by_month\n",
    "}).fillna(0).astype(int)\n",
    "\n",
    "months = range(1, 13)"
   ]
  },
  {
   "cell_type": "code",
   "execution_count": 24,
   "id": "df6c7cec",
   "metadata": {},
   "outputs": [
    {
     "data": {
      "image/png": "[encoded data removed]",
      "text/plain": [
       "<Figure size 1000x600 with 1 Axes>"
      ]
     },
     "metadata": {},
     "output_type": "display_data"
    }
   ],
   "source": [
    "plt.figure(figsize=(10,6))\n",
    "plt.plot(months, seasonality['Starts'], marker='o', label='Sales')\n",
    "\n",
    "plt.xticks(months, ['Jan','Feb','Mar','Apr','May','Jun',\n",
    "                    'Jul','Aug','Sep','Oct','Nov','Dec'])\n",
    "plt.title(\"Seasonality of Membership Sales\")\n",
    "plt.xlabel(\"Month\")\n",
    "plt.ylabel(\"Number of Members\")\n",
    "plt.legend()\n",
    "plt.show()"
   ]
  },
  {
   "cell_type": "markdown",
   "id": "f56459d3",
   "metadata": {},
   "source": [
    "### Tenure for canceled members"
   ]
  },
  {
   "cell_type": "code",
   "execution_count": 45,
   "id": "fb8d6bfe",
   "metadata": {},
   "outputs": [
    {
     "name": "stdout",
     "output_type": "stream",
     "text": [
      "Median tenure before cancellation: 105 days\n"
     ]
    }
   ],
   "source": [
    "median_tenure = df.loc[df['status'] == 'Canceled', 'tenure_days'].median()\n",
    "# AVG Cancellation Tenure\n",
    "print(f\"Median tenure before cancellation: {median_tenure:.0f} days\")"
   ]
  },
  {
   "cell_type": "markdown",
   "id": "4fc5e5b8",
   "metadata": {},
   "source": [
    "### Member Retention Rate for Cancelled Members"
   ]
  },
  {
   "cell_type": "code",
   "execution_count": 46,
   "id": "e7640324",
   "metadata": {},
   "outputs": [
    {
     "name": "stdout",
     "output_type": "stream",
     "text": [
      "30-day retention: 78.93%, churn: 21.07%\n",
      "60-day retention: 65.09%, churn: 34.91%\n",
      "90-day retention: 55.66%, churn: 44.34%\n",
      "120-day retention: 43.71%, churn: 56.29%\n"
     ]
    }
   ],
   "source": [
    "# 1) Filter to canceled members only\n",
    "canceled_mask = df['cancel_date'].notna()  # or: df['status'].eq('Canceled')\n",
    "cdf = df.loc[canceled_mask].copy()\n",
    "\n",
    "# 2) Recompute retention flags on *canceled-only*\n",
    "thresholds = [30, 60, 90, 120]\n",
    "for t in thresholds:\n",
    "    cdf[f'retention_{t}d'] = (cdf['tenure_days'] >= t).astype(int)\n",
    "\n",
    "# 3) Compute rates (among canceled only)\n",
    "retention_rates_canceled = {t: cdf[f'retention_{t}d'].mean() for t in thresholds}\n",
    "\n",
    "for t, rate in retention_rates_canceled.items():\n",
    "    print(f\"{t}-day retention: {rate:.2%}, churn: {1-rate:.2%}\")\n",
    "\n",
    "# Convert retention_rates dict into lists\n",
    "days = list(retention_rates_canceled.keys())\n",
    "rates = [rate*100 for rate in retention_rates_canceled.values()]  # convert to %\n",
    "\n",
    "# Calculate churn rates\n",
    "churn_rates = [(1 - rate) * 100 for rate in retention_rates_canceled.values()]  # convert to %"
   ]
  },
  {
   "cell_type": "code",
   "execution_count": 48,
   "id": "b2483acd",
   "metadata": {},
   "outputs": [
    {
     "data": {
      "image/png": "[encoded data removed]",
      "text/plain": [
       "<Figure size 800x500 with 1 Axes>"
      ]
     },
     "metadata": {},
     "output_type": "display_data"
    }
   ],
   "source": [
    "plt.figure(figsize=(8,5))\n",
    "plt.plot(days, rates, marker='o', linestyle='-', color='teal', linewidth=2, label='Retention Rate')\n",
    "plt.plot(days, churn_rates, marker='o', linestyle='--', color='coral', linewidth=2, label='Churn Rate')\n",
    "\n",
    "# Labels & titles\n",
    "plt.title('Retention and Churn Rate at Key Intervals')\n",
    "plt.xlabel('Days Since Joining')\n",
    "plt.ylabel('Rate (%)')\n",
    "plt.ylim(0, 100)\n",
    "plt.grid(True, linestyle='--', alpha=0.7)\n",
    "plt.legend()\n",
    "\n",
    "# Show values on points\n",
    "for x, y in zip(days, rates):\n",
    "    plt.text(x, y+2, f\"{y:.1f}%\", ha='center', fontsize=9, color='teal')\n",
    "for x, y in zip(days, churn_rates):\n",
    "    plt.text(x, y-8, f\"{y:.1f}%\", ha='center', fontsize=9, color='coral')\n",
    "\n",
    "plt.show()"
   ]
  },
  {
   "cell_type": "code",
   "execution_count": 49,
   "id": "39bb3a37",
   "metadata": {},
   "outputs": [
    {
     "data": {
      "image/png": "[encoded data removed]",
      "text/plain": [
       "<Figure size 800x500 with 1 Axes>"
      ]
     },
     "metadata": {},
     "output_type": "display_data"
    }
   ],
   "source": [
    "# Histogram of tenure\n",
    "plt.figure(figsize=(8,5))\n",
    "df.loc[df['status'] == 'Canceled', 'tenure_days'].hist(bins=30, edgecolor='black')\n",
    "plt.title('Tenure Distribution (Churned Members)')\n",
    "plt.xlabel('Tenure (days)')\n",
    "plt.ylabel('Number of Members')\n",
    "plt.show()"
   ]
  },
  {
   "cell_type": "markdown",
   "id": "ef78cebc",
   "metadata": {},
   "source": [
    "### Cancellation Reasons"
   ]
  },
  {
   "cell_type": "code",
   "execution_count": 29,
   "id": "06bcda6d",
   "metadata": {},
   "outputs": [
    {
     "data": {
      "image/png": "[encoded data removed]",
      "text/plain": [
       "<Figure size 1000x600 with 1 Axes>"
      ]
     },
     "metadata": {},
     "output_type": "display_data"
    }
   ],
   "source": [
    "# Count cancellation reasons (including 'None')\n",
    "cancel_reason = (\n",
    "    df.groupby('cancel_reason')['status'].apply(lambda x: (x == 'Canceled').sum())\n",
    "    .sort_values(ascending=False)\n",
    ")\n",
    "\n",
    "# Bar chart of cancel reasons\n",
    "plt.figure(figsize=(10,6))\n",
    "cancel_reason.plot(\n",
    "    kind='bar',\n",
    "    edgecolor='black'\n",
    ")\n",
    "plt.title('Cancel Reasons')\n",
    "plt.xlabel('Reason')\n",
    "plt.ylabel('Number of Members')\n",
    "plt.xticks(rotation=45, ha='right')\n",
    "plt.show()"
   ]
  },
  {
   "cell_type": "markdown",
   "id": "c8208f7a",
   "metadata": {},
   "source": [
    "### Cancellation by Agreement Table"
   ]
  },
  {
   "cell_type": "code",
   "execution_count": 30,
   "id": "c8b855b8",
   "metadata": {},
   "outputs": [
    {
     "data": {
      "image/png": "[encoded data removed]",
      "text/plain": [
       "<Figure size 800x500 with 1 Axes>"
      ]
     },
     "metadata": {},
     "output_type": "display_data"
    },
    {
     "data": {
      "text/html": [
       "<div>\n",
       "<style scoped>\n",
       "    .dataframe tbody tr th:only-of-type {\n",
       "        vertical-align: middle;\n",
       "    }\n",
       "\n",
       "    .dataframe tbody tr th {\n",
       "        vertical-align: top;\n",
       "    }\n",
       "\n",
       "    .dataframe thead th {\n",
       "        text-align: right;\n",
       "    }\n",
       "</style>\n",
       "<table border=\"1\" class=\"dataframe\">\n",
       "  <thead>\n",
       "    <tr style=\"text-align: right;\">\n",
       "      <th></th>\n",
       "      <th>agreement_type</th>\n",
       "      <th>churn_rate</th>\n",
       "    </tr>\n",
       "  </thead>\n",
       "  <tbody>\n",
       "    <tr>\n",
       "      <th>0</th>\n",
       "      <td>Passport Annual</td>\n",
       "      <td>18.181818</td>\n",
       "    </tr>\n",
       "    <tr>\n",
       "      <th>1</th>\n",
       "      <td>Passport M2M</td>\n",
       "      <td>41.911765</td>\n",
       "    </tr>\n",
       "    <tr>\n",
       "      <th>2</th>\n",
       "      <td>Standard Annual</td>\n",
       "      <td>15.476190</td>\n",
       "    </tr>\n",
       "    <tr>\n",
       "      <th>3</th>\n",
       "      <td>Standard M2M</td>\n",
       "      <td>36.348409</td>\n",
       "    </tr>\n",
       "  </tbody>\n",
       "</table>\n",
       "</div>"
      ],
      "text/plain": [
       "    agreement_type  churn_rate\n",
       "0  Passport Annual   18.181818\n",
       "1     Passport M2M   41.911765\n",
       "2  Standard Annual   15.476190\n",
       "3     Standard M2M   36.348409"
      ]
     },
     "execution_count": 30,
     "metadata": {},
     "output_type": "execute_result"
    }
   ],
   "source": [
    "# Churn rate by agreement type\n",
    "churn_by_agreement = (\n",
    "    df.groupby('agreement_type')['status']\n",
    "    .apply(lambda x: (x=='Canceled').mean() * 100)\n",
    "    .reset_index(name='churn_rate')\n",
    ")\n",
    "\n",
    "plt.figure(figsize=(8,5))\n",
    "plt.bar(churn_by_agreement['agreement_type'], churn_by_agreement['churn_rate'], edgecolor='black')\n",
    "plt.title('Churn Rate by Agreement Type')\n",
    "plt.ylabel('Churn Rate')\n",
    "plt.xticks(rotation=45, ha='right')\n",
    "plt.show()\n",
    "\n",
    "churn_by_agreement"
   ]
  },
  {
   "cell_type": "code",
   "execution_count": 31,
   "id": "d02fda2e",
   "metadata": {},
   "outputs": [
    {
     "data": {
      "text/html": [
       "<div>\n",
       "<style scoped>\n",
       "    .dataframe tbody tr th:only-of-type {\n",
       "        vertical-align: middle;\n",
       "    }\n",
       "\n",
       "    .dataframe tbody tr th {\n",
       "        vertical-align: top;\n",
       "    }\n",
       "\n",
       "    .dataframe thead th {\n",
       "        text-align: right;\n",
       "    }\n",
       "</style>\n",
       "<table border=\"1\" class=\"dataframe\">\n",
       "  <thead>\n",
       "    <tr style=\"text-align: right;\">\n",
       "      <th></th>\n",
       "      <th>agreement_type</th>\n",
       "      <th>retention_30d</th>\n",
       "      <th>retention_60d</th>\n",
       "      <th>retention_90d</th>\n",
       "      <th>retention_120d</th>\n",
       "      <th>churn_30d</th>\n",
       "      <th>churn_60d</th>\n",
       "      <th>churn_90d</th>\n",
       "      <th>churn_120d</th>\n",
       "    </tr>\n",
       "  </thead>\n",
       "  <tbody>\n",
       "    <tr>\n",
       "      <th>0</th>\n",
       "      <td>Passport Annual</td>\n",
       "      <td>0.611111</td>\n",
       "      <td>0.444444</td>\n",
       "      <td>0.388889</td>\n",
       "      <td>0.222222</td>\n",
       "      <td>0.388889</td>\n",
       "      <td>0.555556</td>\n",
       "      <td>0.611111</td>\n",
       "      <td>0.777778</td>\n",
       "    </tr>\n",
       "    <tr>\n",
       "      <th>1</th>\n",
       "      <td>Passport M2M</td>\n",
       "      <td>0.754386</td>\n",
       "      <td>0.649123</td>\n",
       "      <td>0.543860</td>\n",
       "      <td>0.403509</td>\n",
       "      <td>0.245614</td>\n",
       "      <td>0.350877</td>\n",
       "      <td>0.456140</td>\n",
       "      <td>0.596491</td>\n",
       "    </tr>\n",
       "    <tr>\n",
       "      <th>2</th>\n",
       "      <td>Standard Annual</td>\n",
       "      <td>0.769231</td>\n",
       "      <td>0.576923</td>\n",
       "      <td>0.500000</td>\n",
       "      <td>0.307692</td>\n",
       "      <td>0.230769</td>\n",
       "      <td>0.423077</td>\n",
       "      <td>0.500000</td>\n",
       "      <td>0.692308</td>\n",
       "    </tr>\n",
       "    <tr>\n",
       "      <th>3</th>\n",
       "      <td>Standard M2M</td>\n",
       "      <td>0.815668</td>\n",
       "      <td>0.677419</td>\n",
       "      <td>0.580645</td>\n",
       "      <td>0.479263</td>\n",
       "      <td>0.184332</td>\n",
       "      <td>0.322581</td>\n",
       "      <td>0.419355</td>\n",
       "      <td>0.520737</td>\n",
       "    </tr>\n",
       "  </tbody>\n",
       "</table>\n",
       "</div>"
      ],
      "text/plain": [
       "    agreement_type  retention_30d  retention_60d  retention_90d  \\\n",
       "0  Passport Annual       0.611111       0.444444       0.388889   \n",
       "1     Passport M2M       0.754386       0.649123       0.543860   \n",
       "2  Standard Annual       0.769231       0.576923       0.500000   \n",
       "3     Standard M2M       0.815668       0.677419       0.580645   \n",
       "\n",
       "   retention_120d  churn_30d  churn_60d  churn_90d  churn_120d  \n",
       "0        0.222222   0.388889   0.555556   0.611111    0.777778  \n",
       "1        0.403509   0.245614   0.350877   0.456140    0.596491  \n",
       "2        0.307692   0.230769   0.423077   0.500000    0.692308  \n",
       "3        0.479263   0.184332   0.322581   0.419355    0.520737  "
      ]
     },
     "execution_count": 31,
     "metadata": {},
     "output_type": "execute_result"
    }
   ],
   "source": [
    "# Summarize retention (use canceled members only)\n",
    "retention_summary = (\n",
    "    cdf.groupby(\"agreement_type\")[[\"retention_30d\",\"retention_60d\",\"retention_90d\",\"retention_120d\"]]\n",
    "      .mean()   # mean of 0/1 columns = retention rate\n",
    "      .reset_index()\n",
    ")\n",
    "\n",
    "# Add churn columns (just 1 - retention)\n",
    "for col in [\"retention_30d\",\"retention_60d\",\"retention_90d\",\"retention_120d\"]:\n",
    "   churn_col = col.replace(\"retention\",\"churn\")\n",
    "   retention_summary[churn_col] = 1 - retention_summary[col]\n",
    "\n",
    "retention_summary"
   ]
  },
  {
   "cell_type": "code",
   "execution_count": 32,
   "id": "2eb5e489",
   "metadata": {},
   "outputs": [
    {
     "data": {
      "image/png": "[encoded data removed]",
      "text/plain": [
       "<Figure size 800x500 with 1 Axes>"
      ]
     },
     "metadata": {},
     "output_type": "display_data"
    }
   ],
   "source": [
    "plt.figure(figsize=(8,5))\n",
    "plt.plot(retention_summary.set_index(\"agreement_type\")[\n",
    "    [\"retention_30d\",\"retention_60d\",\"retention_90d\",\"retention_120d\"]].T, marker='o')\n",
    "plt.title(\"Retention by Agreement Type\")\n",
    "plt.ylabel(\"Retention Rate\")\n",
    "plt.xlabel(\"Days\")\n",
    "plt.show()"
   ]
  }
 ],
 "metadata": {
  "kernelspec": {
   "display_name": "Python 3",
   "language": "python",
   "name": "python3"
  },
  "language_info": {
   "codemirror_mode": {
    "name": "ipython",
    "version": 3
   },
   "file_extension": ".py",
   "mimetype": "text/x-python",
   "name": "python",
   "nbconvert_exporter": "python",
   "pygments_lexer": "ipython3",
   "version": "3.13.7"
  }
 },
 "nbformat": 4,
 "nbformat_minor": 5
}
