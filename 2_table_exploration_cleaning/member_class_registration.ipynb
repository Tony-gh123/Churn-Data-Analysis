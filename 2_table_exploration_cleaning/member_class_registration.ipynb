{
 "cells": [
  {
   "cell_type": "markdown",
   "id": "5f599e3c",
   "metadata": {},
   "source": [
    "# member_class_registration (MCA): Raw Data Discovery & Insights"
   ]
  },
  {
   "cell_type": "markdown",
   "id": "eb44f95a",
   "metadata": {},
   "source": [
    "### Target Attributes: member_id, class_name, class_date, class_time"
   ]
  },
  {
   "cell_type": "code",
   "execution_count": null,
   "id": "0b5e02c8",
   "metadata": {},
   "outputs": [],
   "source": [
    "import sqlite3\n",
    "import numpy as np\n",
    "import matplotlib.pylab as plt\n",
    "import pandas as pd\n",
    "import seaborn as sns\n",
    "\n",
    "conn = sqlite3.connect(r\"__PATH__\")\n",
    "\n",
    "df = pd.read_sql_query(\"SELECT * FROM member_class_registration\", conn)"
   ]
  },
  {
   "cell_type": "markdown",
   "id": "ac2bd7cc",
   "metadata": {},
   "source": [
    "### Data Understanding, Cleaning & Preparation"
   ]
  },
  {
   "cell_type": "code",
   "execution_count": 3,
   "id": "54a934fa",
   "metadata": {},
   "outputs": [
    {
     "data": {
      "text/plain": [
       "(1842, 12)"
      ]
     },
     "execution_count": 3,
     "metadata": {},
     "output_type": "execute_result"
    }
   ],
   "source": [
    "df.shape"
   ]
  },
  {
   "cell_type": "code",
   "execution_count": 4,
   "id": "86c85ea0",
   "metadata": {},
   "outputs": [
    {
     "data": {
      "text/html": [
       "<div>\n",
       "<style scoped>\n",
       "    .dataframe tbody tr th:only-of-type {\n",
       "        vertical-align: middle;\n",
       "    }\n",
       "\n",
       "    .dataframe tbody tr th {\n",
       "        vertical-align: top;\n",
       "    }\n",
       "\n",
       "    .dataframe thead th {\n",
       "        text-align: right;\n",
       "    }\n",
       "</style>\n",
       "<table border=\"1\" class=\"dataframe\">\n",
       "  <thead>\n",
       "    <tr style=\"text-align: right;\">\n",
       "      <th></th>\n",
       "      <th>class_row_id</th>\n",
       "      <th>member_id</th>\n",
       "      <th>First Name</th>\n",
       "      <th>Last Name</th>\n",
       "      <th>Class Name</th>\n",
       "      <th>Instructor</th>\n",
       "      <th>Class Date</th>\n",
       "      <th>Class Time</th>\n",
       "      <th>Location</th>\n",
       "      <th>Class Registration Date</th>\n",
       "      <th>Status</th>\n",
       "      <th>Notes</th>\n",
       "    </tr>\n",
       "  </thead>\n",
       "  <tbody>\n",
       "    <tr>\n",
       "      <th>0</th>\n",
       "      <td>1</td>\n",
       "      <td>ABC1239</td>\n",
       "      <td>Thomas</td>\n",
       "      <td>Pena</td>\n",
       "      <td>Strength Training</td>\n",
       "      <td>Mike Brown</td>\n",
       "      <td>2025-07-07</td>\n",
       "      <td>07:20 PM</td>\n",
       "      <td>Gym Floor</td>\n",
       "      <td>2024-08-02</td>\n",
       "      <td>Registered</td>\n",
       "      <td>FIRST TIME ATTENDING</td>\n",
       "    </tr>\n",
       "    <tr>\n",
       "      <th>1</th>\n",
       "      <td>2</td>\n",
       "      <td>ABC1440</td>\n",
       "      <td>Michael</td>\n",
       "      <td>Holland</td>\n",
       "      <td>nan</td>\n",
       "      <td>Carlos Ruiz</td>\n",
       "      <td>2025-07-25</td>\n",
       "      <td>04:49 PM</td>\n",
       "      <td>Studio B</td>\n",
       "      <td>2025-07-22</td>\n",
       "      <td>Registered</td>\n",
       "      <td>BRINGING OWN MAT</td>\n",
       "    </tr>\n",
       "  </tbody>\n",
       "</table>\n",
       "</div>"
      ],
      "text/plain": [
       "   class_row_id member_id First Name Last Name          Class Name  \\\n",
       "0             1   ABC1239     Thomas      Pena  Strength Training    \n",
       "1             2   ABC1440    Michael   Holland                nan    \n",
       "\n",
       "    Instructor  Class Date Class Time   Location Class Registration Date  \\\n",
       "0   Mike Brown  2025-07-07   07:20 PM  Gym Floor              2024-08-02   \n",
       "1  Carlos Ruiz  2025-07-25   04:49 PM   Studio B              2025-07-22   \n",
       "\n",
       "       Status                 Notes  \n",
       "0  Registered  FIRST TIME ATTENDING  \n",
       "1  Registered      BRINGING OWN MAT  "
      ]
     },
     "execution_count": 4,
     "metadata": {},
     "output_type": "execute_result"
    }
   ],
   "source": [
    "df.head(2)"
   ]
  },
  {
   "cell_type": "code",
   "execution_count": 5,
   "id": "587f0432",
   "metadata": {},
   "outputs": [],
   "source": [
    "df.columns = df.columns.str.lower()\n",
    "df.columns = df.columns.str.replace(\" \", \"_\")"
   ]
  },
  {
   "cell_type": "code",
   "execution_count": 6,
   "id": "6383a2f7",
   "metadata": {},
   "outputs": [
    {
     "data": {
      "text/plain": [
       "Index(['class_row_id', 'member_id', 'first_name', 'last_name', 'class_name',\n",
       "       'instructor', 'class_date', 'class_time', 'location',\n",
       "       'class_registration_date', 'status', 'notes'],\n",
       "      dtype='object')"
      ]
     },
     "execution_count": 6,
     "metadata": {},
     "output_type": "execute_result"
    }
   ],
   "source": [
    "df.columns"
   ]
  },
  {
   "cell_type": "code",
   "execution_count": 7,
   "id": "8919f488",
   "metadata": {},
   "outputs": [],
   "source": [
    "df = df[[#'class_row_id', \n",
    "          'member_id',\n",
    "          #'Last_Name', \n",
    "          'class_name', \n",
    "          #'Instructor',\n",
    "       'class_date', 'class_time'\n",
    "       #'Location',\n",
    "       #'Class_Registration_Date', 'Status', 'Notes'\n",
    "       ]].copy()"
   ]
  },
  {
   "cell_type": "code",
   "execution_count": 8,
   "id": "3965ae6f",
   "metadata": {},
   "outputs": [
    {
     "data": {
      "text/plain": [
       "(Index(['member_id', 'class_name', 'class_date', 'class_time'], dtype='object'),\n",
       " member_id     object\n",
       " class_name    object\n",
       " class_date    object\n",
       " class_time    object\n",
       " dtype: object)"
      ]
     },
     "execution_count": 8,
     "metadata": {},
     "output_type": "execute_result"
    }
   ],
   "source": [
    "df.columns, df.dtypes"
   ]
  },
  {
   "cell_type": "code",
   "execution_count": 9,
   "id": "ac1d50ec",
   "metadata": {},
   "outputs": [],
   "source": [
    "df['class_time'] = pd.to_datetime(df['class_time'], format=\"%I:%M %p\").dt.time\n",
    "df['class_date'] = pd.to_datetime(df['class_date'], format='%Y-%m-%d', errors='coerce')"
   ]
  },
  {
   "cell_type": "code",
   "execution_count": 10,
   "id": "a45f0620",
   "metadata": {},
   "outputs": [
    {
     "data": {
      "text/plain": [
       "member_id       0\n",
       "class_name    139\n",
       "class_date      0\n",
       "class_time      0\n",
       "dtype: int64"
      ]
     },
     "execution_count": 10,
     "metadata": {},
     "output_type": "execute_result"
    }
   ],
   "source": [
    "df.isna().sum()"
   ]
  },
  {
   "cell_type": "code",
   "execution_count": 11,
   "id": "94fd1087",
   "metadata": {},
   "outputs": [
    {
     "data": {
      "text/plain": [
       "array(['Strength Training ', 'nan ', None, 'Strength Training',\n",
       "       'Zumba Dance ', 'Yoga Basics', 'Spin Class', 'ZUMBA DANCE',\n",
       "       'Zumba Dance', 'SPIN CLASS', 'YOGA BASICS', 'Spin Class ',\n",
       "       'Yoga Basics ', 'STRENGTH TRAINING', 'NAN', 'ZUMBA DANCE ',\n",
       "       'SPIN CLASS '], dtype=object)"
      ]
     },
     "execution_count": 11,
     "metadata": {},
     "output_type": "execute_result"
    }
   ],
   "source": [
    "df['class_name'].unique()"
   ]
  },
  {
   "cell_type": "code",
   "execution_count": 12,
   "id": "d8dafcce",
   "metadata": {},
   "outputs": [
    {
     "data": {
      "text/plain": [
       "array(['strength training', 'nan', None, 'zumba dance', 'yoga basics',\n",
       "       'spin class'], dtype=object)"
      ]
     },
     "execution_count": 12,
     "metadata": {},
     "output_type": "execute_result"
    }
   ],
   "source": [
    "df['class_name'] = df['class_name'].str.strip().str.lower()\n",
    "df['class_name'].unique()"
   ]
  },
  {
   "cell_type": "code",
   "execution_count": 13,
   "id": "29551bf3",
   "metadata": {},
   "outputs": [
    {
     "data": {
      "text/plain": [
       "array(['strength training', nan, 'zumba dance', 'yoga basics',\n",
       "       'spin class'], dtype=object)"
      ]
     },
     "execution_count": 13,
     "metadata": {},
     "output_type": "execute_result"
    }
   ],
   "source": [
    "df['class_name'] = df['class_name'].replace([None, 'nan'], np.nan)\n",
    "df['class_name'].unique()"
   ]
  },
  {
   "cell_type": "code",
   "execution_count": 14,
   "id": "a186b08e",
   "metadata": {},
   "outputs": [
    {
     "data": {
      "text/plain": [
       "class_name\n",
       "zumba dance          431\n",
       "spin class           428\n",
       "yoga basics          416\n",
       "strength training    413\n",
       "NaN                  154\n",
       "Name: count, dtype: int64"
      ]
     },
     "execution_count": 14,
     "metadata": {},
     "output_type": "execute_result"
    }
   ],
   "source": [
    "df['class_name'].value_counts(dropna=False)"
   ]
  },
  {
   "cell_type": "code",
   "execution_count": 15,
   "id": "a8e51bd8",
   "metadata": {},
   "outputs": [],
   "source": [
    "df['class_name'] = df['class_name'].fillna(\"general class\")"
   ]
  },
  {
   "cell_type": "code",
   "execution_count": 16,
   "id": "67ef42e1",
   "metadata": {},
   "outputs": [
    {
     "data": {
      "text/plain": [
       "class_name\n",
       "zumba dance          431\n",
       "spin class           428\n",
       "yoga basics          416\n",
       "strength training    413\n",
       "general class        154\n",
       "Name: count, dtype: int64"
      ]
     },
     "execution_count": 16,
     "metadata": {},
     "output_type": "execute_result"
    }
   ],
   "source": [
    "df['class_name'].value_counts(dropna=False)"
   ]
  },
  {
   "cell_type": "code",
   "execution_count": 17,
   "id": "176708c9",
   "metadata": {},
   "outputs": [
    {
     "data": {
      "text/html": [
       "<div>\n",
       "<style scoped>\n",
       "    .dataframe tbody tr th:only-of-type {\n",
       "        vertical-align: middle;\n",
       "    }\n",
       "\n",
       "    .dataframe tbody tr th {\n",
       "        vertical-align: top;\n",
       "    }\n",
       "\n",
       "    .dataframe thead th {\n",
       "        text-align: right;\n",
       "    }\n",
       "</style>\n",
       "<table border=\"1\" class=\"dataframe\">\n",
       "  <thead>\n",
       "    <tr style=\"text-align: right;\">\n",
       "      <th></th>\n",
       "      <th>member_id</th>\n",
       "      <th>class_name</th>\n",
       "      <th>class_date</th>\n",
       "      <th>class_time</th>\n",
       "    </tr>\n",
       "  </thead>\n",
       "  <tbody>\n",
       "    <tr>\n",
       "      <th>0</th>\n",
       "      <td>ABC1239</td>\n",
       "      <td>strength training</td>\n",
       "      <td>2025-07-07</td>\n",
       "      <td>19:20:00</td>\n",
       "    </tr>\n",
       "    <tr>\n",
       "      <th>1</th>\n",
       "      <td>ABC1440</td>\n",
       "      <td>general class</td>\n",
       "      <td>2025-07-25</td>\n",
       "      <td>16:49:00</td>\n",
       "    </tr>\n",
       "    <tr>\n",
       "      <th>2</th>\n",
       "      <td>ABC1868</td>\n",
       "      <td>general class</td>\n",
       "      <td>2025-07-25</td>\n",
       "      <td>19:11:00</td>\n",
       "    </tr>\n",
       "    <tr>\n",
       "      <th>3</th>\n",
       "      <td>ABC1389</td>\n",
       "      <td>strength training</td>\n",
       "      <td>2025-01-14</td>\n",
       "      <td>06:44:00</td>\n",
       "    </tr>\n",
       "    <tr>\n",
       "      <th>4</th>\n",
       "      <td>ABC1797</td>\n",
       "      <td>strength training</td>\n",
       "      <td>2025-04-11</td>\n",
       "      <td>15:26:00</td>\n",
       "    </tr>\n",
       "  </tbody>\n",
       "</table>\n",
       "</div>"
      ],
      "text/plain": [
       "  member_id         class_name class_date class_time\n",
       "0   ABC1239  strength training 2025-07-07   19:20:00\n",
       "1   ABC1440      general class 2025-07-25   16:49:00\n",
       "2   ABC1868      general class 2025-07-25   19:11:00\n",
       "3   ABC1389  strength training 2025-01-14   06:44:00\n",
       "4   ABC1797  strength training 2025-04-11   15:26:00"
      ]
     },
     "execution_count": 17,
     "metadata": {},
     "output_type": "execute_result"
    }
   ],
   "source": [
    "df.head()"
   ]
  },
  {
   "cell_type": "code",
   "execution_count": 18,
   "id": "d3611efa",
   "metadata": {},
   "outputs": [
    {
     "data": {
      "text/html": [
       "<div>\n",
       "<style scoped>\n",
       "    .dataframe tbody tr th:only-of-type {\n",
       "        vertical-align: middle;\n",
       "    }\n",
       "\n",
       "    .dataframe tbody tr th {\n",
       "        vertical-align: top;\n",
       "    }\n",
       "\n",
       "    .dataframe thead th {\n",
       "        text-align: right;\n",
       "    }\n",
       "</style>\n",
       "<table border=\"1\" class=\"dataframe\">\n",
       "  <thead>\n",
       "    <tr style=\"text-align: right;\">\n",
       "      <th></th>\n",
       "      <th>member_id</th>\n",
       "      <th>class_name</th>\n",
       "      <th>class_date</th>\n",
       "      <th>class_time</th>\n",
       "    </tr>\n",
       "  </thead>\n",
       "  <tbody>\n",
       "    <tr>\n",
       "      <th>422</th>\n",
       "      <td>ABC1010</td>\n",
       "      <td>zumba dance</td>\n",
       "      <td>2025-04-04</td>\n",
       "      <td>17:18:00</td>\n",
       "    </tr>\n",
       "    <tr>\n",
       "      <th>1534</th>\n",
       "      <td>ABC1010</td>\n",
       "      <td>yoga basics</td>\n",
       "      <td>2025-07-01</td>\n",
       "      <td>16:46:00</td>\n",
       "    </tr>\n",
       "  </tbody>\n",
       "</table>\n",
       "</div>"
      ],
      "text/plain": [
       "     member_id   class_name class_date class_time\n",
       "422    ABC1010  zumba dance 2025-04-04   17:18:00\n",
       "1534   ABC1010  yoga basics 2025-07-01   16:46:00"
      ]
     },
     "execution_count": 18,
     "metadata": {},
     "output_type": "execute_result"
    }
   ],
   "source": [
    "df[df['member_id'] == \"ABC1010\"]"
   ]
  },
  {
   "cell_type": "markdown",
   "id": "76e295bc",
   "metadata": {},
   "source": [
    "### Member Level Aggregates"
   ]
  },
  {
   "cell_type": "code",
   "execution_count": 19,
   "id": "29f17212",
   "metadata": {},
   "outputs": [
    {
     "data": {
      "text/html": [
       "<div>\n",
       "<style scoped>\n",
       "    .dataframe tbody tr th:only-of-type {\n",
       "        vertical-align: middle;\n",
       "    }\n",
       "\n",
       "    .dataframe tbody tr th {\n",
       "        vertical-align: top;\n",
       "    }\n",
       "\n",
       "    .dataframe thead th {\n",
       "        text-align: right;\n",
       "    }\n",
       "</style>\n",
       "<table border=\"1\" class=\"dataframe\">\n",
       "  <thead>\n",
       "    <tr style=\"text-align: right;\">\n",
       "      <th></th>\n",
       "      <th>member_id</th>\n",
       "      <th>class_name</th>\n",
       "      <th>class_date</th>\n",
       "      <th>class_time</th>\n",
       "      <th>total_classes</th>\n",
       "    </tr>\n",
       "  </thead>\n",
       "  <tbody>\n",
       "    <tr>\n",
       "      <th>422</th>\n",
       "      <td>ABC1010</td>\n",
       "      <td>zumba dance</td>\n",
       "      <td>2025-04-04</td>\n",
       "      <td>17:18:00</td>\n",
       "      <td>2</td>\n",
       "    </tr>\n",
       "    <tr>\n",
       "      <th>1534</th>\n",
       "      <td>ABC1010</td>\n",
       "      <td>yoga basics</td>\n",
       "      <td>2025-07-01</td>\n",
       "      <td>16:46:00</td>\n",
       "      <td>2</td>\n",
       "    </tr>\n",
       "  </tbody>\n",
       "</table>\n",
       "</div>"
      ],
      "text/plain": [
       "     member_id   class_name class_date class_time  total_classes\n",
       "422    ABC1010  zumba dance 2025-04-04   17:18:00              2\n",
       "1534   ABC1010  yoga basics 2025-07-01   16:46:00              2"
      ]
     },
     "execution_count": 19,
     "metadata": {},
     "output_type": "execute_result"
    }
   ],
   "source": [
    "df[\"total_classes\"] = df.groupby(\"member_id\")[\"class_name\"].transform(\"count\")\n",
    "\n",
    "df[df['member_id'] == \"ABC1010\"]"
   ]
  },
  {
   "cell_type": "code",
   "execution_count": 20,
   "id": "227eec19",
   "metadata": {},
   "outputs": [
    {
     "data": {
      "text/html": [
       "<div>\n",
       "<style scoped>\n",
       "    .dataframe tbody tr th:only-of-type {\n",
       "        vertical-align: middle;\n",
       "    }\n",
       "\n",
       "    .dataframe tbody tr th {\n",
       "        vertical-align: top;\n",
       "    }\n",
       "\n",
       "    .dataframe thead th {\n",
       "        text-align: right;\n",
       "    }\n",
       "</style>\n",
       "<table border=\"1\" class=\"dataframe\">\n",
       "  <thead>\n",
       "    <tr style=\"text-align: right;\">\n",
       "      <th></th>\n",
       "      <th>member_id</th>\n",
       "      <th>class_name</th>\n",
       "      <th>class_date</th>\n",
       "      <th>class_time</th>\n",
       "      <th>total_classes</th>\n",
       "      <th>favorite_class</th>\n",
       "    </tr>\n",
       "  </thead>\n",
       "  <tbody>\n",
       "    <tr>\n",
       "      <th>422</th>\n",
       "      <td>ABC1010</td>\n",
       "      <td>zumba dance</td>\n",
       "      <td>2025-04-04</td>\n",
       "      <td>17:18:00</td>\n",
       "      <td>2</td>\n",
       "      <td>yoga basics</td>\n",
       "    </tr>\n",
       "    <tr>\n",
       "      <th>1534</th>\n",
       "      <td>ABC1010</td>\n",
       "      <td>yoga basics</td>\n",
       "      <td>2025-07-01</td>\n",
       "      <td>16:46:00</td>\n",
       "      <td>2</td>\n",
       "      <td>yoga basics</td>\n",
       "    </tr>\n",
       "  </tbody>\n",
       "</table>\n",
       "</div>"
      ],
      "text/plain": [
       "     member_id   class_name class_date class_time  total_classes  \\\n",
       "422    ABC1010  zumba dance 2025-04-04   17:18:00              2   \n",
       "1534   ABC1010  yoga basics 2025-07-01   16:46:00              2   \n",
       "\n",
       "     favorite_class  \n",
       "422     yoga basics  \n",
       "1534    yoga basics  "
      ]
     },
     "execution_count": 20,
     "metadata": {},
     "output_type": "execute_result"
    }
   ],
   "source": [
    "member_fav_class = (\n",
    "    df.groupby(['member_id', 'class_name'])\n",
    "      .size()\n",
    "      .reset_index(name='count')\n",
    ")\n",
    "\n",
    "# Pick class with max count per member\n",
    "member_fav_class = member_fav_class.loc[\n",
    "    member_fav_class.groupby('member_id')['count'].idxmax()\n",
    "]\n",
    "\n",
    "member_fav_class = member_fav_class[['member_id', 'class_name']].rename(\n",
    "    columns={'class_name': 'favorite_class'}\n",
    ")\n",
    "\n",
    "df = df.merge(member_fav_class, on=\"member_id\", how=\"left\")\n",
    "\n",
    "df[df['member_id'] == \"ABC1010\"]"
   ]
  },
  {
   "cell_type": "code",
   "execution_count": 21,
   "id": "2c6f2ee9",
   "metadata": {},
   "outputs": [
    {
     "data": {
      "text/html": [
       "<div>\n",
       "<style scoped>\n",
       "    .dataframe tbody tr th:only-of-type {\n",
       "        vertical-align: middle;\n",
       "    }\n",
       "\n",
       "    .dataframe tbody tr th {\n",
       "        vertical-align: top;\n",
       "    }\n",
       "\n",
       "    .dataframe thead th {\n",
       "        text-align: right;\n",
       "    }\n",
       "</style>\n",
       "<table border=\"1\" class=\"dataframe\">\n",
       "  <thead>\n",
       "    <tr style=\"text-align: right;\">\n",
       "      <th></th>\n",
       "      <th>member_id</th>\n",
       "      <th>class_name</th>\n",
       "      <th>class_date</th>\n",
       "      <th>class_time</th>\n",
       "      <th>total_classes</th>\n",
       "      <th>favorite_class</th>\n",
       "      <th>day_of_week</th>\n",
       "      <th>hour</th>\n",
       "      <th>favorite_day</th>\n",
       "      <th>favorite_hour</th>\n",
       "    </tr>\n",
       "  </thead>\n",
       "  <tbody>\n",
       "    <tr>\n",
       "      <th>422</th>\n",
       "      <td>ABC1010</td>\n",
       "      <td>zumba dance</td>\n",
       "      <td>2025-04-04</td>\n",
       "      <td>17:18:00</td>\n",
       "      <td>2</td>\n",
       "      <td>yoga basics</td>\n",
       "      <td>Friday</td>\n",
       "      <td>17</td>\n",
       "      <td>Friday</td>\n",
       "      <td>16</td>\n",
       "    </tr>\n",
       "    <tr>\n",
       "      <th>1534</th>\n",
       "      <td>ABC1010</td>\n",
       "      <td>yoga basics</td>\n",
       "      <td>2025-07-01</td>\n",
       "      <td>16:46:00</td>\n",
       "      <td>2</td>\n",
       "      <td>yoga basics</td>\n",
       "      <td>Tuesday</td>\n",
       "      <td>16</td>\n",
       "      <td>Friday</td>\n",
       "      <td>16</td>\n",
       "    </tr>\n",
       "  </tbody>\n",
       "</table>\n",
       "</div>"
      ],
      "text/plain": [
       "     member_id   class_name class_date class_time  total_classes  \\\n",
       "422    ABC1010  zumba dance 2025-04-04   17:18:00              2   \n",
       "1534   ABC1010  yoga basics 2025-07-01   16:46:00              2   \n",
       "\n",
       "     favorite_class day_of_week  hour favorite_day  favorite_hour  \n",
       "422     yoga basics      Friday    17       Friday             16  \n",
       "1534    yoga basics     Tuesday    16       Friday             16  "
      ]
     },
     "execution_count": 21,
     "metadata": {},
     "output_type": "execute_result"
    }
   ],
   "source": [
    "# extract features\n",
    "df['day_of_week'] = df['class_date'].dt.day_name()\n",
    "df['hour'] = df['class_time'].apply(lambda t: t.hour)\n",
    "\n",
    "# favorite day\n",
    "fav_day = (\n",
    "    df.groupby('member_id')['day_of_week']\n",
    "      .agg(lambda x: x.mode()[0])\n",
    "      .reset_index(name='favorite_day')\n",
    ")\n",
    "\n",
    "# favorite hour\n",
    "fav_hour = (\n",
    "    df.groupby('member_id')['hour']\n",
    "      .agg(lambda x: x.mode()[0])\n",
    "      .reset_index(name='favorite_hour')\n",
    ")\n",
    "\n",
    "# merge back\n",
    "df = df.merge(fav_day, on='member_id', how='left')\n",
    "df = df.merge(fav_hour, on='member_id', how='left')\n",
    "\n",
    "df[df['member_id'] == \"ABC1010\"]"
   ]
  },
  {
   "cell_type": "code",
   "execution_count": 22,
   "id": "fe982446",
   "metadata": {},
   "outputs": [
    {
     "data": {
      "text/html": [
       "<div>\n",
       "<style scoped>\n",
       "    .dataframe tbody tr th:only-of-type {\n",
       "        vertical-align: middle;\n",
       "    }\n",
       "\n",
       "    .dataframe tbody tr th {\n",
       "        vertical-align: top;\n",
       "    }\n",
       "\n",
       "    .dataframe thead th {\n",
       "        text-align: right;\n",
       "    }\n",
       "</style>\n",
       "<table border=\"1\" class=\"dataframe\">\n",
       "  <thead>\n",
       "    <tr style=\"text-align: right;\">\n",
       "      <th></th>\n",
       "      <th>member_id</th>\n",
       "      <th>class_name</th>\n",
       "      <th>class_date</th>\n",
       "      <th>class_time</th>\n",
       "      <th>total_classes</th>\n",
       "      <th>favorite_class</th>\n",
       "      <th>day_of_week</th>\n",
       "      <th>hour</th>\n",
       "      <th>favorite_day</th>\n",
       "      <th>favorite_hour</th>\n",
       "      <th>latest_class</th>\n",
       "    </tr>\n",
       "  </thead>\n",
       "  <tbody>\n",
       "    <tr>\n",
       "      <th>422</th>\n",
       "      <td>ABC1010</td>\n",
       "      <td>zumba dance</td>\n",
       "      <td>2025-04-04</td>\n",
       "      <td>17:18:00</td>\n",
       "      <td>2</td>\n",
       "      <td>yoga basics</td>\n",
       "      <td>Friday</td>\n",
       "      <td>17</td>\n",
       "      <td>Friday</td>\n",
       "      <td>16</td>\n",
       "      <td>2025-07-01</td>\n",
       "    </tr>\n",
       "    <tr>\n",
       "      <th>1534</th>\n",
       "      <td>ABC1010</td>\n",
       "      <td>yoga basics</td>\n",
       "      <td>2025-07-01</td>\n",
       "      <td>16:46:00</td>\n",
       "      <td>2</td>\n",
       "      <td>yoga basics</td>\n",
       "      <td>Tuesday</td>\n",
       "      <td>16</td>\n",
       "      <td>Friday</td>\n",
       "      <td>16</td>\n",
       "      <td>2025-07-01</td>\n",
       "    </tr>\n",
       "  </tbody>\n",
       "</table>\n",
       "</div>"
      ],
      "text/plain": [
       "     member_id   class_name class_date class_time  total_classes  \\\n",
       "422    ABC1010  zumba dance 2025-04-04   17:18:00              2   \n",
       "1534   ABC1010  yoga basics 2025-07-01   16:46:00              2   \n",
       "\n",
       "     favorite_class day_of_week  hour favorite_day  favorite_hour latest_class  \n",
       "422     yoga basics      Friday    17       Friday             16   2025-07-01  \n",
       "1534    yoga basics     Tuesday    16       Friday             16   2025-07-01  "
      ]
     },
     "execution_count": 22,
     "metadata": {},
     "output_type": "execute_result"
    }
   ],
   "source": [
    "# last class date per member\n",
    "last_class = (\n",
    "    df.groupby('member_id')['class_date']\n",
    "      .max()\n",
    "      .reset_index(name='latest_class')\n",
    ")\n",
    "\n",
    "df = df.merge(last_class, on='member_id', how='left') \n",
    "df[df['member_id'] == \"ABC1010\"]"
   ]
  },
  {
   "cell_type": "code",
   "execution_count": 23,
   "id": "3ff0296c",
   "metadata": {},
   "outputs": [
    {
     "data": {
      "text/html": [
       "<div>\n",
       "<style scoped>\n",
       "    .dataframe tbody tr th:only-of-type {\n",
       "        vertical-align: middle;\n",
       "    }\n",
       "\n",
       "    .dataframe tbody tr th {\n",
       "        vertical-align: top;\n",
       "    }\n",
       "\n",
       "    .dataframe thead th {\n",
       "        text-align: right;\n",
       "    }\n",
       "</style>\n",
       "<table border=\"1\" class=\"dataframe\">\n",
       "  <thead>\n",
       "    <tr style=\"text-align: right;\">\n",
       "      <th></th>\n",
       "      <th>member_id</th>\n",
       "      <th>total_classes</th>\n",
       "      <th>favorite_class</th>\n",
       "      <th>favorite_day</th>\n",
       "      <th>favorite_hour</th>\n",
       "    </tr>\n",
       "  </thead>\n",
       "  <tbody>\n",
       "    <tr>\n",
       "      <th>422</th>\n",
       "      <td>ABC1010</td>\n",
       "      <td>2</td>\n",
       "      <td>yoga basics</td>\n",
       "      <td>Friday</td>\n",
       "      <td>16</td>\n",
       "    </tr>\n",
       "  </tbody>\n",
       "</table>\n",
       "</div>"
      ],
      "text/plain": [
       "    member_id  total_classes favorite_class favorite_day  favorite_hour\n",
       "422   ABC1010              2    yoga basics       Friday             16"
      ]
     },
     "execution_count": 23,
     "metadata": {},
     "output_type": "execute_result"
    }
   ],
   "source": [
    "# now build the member-level table\n",
    "member_features = (\n",
    "    df[['member_id','total_classes','favorite_class','favorite_day','favorite_hour']]\n",
    "    .drop_duplicates('member_id')\n",
    ")    \n",
    "\n",
    "member_features[member_features['member_id'] == \"ABC1010\"]"
   ]
  },
  {
   "cell_type": "code",
   "execution_count": 24,
   "id": "80994ece",
   "metadata": {},
   "outputs": [
    {
     "data": {
      "text/html": [
       "<div>\n",
       "<style scoped>\n",
       "    .dataframe tbody tr th:only-of-type {\n",
       "        vertical-align: middle;\n",
       "    }\n",
       "\n",
       "    .dataframe tbody tr th {\n",
       "        vertical-align: top;\n",
       "    }\n",
       "\n",
       "    .dataframe thead th {\n",
       "        text-align: right;\n",
       "    }\n",
       "</style>\n",
       "<table border=\"1\" class=\"dataframe\">\n",
       "  <thead>\n",
       "    <tr style=\"text-align: right;\">\n",
       "      <th></th>\n",
       "      <th>member_id</th>\n",
       "      <th>total_classes</th>\n",
       "      <th>favorite_class</th>\n",
       "      <th>favorite_day</th>\n",
       "      <th>favorite_hour</th>\n",
       "    </tr>\n",
       "  </thead>\n",
       "  <tbody>\n",
       "    <tr>\n",
       "      <th>0</th>\n",
       "      <td>ABC1239</td>\n",
       "      <td>3</td>\n",
       "      <td>spin class</td>\n",
       "      <td>Monday</td>\n",
       "      <td>15</td>\n",
       "    </tr>\n",
       "    <tr>\n",
       "      <th>1</th>\n",
       "      <td>ABC1440</td>\n",
       "      <td>3</td>\n",
       "      <td>general class</td>\n",
       "      <td>Wednesday</td>\n",
       "      <td>7</td>\n",
       "    </tr>\n",
       "    <tr>\n",
       "      <th>2</th>\n",
       "      <td>ABC1868</td>\n",
       "      <td>1</td>\n",
       "      <td>general class</td>\n",
       "      <td>Friday</td>\n",
       "      <td>19</td>\n",
       "    </tr>\n",
       "    <tr>\n",
       "      <th>3</th>\n",
       "      <td>ABC1389</td>\n",
       "      <td>3</td>\n",
       "      <td>spin class</td>\n",
       "      <td>Thursday</td>\n",
       "      <td>6</td>\n",
       "    </tr>\n",
       "    <tr>\n",
       "      <th>4</th>\n",
       "      <td>ABC1797</td>\n",
       "      <td>2</td>\n",
       "      <td>strength training</td>\n",
       "      <td>Friday</td>\n",
       "      <td>6</td>\n",
       "    </tr>\n",
       "    <tr>\n",
       "      <th>5</th>\n",
       "      <td>ABC1468</td>\n",
       "      <td>3</td>\n",
       "      <td>general class</td>\n",
       "      <td>Monday</td>\n",
       "      <td>5</td>\n",
       "    </tr>\n",
       "  </tbody>\n",
       "</table>\n",
       "</div>"
      ],
      "text/plain": [
       "  member_id  total_classes     favorite_class favorite_day  favorite_hour\n",
       "0   ABC1239              3         spin class       Monday             15\n",
       "1   ABC1440              3      general class    Wednesday              7\n",
       "2   ABC1868              1      general class       Friday             19\n",
       "3   ABC1389              3         spin class     Thursday              6\n",
       "4   ABC1797              2  strength training       Friday              6\n",
       "5   ABC1468              3      general class       Monday              5"
      ]
     },
     "execution_count": 24,
     "metadata": {},
     "output_type": "execute_result"
    }
   ],
   "source": [
    "member_features.head(6)"
   ]
  },
  {
   "cell_type": "markdown",
   "id": "3a9de20a",
   "metadata": {},
   "source": [
    "### Load to clean_db"
   ]
  },
  {
   "cell_type": "code",
   "execution_count": null,
   "id": "4eb7c0ac",
   "metadata": {},
   "outputs": [],
   "source": [
    "con_out = sqlite3.connect(r\"__PATH__\")\n",
    "member_features.to_sql(\"member_class_features\", con_out, if_exists=\"replace\", index=False)\n",
    "con_out.close()"
   ]
  },
  {
   "cell_type": "markdown",
   "id": "44a0d248",
   "metadata": {},
   "source": [
    "## Exploration"
   ]
  },
  {
   "cell_type": "code",
   "execution_count": 26,
   "id": "f6d40ae3",
   "metadata": {},
   "outputs": [],
   "source": [
    "# Order the days\n",
    "dow_order = ['Monday','Tuesday','Wednesday','Thursday','Friday','Saturday','Sunday']\n",
    "\n",
    "# Count how many members have each favorite_day\n",
    "dow_counts = (\n",
    "    member_features['favorite_day']\n",
    "    .value_counts()\n",
    "    .reindex(dow_order, fill_value=0)\n",
    ")"
   ]
  },
  {
   "cell_type": "code",
   "execution_count": 27,
   "id": "de57d0d6",
   "metadata": {},
   "outputs": [
    {
     "data": {
      "image/png": "[encoded data removed]",
      "text/plain": [
       "<Figure size 800x500 with 1 Axes>"
      ]
     },
     "metadata": {},
     "output_type": "display_data"
    }
   ],
   "source": [
    "plt.figure(figsize=(8,5))\n",
    "sns.lineplot(x=dow_counts.index, y=dow_counts.values, marker=\"o\")\n",
    "plt.title(\"Members' Favorite Day of the Week\")\n",
    "plt.xlabel(\"Day of Week\")\n",
    "plt.ylabel(\"Number of Members\")\n",
    "plt.grid(True, linestyle=\"--\", alpha=0.6)\n",
    "plt.show()"
   ]
  },
  {
   "cell_type": "code",
   "execution_count": 28,
   "id": "2a3b861b",
   "metadata": {},
   "outputs": [
    {
     "data": {
      "text/plain": [
       "favorite_class\n",
       "spin class           247\n",
       "strength training    191\n",
       "yoga basics          132\n",
       "zumba dance          131\n",
       "general class        109\n",
       "Name: count, dtype: int64"
      ]
     },
     "execution_count": 28,
     "metadata": {},
     "output_type": "execute_result"
    }
   ],
   "source": [
    "class_counts = member_features['favorite_class'].value_counts()\n",
    "class_counts"
   ]
  },
  {
   "cell_type": "code",
   "execution_count": 29,
   "id": "b6118acf",
   "metadata": {},
   "outputs": [
    {
     "data": {
      "image/png": "[encoded data removed]",
      "text/plain": [
       "<Figure size 800x500 with 1 Axes>"
      ]
     },
     "metadata": {},
     "output_type": "display_data"
    }
   ],
   "source": [
    "plt.figure(figsize=(8,5))\n",
    "sns.barplot(x=class_counts.index, y=class_counts.values)\n",
    "plt.title(\"Class Attendance\")\n",
    "plt.xlabel(\"Class Name\")\n",
    "plt.ylabel(\"Number of Attendances\")\n",
    "plt.xticks(rotation=45)\n",
    "plt.show()"
   ]
  },
  {
   "cell_type": "code",
   "execution_count": 30,
   "id": "1d409980",
   "metadata": {},
   "outputs": [],
   "source": [
    "# ordered days\n",
    "days_order = ['Monday','Tuesday','Wednesday','Thursday','Friday','Saturday','Sunday']\n",
    "dow_dtype = pd.CategoricalDtype(days_order, ordered=True)\n",
    "\n",
    "# make sure favorite_day is ordered categorical\n",
    "member_features['favorite_day'] = member_features['favorite_day'].astype(dow_dtype)\n",
    "\n",
    "# pivot: rows = day, cols = hour, values = # of members\n",
    "heatmap_pivot = (\n",
    "    member_features.groupby(['favorite_day','favorite_hour'], observed=True)\n",
    "      .size()\n",
    "      .unstack(fill_value=0)\n",
    "      .reindex(days_order)        # keep rows in weekday order\n",
    "      .sort_index(axis=1)         # keep hours in order\n",
    ")"
   ]
  },
  {
   "cell_type": "code",
   "execution_count": 31,
   "id": "56fa81b6",
   "metadata": {},
   "outputs": [
    {
     "data": {
      "image/png": "[encoded data removed]",
      "text/plain": [
       "<Figure size 1200x600 with 2 Axes>"
      ]
     },
     "metadata": {},
     "output_type": "display_data"
    }
   ],
   "source": [
    "# 4) Plot\n",
    "plt.figure(figsize=(12,6))\n",
    "sns.heatmap(\n",
    "    heatmap_pivot, annot=True, fmt=\".0f\",\n",
    "    cmap=\"YlGnBu\", linewidths=.5, cbar_kws={\"label\": \"Attendance\"}\n",
    ")\n",
    "plt.title(\"Class Popularity Heatmap (Day vs Hour)\")\n",
    "plt.xlabel(\"Hour of Day\")\n",
    "plt.ylabel(\"Day of Week\")\n",
    "plt.tight_layout()\n",
    "plt.show()"
   ]
  }
 ],
 "metadata": {
  "kernelspec": {
   "display_name": "Python 3",
   "language": "python",
   "name": "python3"
  },
  "language_info": {
   "codemirror_mode": {
    "name": "ipython",
    "version": 3
   },
   "file_extension": ".py",
   "mimetype": "text/x-python",
   "name": "python",
   "nbconvert_exporter": "python",
   "pygments_lexer": "ipython3",
   "version": "3.13.7"
  }
 },
 "nbformat": 4,
 "nbformat_minor": 5
}
