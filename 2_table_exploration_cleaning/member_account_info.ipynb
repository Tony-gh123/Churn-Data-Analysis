{
 "cells": [
  {
   "cell_type": "markdown",
   "id": "5f599e3c",
   "metadata": {},
   "source": [
    "# member_account_info (MAI): Raw Data Discovery & Insights"
   ]
  },
  {
   "cell_type": "markdown",
   "id": "7df8b32c",
   "metadata": {},
   "source": [
    "### Target Attributes: Member_Id, Gender, Birthday"
   ]
  },
  {
   "cell_type": "code",
   "execution_count": null,
   "id": "0a3279ee",
   "metadata": {},
   "outputs": [],
   "source": [
    "import sqlite3\n",
    "import numpy as np\n",
    "import matplotlib.pylab as plt\n",
    "import pandas as pd\n",
    "import seaborn as sns\n",
    "\n",
    "\n",
    "conn = sqlite3.connect(r\"__PATH__\")\n",
    "\n",
    "df = pd.read_sql_query(\"SELECT * FROM member_account_info\", conn)"
   ]
  },
  {
   "cell_type": "markdown",
   "id": "3c475892",
   "metadata": {},
   "source": [
    "### Data Understanding, Cleaning & Preparation"
   ]
  },
  {
   "cell_type": "code",
   "execution_count": 2,
   "id": "93a961ec",
   "metadata": {},
   "outputs": [
    {
     "data": {
      "text/plain": [
       "(1000, 15)"
      ]
     },
     "execution_count": 2,
     "metadata": {},
     "output_type": "execute_result"
    }
   ],
   "source": [
    "df.shape"
   ]
  },
  {
   "cell_type": "code",
   "execution_count": 3,
   "id": "69a76985",
   "metadata": {},
   "outputs": [
    {
     "data": {
      "text/html": [
       "<div>\n",
       "<style scoped>\n",
       "    .dataframe tbody tr th:only-of-type {\n",
       "        vertical-align: middle;\n",
       "    }\n",
       "\n",
       "    .dataframe tbody tr th {\n",
       "        vertical-align: top;\n",
       "    }\n",
       "\n",
       "    .dataframe thead th {\n",
       "        text-align: right;\n",
       "    }\n",
       "</style>\n",
       "<table border=\"1\" class=\"dataframe\">\n",
       "  <thead>\n",
       "    <tr style=\"text-align: right;\">\n",
       "      <th></th>\n",
       "      <th>member_row_id</th>\n",
       "      <th>member_id</th>\n",
       "      <th>First Name</th>\n",
       "      <th>Last Name</th>\n",
       "      <th>Gender</th>\n",
       "      <th>Address</th>\n",
       "      <th>Zip Code</th>\n",
       "      <th>Membership</th>\n",
       "      <th>Referral</th>\n",
       "      <th>Emergency Contact</th>\n",
       "      <th>Birthday</th>\n",
       "      <th>Nationality</th>\n",
       "      <th>Join Date</th>\n",
       "      <th>Email</th>\n",
       "      <th>Phone</th>\n",
       "    </tr>\n",
       "  </thead>\n",
       "  <tbody>\n",
       "    <tr>\n",
       "      <th>0</th>\n",
       "      <td>1</td>\n",
       "      <td>ABC1000</td>\n",
       "      <td>ANGELA</td>\n",
       "      <td>Brewer</td>\n",
       "      <td>Male</td>\n",
       "      <td>80569 Cameron Locks Apt. 013, Garciaton, RI</td>\n",
       "      <td>04153</td>\n",
       "      <td>Annual</td>\n",
       "      <td>No</td>\n",
       "      <td>Andrea Lester</td>\n",
       "      <td>2004-02-10</td>\n",
       "      <td>Sierra Leone</td>\n",
       "      <td>2024-08-21</td>\n",
       "      <td>angela.brewer@example.com</td>\n",
       "      <td>NAN</td>\n",
       "    </tr>\n",
       "    <tr>\n",
       "      <th>1</th>\n",
       "      <td>2</td>\n",
       "      <td>ABC1001</td>\n",
       "      <td>Jared</td>\n",
       "      <td>Sanchez</td>\n",
       "      <td>Female</td>\n",
       "      <td>28519 Hubbard Mills, Port Jessica, NC</td>\n",
       "      <td>59045</td>\n",
       "      <td>M2M</td>\n",
       "      <td>Yes</td>\n",
       "      <td>Rebecca Ross</td>\n",
       "      <td>1985-06-10</td>\n",
       "      <td>Barbados</td>\n",
       "      <td>2024-01-04</td>\n",
       "      <td>jared.sanchez@example.com</td>\n",
       "      <td>None</td>\n",
       "    </tr>\n",
       "  </tbody>\n",
       "</table>\n",
       "</div>"
      ],
      "text/plain": [
       "   member_row_id member_id First Name Last Name   Gender  \\\n",
       "0              1   ABC1000     ANGELA    Brewer     Male   \n",
       "1              2   ABC1001      Jared   Sanchez  Female    \n",
       "\n",
       "                                       Address Zip Code Membership Referral  \\\n",
       "0  80569 Cameron Locks Apt. 013, Garciaton, RI    04153     Annual       No   \n",
       "1        28519 Hubbard Mills, Port Jessica, NC    59045        M2M      Yes   \n",
       "\n",
       "  Emergency Contact    Birthday   Nationality   Join Date  \\\n",
       "0     Andrea Lester  2004-02-10  Sierra Leone  2024-08-21   \n",
       "1      Rebecca Ross  1985-06-10      Barbados  2024-01-04   \n",
       "\n",
       "                       Email Phone  \n",
       "0  angela.brewer@example.com   NAN  \n",
       "1  jared.sanchez@example.com  None  "
      ]
     },
     "execution_count": 3,
     "metadata": {},
     "output_type": "execute_result"
    }
   ],
   "source": [
    "df.head(2)"
   ]
  },
  {
   "cell_type": "code",
   "execution_count": 4,
   "id": "e1e6afab",
   "metadata": {},
   "outputs": [
    {
     "data": {
      "text/plain": [
       "Index(['member_row_id', 'member_id', 'First Name', 'Last Name', 'Gender',\n",
       "       'Address', 'Zip Code', 'Membership', 'Referral', 'Emergency Contact',\n",
       "       'Birthday', 'Nationality', 'Join Date', 'Email', 'Phone'],\n",
       "      dtype='object')"
      ]
     },
     "execution_count": 4,
     "metadata": {},
     "output_type": "execute_result"
    }
   ],
   "source": [
    "df.columns"
   ]
  },
  {
   "cell_type": "code",
   "execution_count": 5,
   "id": "9819038c",
   "metadata": {},
   "outputs": [
    {
     "data": {
      "text/plain": [
       "member_row_id         int64\n",
       "member_id            object\n",
       "First Name           object\n",
       "Last Name            object\n",
       "Gender               object\n",
       "Address              object\n",
       "Zip Code             object\n",
       "Membership           object\n",
       "Referral             object\n",
       "Emergency Contact    object\n",
       "Birthday             object\n",
       "Nationality          object\n",
       "Join Date            object\n",
       "Email                object\n",
       "Phone                object\n",
       "dtype: object"
      ]
     },
     "execution_count": 5,
     "metadata": {},
     "output_type": "execute_result"
    }
   ],
   "source": [
    "df.dtypes"
   ]
  },
  {
   "cell_type": "code",
   "execution_count": 6,
   "id": "061a365d",
   "metadata": {},
   "outputs": [],
   "source": [
    "df = df[[#'index', 'member_row_id', \n",
    "         'member_id', \n",
    "         #'First_Name', 'Last_Name',\n",
    "       'Gender', \n",
    "       #'Address', 'Zip_Code', 'Membership', 'Referral',\n",
    "       #'Emergency Contact', \n",
    "       'Birthday', \n",
    "       #'Nationality', 'Join_Date', 'Email',\n",
    "       #'Phone', 'Account_Status'\n",
    "       ]].copy()"
   ]
  },
  {
   "cell_type": "code",
   "execution_count": 7,
   "id": "f48b13a5",
   "metadata": {},
   "outputs": [
    {
     "data": {
      "text/plain": [
       "(  member_id   Gender     Birthday\n",
       " 0   ABC1000     Male   2004-02-10\n",
       " 1   ABC1001  Female    1985-06-10\n",
       " 2   ABC1002     Male   1999-11-13\n",
       " 3   ABC1003     Male   1993-05-19\n",
       " 4   ABC1004     MALE  1988-11-27 ,\n",
       " member_id    object\n",
       " Gender       object\n",
       " Birthday     object\n",
       " dtype: object)"
      ]
     },
     "execution_count": 7,
     "metadata": {},
     "output_type": "execute_result"
    }
   ],
   "source": [
    "df.head(), df.dtypes"
   ]
  },
  {
   "cell_type": "code",
   "execution_count": 8,
   "id": "b48a6c8a",
   "metadata": {},
   "outputs": [],
   "source": [
    "df.columns = df.columns.str.lower()"
   ]
  },
  {
   "cell_type": "code",
   "execution_count": 9,
   "id": "a159e992",
   "metadata": {},
   "outputs": [
    {
     "data": {
      "text/plain": [
       "member_id     0\n",
       "gender       56\n",
       "birthday     53\n",
       "dtype: int64"
      ]
     },
     "execution_count": 9,
     "metadata": {},
     "output_type": "execute_result"
    }
   ],
   "source": [
    "df.isna().sum()"
   ]
  },
  {
   "cell_type": "code",
   "execution_count": 10,
   "id": "3d62a931",
   "metadata": {},
   "outputs": [
    {
     "data": {
      "text/html": [
       "<div>\n",
       "<style scoped>\n",
       "    .dataframe tbody tr th:only-of-type {\n",
       "        vertical-align: middle;\n",
       "    }\n",
       "\n",
       "    .dataframe tbody tr th {\n",
       "        vertical-align: top;\n",
       "    }\n",
       "\n",
       "    .dataframe thead th {\n",
       "        text-align: right;\n",
       "    }\n",
       "</style>\n",
       "<table border=\"1\" class=\"dataframe\">\n",
       "  <thead>\n",
       "    <tr style=\"text-align: right;\">\n",
       "      <th></th>\n",
       "      <th>member_id</th>\n",
       "      <th>gender</th>\n",
       "      <th>birthday</th>\n",
       "    </tr>\n",
       "  </thead>\n",
       "  <tbody>\n",
       "    <tr>\n",
       "      <th>16</th>\n",
       "      <td>ABC1016</td>\n",
       "      <td>None</td>\n",
       "      <td>1997-03-24</td>\n",
       "    </tr>\n",
       "    <tr>\n",
       "      <th>70</th>\n",
       "      <td>ABC1070</td>\n",
       "      <td>None</td>\n",
       "      <td>None</td>\n",
       "    </tr>\n",
       "    <tr>\n",
       "      <th>109</th>\n",
       "      <td>ABC1109</td>\n",
       "      <td>None</td>\n",
       "      <td>1993-11-24</td>\n",
       "    </tr>\n",
       "    <tr>\n",
       "      <th>121</th>\n",
       "      <td>ABC1121</td>\n",
       "      <td>None</td>\n",
       "      <td>1989-06-24</td>\n",
       "    </tr>\n",
       "    <tr>\n",
       "      <th>141</th>\n",
       "      <td>ABC1141</td>\n",
       "      <td>None</td>\n",
       "      <td>1989-06-30</td>\n",
       "    </tr>\n",
       "    <tr>\n",
       "      <th>145</th>\n",
       "      <td>ABC1145</td>\n",
       "      <td>None</td>\n",
       "      <td>1991-06-12</td>\n",
       "    </tr>\n",
       "    <tr>\n",
       "      <th>163</th>\n",
       "      <td>ABC1163</td>\n",
       "      <td>None</td>\n",
       "      <td>1981-06-07</td>\n",
       "    </tr>\n",
       "    <tr>\n",
       "      <th>173</th>\n",
       "      <td>ABC1173</td>\n",
       "      <td>None</td>\n",
       "      <td>1996-06-07</td>\n",
       "    </tr>\n",
       "    <tr>\n",
       "      <th>199</th>\n",
       "      <td>ABC1199</td>\n",
       "      <td>None</td>\n",
       "      <td>1986-12-29</td>\n",
       "    </tr>\n",
       "    <tr>\n",
       "      <th>203</th>\n",
       "      <td>ABC1203</td>\n",
       "      <td>None</td>\n",
       "      <td>1995-05-12</td>\n",
       "    </tr>\n",
       "  </tbody>\n",
       "</table>\n",
       "</div>"
      ],
      "text/plain": [
       "    member_id gender    birthday\n",
       "16    ABC1016   None  1997-03-24\n",
       "70    ABC1070   None        None\n",
       "109   ABC1109   None  1993-11-24\n",
       "121   ABC1121   None  1989-06-24\n",
       "141   ABC1141   None  1989-06-30\n",
       "145   ABC1145   None  1991-06-12\n",
       "163   ABC1163   None  1981-06-07\n",
       "173   ABC1173   None  1996-06-07\n",
       "199   ABC1199   None  1986-12-29\n",
       "203   ABC1203   None  1995-05-12"
      ]
     },
     "execution_count": 10,
     "metadata": {},
     "output_type": "execute_result"
    }
   ],
   "source": [
    "df[df['gender'].isna()].head(10)"
   ]
  },
  {
   "cell_type": "code",
   "execution_count": 11,
   "id": "2736237a",
   "metadata": {},
   "outputs": [
    {
     "data": {
      "text/plain": [
       "gender\n",
       "Male       436\n",
       "Female     292\n",
       "Male        81\n",
       "Female      53\n",
       "MALE        33\n",
       "FEMALE      23\n",
       "nan         11\n",
       "NAN          6\n",
       "FEMALE       5\n",
       "MALE         4\n",
       "Name: count, dtype: int64"
      ]
     },
     "execution_count": 11,
     "metadata": {},
     "output_type": "execute_result"
    }
   ],
   "source": [
    "df['gender'].value_counts()"
   ]
  },
  {
   "cell_type": "code",
   "execution_count": 12,
   "id": "696d47cf",
   "metadata": {},
   "outputs": [
    {
     "data": {
      "text/plain": [
       "gender\n",
       "male      554\n",
       "female    373\n",
       "nan        17\n",
       "Name: count, dtype: int64"
      ]
     },
     "execution_count": 12,
     "metadata": {},
     "output_type": "execute_result"
    }
   ],
   "source": [
    "df['gender'] = df['gender'].str.strip().str.lower()\n",
    "df['gender'].value_counts()"
   ]
  },
  {
   "cell_type": "code",
   "execution_count": 13,
   "id": "394ec0ea",
   "metadata": {},
   "outputs": [
    {
     "data": {
      "text/plain": [
       "gender\n",
       "male      554\n",
       "female    373\n",
       "Name: count, dtype: int64"
      ]
     },
     "execution_count": 13,
     "metadata": {},
     "output_type": "execute_result"
    }
   ],
   "source": [
    "df['gender'] = df['gender'].replace('nan', np.nan)\n",
    "df['gender'].value_counts()"
   ]
  },
  {
   "cell_type": "code",
   "execution_count": 14,
   "id": "d14a472c",
   "metadata": {},
   "outputs": [],
   "source": [
    "df['birthday'] = pd.to_datetime(df['birthday'], errors='coerce')"
   ]
  },
  {
   "cell_type": "code",
   "execution_count": 15,
   "id": "efbaae4a",
   "metadata": {},
   "outputs": [],
   "source": [
    "today = pd.to_datetime(\"today\")\n",
    "df['age'] = (today - df['birthday']).dt.days // 365"
   ]
  },
  {
   "cell_type": "code",
   "execution_count": 16,
   "id": "11132900",
   "metadata": {},
   "outputs": [
    {
     "data": {
      "text/html": [
       "<div>\n",
       "<style scoped>\n",
       "    .dataframe tbody tr th:only-of-type {\n",
       "        vertical-align: middle;\n",
       "    }\n",
       "\n",
       "    .dataframe tbody tr th {\n",
       "        vertical-align: top;\n",
       "    }\n",
       "\n",
       "    .dataframe thead th {\n",
       "        text-align: right;\n",
       "    }\n",
       "</style>\n",
       "<table border=\"1\" class=\"dataframe\">\n",
       "  <thead>\n",
       "    <tr style=\"text-align: right;\">\n",
       "      <th></th>\n",
       "      <th>member_id</th>\n",
       "      <th>gender</th>\n",
       "      <th>birthday</th>\n",
       "      <th>age</th>\n",
       "    </tr>\n",
       "  </thead>\n",
       "  <tbody>\n",
       "  </tbody>\n",
       "</table>\n",
       "</div>"
      ],
      "text/plain": [
       "Empty DataFrame\n",
       "Columns: [member_id, gender, birthday, age]\n",
       "Index: []"
      ]
     },
     "execution_count": 16,
     "metadata": {},
     "output_type": "execute_result"
    }
   ],
   "source": [
    "df.loc[df.duplicated(['member_id'])]"
   ]
  },
  {
   "cell_type": "code",
   "execution_count": 17,
   "id": "0e19540b",
   "metadata": {},
   "outputs": [
    {
     "data": {
      "text/html": [
       "<div>\n",
       "<style scoped>\n",
       "    .dataframe tbody tr th:only-of-type {\n",
       "        vertical-align: middle;\n",
       "    }\n",
       "\n",
       "    .dataframe tbody tr th {\n",
       "        vertical-align: top;\n",
       "    }\n",
       "\n",
       "    .dataframe thead th {\n",
       "        text-align: right;\n",
       "    }\n",
       "</style>\n",
       "<table border=\"1\" class=\"dataframe\">\n",
       "  <thead>\n",
       "    <tr style=\"text-align: right;\">\n",
       "      <th></th>\n",
       "      <th>member_id</th>\n",
       "      <th>gender</th>\n",
       "      <th>birthday</th>\n",
       "      <th>age</th>\n",
       "    </tr>\n",
       "  </thead>\n",
       "  <tbody>\n",
       "    <tr>\n",
       "      <th>0</th>\n",
       "      <td>ABC1000</td>\n",
       "      <td>male</td>\n",
       "      <td>2004-02-10</td>\n",
       "      <td>21.0</td>\n",
       "    </tr>\n",
       "    <tr>\n",
       "      <th>1</th>\n",
       "      <td>ABC1001</td>\n",
       "      <td>female</td>\n",
       "      <td>1985-06-10</td>\n",
       "      <td>40.0</td>\n",
       "    </tr>\n",
       "    <tr>\n",
       "      <th>2</th>\n",
       "      <td>ABC1002</td>\n",
       "      <td>male</td>\n",
       "      <td>1999-11-13</td>\n",
       "      <td>25.0</td>\n",
       "    </tr>\n",
       "    <tr>\n",
       "      <th>3</th>\n",
       "      <td>ABC1003</td>\n",
       "      <td>male</td>\n",
       "      <td>1993-05-19</td>\n",
       "      <td>32.0</td>\n",
       "    </tr>\n",
       "    <tr>\n",
       "      <th>4</th>\n",
       "      <td>ABC1004</td>\n",
       "      <td>male</td>\n",
       "      <td>NaT</td>\n",
       "      <td>NaN</td>\n",
       "    </tr>\n",
       "    <tr>\n",
       "      <th>5</th>\n",
       "      <td>ABC1005</td>\n",
       "      <td>male</td>\n",
       "      <td>1982-01-22</td>\n",
       "      <td>43.0</td>\n",
       "    </tr>\n",
       "    <tr>\n",
       "      <th>6</th>\n",
       "      <td>ABC1006</td>\n",
       "      <td>male</td>\n",
       "      <td>1987-11-19</td>\n",
       "      <td>37.0</td>\n",
       "    </tr>\n",
       "    <tr>\n",
       "      <th>7</th>\n",
       "      <td>ABC1007</td>\n",
       "      <td>female</td>\n",
       "      <td>1980-03-27</td>\n",
       "      <td>45.0</td>\n",
       "    </tr>\n",
       "    <tr>\n",
       "      <th>8</th>\n",
       "      <td>ABC1008</td>\n",
       "      <td>male</td>\n",
       "      <td>1988-09-26</td>\n",
       "      <td>36.0</td>\n",
       "    </tr>\n",
       "    <tr>\n",
       "      <th>9</th>\n",
       "      <td>ABC1009</td>\n",
       "      <td>female</td>\n",
       "      <td>1987-10-22</td>\n",
       "      <td>37.0</td>\n",
       "    </tr>\n",
       "  </tbody>\n",
       "</table>\n",
       "</div>"
      ],
      "text/plain": [
       "  member_id  gender   birthday   age\n",
       "0   ABC1000    male 2004-02-10  21.0\n",
       "1   ABC1001  female 1985-06-10  40.0\n",
       "2   ABC1002    male 1999-11-13  25.0\n",
       "3   ABC1003    male 1993-05-19  32.0\n",
       "4   ABC1004    male        NaT   NaN\n",
       "5   ABC1005    male 1982-01-22  43.0\n",
       "6   ABC1006    male 1987-11-19  37.0\n",
       "7   ABC1007  female 1980-03-27  45.0\n",
       "8   ABC1008    male 1988-09-26  36.0\n",
       "9   ABC1009  female 1987-10-22  37.0"
      ]
     },
     "execution_count": 17,
     "metadata": {},
     "output_type": "execute_result"
    }
   ],
   "source": [
    "df.head(10)"
   ]
  },
  {
   "cell_type": "code",
   "execution_count": 18,
   "id": "3a966d49",
   "metadata": {},
   "outputs": [
    {
     "data": {
      "text/plain": [
       "(1000, 4)"
      ]
     },
     "execution_count": 18,
     "metadata": {},
     "output_type": "execute_result"
    }
   ],
   "source": [
    "df.shape"
   ]
  },
  {
   "cell_type": "markdown",
   "id": "86780ff4",
   "metadata": {},
   "source": [
    "### Load to clean_db"
   ]
  },
  {
   "cell_type": "code",
   "execution_count": null,
   "id": "9191a4cf",
   "metadata": {},
   "outputs": [],
   "source": [
    "con_out = sqlite3.connect(r\"__PATH__\")\n",
    "df.to_sql(\"member_account_info\", con_out, if_exists=\"replace\", index=False)\n",
    "con_out.close()"
   ]
  },
  {
   "cell_type": "markdown",
   "id": "411e0280",
   "metadata": {},
   "source": [
    "### Exploration"
   ]
  },
  {
   "cell_type": "code",
   "execution_count": 20,
   "id": "1feaf328",
   "metadata": {},
   "outputs": [
    {
     "data": {
      "text/html": [
       "<div>\n",
       "<style scoped>\n",
       "    .dataframe tbody tr th:only-of-type {\n",
       "        vertical-align: middle;\n",
       "    }\n",
       "\n",
       "    .dataframe tbody tr th {\n",
       "        vertical-align: top;\n",
       "    }\n",
       "\n",
       "    .dataframe thead th {\n",
       "        text-align: right;\n",
       "    }\n",
       "</style>\n",
       "<table border=\"1\" class=\"dataframe\">\n",
       "  <thead>\n",
       "    <tr style=\"text-align: right;\">\n",
       "      <th></th>\n",
       "      <th>count</th>\n",
       "      <th>mean</th>\n",
       "      <th>std</th>\n",
       "      <th>min</th>\n",
       "      <th>25%</th>\n",
       "      <th>50%</th>\n",
       "      <th>75%</th>\n",
       "      <th>max</th>\n",
       "    </tr>\n",
       "    <tr>\n",
       "      <th>gender</th>\n",
       "      <th></th>\n",
       "      <th></th>\n",
       "      <th></th>\n",
       "      <th></th>\n",
       "      <th></th>\n",
       "      <th></th>\n",
       "      <th></th>\n",
       "      <th></th>\n",
       "    </tr>\n",
       "  </thead>\n",
       "  <tbody>\n",
       "    <tr>\n",
       "      <th>female</th>\n",
       "      <td>294.0</td>\n",
       "      <td>36.459184</td>\n",
       "      <td>10.073622</td>\n",
       "      <td>19.0</td>\n",
       "      <td>29.0</td>\n",
       "      <td>35.0</td>\n",
       "      <td>44.0</td>\n",
       "      <td>67.0</td>\n",
       "    </tr>\n",
       "    <tr>\n",
       "      <th>male</th>\n",
       "      <td>424.0</td>\n",
       "      <td>35.379717</td>\n",
       "      <td>9.479337</td>\n",
       "      <td>18.0</td>\n",
       "      <td>28.0</td>\n",
       "      <td>35.0</td>\n",
       "      <td>41.0</td>\n",
       "      <td>69.0</td>\n",
       "    </tr>\n",
       "  </tbody>\n",
       "</table>\n",
       "</div>"
      ],
      "text/plain": [
       "        count       mean        std   min   25%   50%   75%   max\n",
       "gender                                                           \n",
       "female  294.0  36.459184  10.073622  19.0  29.0  35.0  44.0  67.0\n",
       "male    424.0  35.379717   9.479337  18.0  28.0  35.0  41.0  69.0"
      ]
     },
     "execution_count": 20,
     "metadata": {},
     "output_type": "execute_result"
    }
   ],
   "source": [
    "df.groupby('gender')['age'].describe()"
   ]
  },
  {
   "cell_type": "code",
   "execution_count": 21,
   "id": "fdb8bf36",
   "metadata": {},
   "outputs": [
    {
     "data": {
      "image/png": "[encoded data removed]",
      "text/plain": [
       "<Figure size 600x600 with 1 Axes>"
      ]
     },
     "metadata": {},
     "output_type": "display_data"
    }
   ],
   "source": [
    "plt.figure(figsize=(6,6))\n",
    "df['gender'].value_counts().plot(\n",
    "    kind='pie', \n",
    "    autopct='%1.1f%%', \n",
    "    startangle=95, \n",
    "    shadow=True\n",
    ")\n",
    "plt.title('Gender Distribution of Gym Members')\n",
    "plt.ylabel('')\n",
    "plt.show()"
   ]
  },
  {
   "cell_type": "code",
   "execution_count": 22,
   "id": "57575266",
   "metadata": {},
   "outputs": [
    {
     "data": {
      "image/png": "[encoded data removed]",
      "text/plain": [
       "<Figure size 1000x600 with 1 Axes>"
      ]
     },
     "metadata": {},
     "output_type": "display_data"
    }
   ],
   "source": [
    "# Create age groups\n",
    "bins = [0, 18, 25, 35, 45, 60, 75, 100]\n",
    "labels = ['0-18', '18-25', '26-35', '36-45', '46-60', '61-75', '76+']\n",
    "df['age_group'] = pd.cut(df['age'], bins=bins, labels=labels, right=False)\n",
    "\n",
    "# Crosstab\n",
    "age_gender_ct = pd.crosstab(df['age_group'], df['gender'])\n",
    "\n",
    "# Bar plot\n",
    "age_gender_ct.plot(kind='bar', figsize=(10,6), edgecolor='black')\n",
    "plt.title('Age Group by Gender')\n",
    "plt.xlabel('Age Group')\n",
    "plt.ylabel('Number of Members')\n",
    "plt.legend(title='Gender')\n",
    "plt.show()"
   ]
  }
 ],
 "metadata": {
  "kernelspec": {
   "display_name": "Python 3",
   "language": "python",
   "name": "python3"
  },
  "language_info": {
   "codemirror_mode": {
    "name": "ipython",
    "version": 3
   },
   "file_extension": ".py",
   "mimetype": "text/x-python",
   "name": "python",
   "nbconvert_exporter": "python",
   "pygments_lexer": "ipython3",
   "version": "3.13.7"
  }
 },
 "nbformat": 4,
 "nbformat_minor": 5
}
