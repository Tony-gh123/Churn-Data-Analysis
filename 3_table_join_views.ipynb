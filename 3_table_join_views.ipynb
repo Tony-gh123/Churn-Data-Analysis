{
 "cells": [
  {
   "cell_type": "markdown",
   "id": "65ea6987",
   "metadata": {},
   "source": [
    "# SQL VIEWS"
   ]
  },
  {
   "cell_type": "markdown",
   "id": "3c760eae",
   "metadata": {},
   "source": [
    "# 1. Intro"
   ]
  },
  {
   "cell_type": "markdown",
   "id": "ea78d0a7",
   "metadata": {},
   "source": [
    "a. Upload csv files to database folder. \\\n",
    "b. Run load_data_sqlite.py\\\n",
    "c. explore, clean and prepare data in table_exploration_cleaning folder.\n",
    "d. clean and prepare all the individual datasets, aggregated event tables to member-level tables, created new features, removed duplicates and uploaded ready tables to clean_db.sqlite.\n",
    "\n",
    "Now we will proceed with table joins!"
   ]
  },
  {
   "cell_type": "markdown",
   "id": "c2e1056b",
   "metadata": {},
   "source": [
    "# 2. Load Data"
   ]
  },
  {
   "cell_type": "code",
   "execution_count": 1,
   "id": "ad0c2eca",
   "metadata": {},
   "outputs": [
    {
     "name": "stdout",
     "output_type": "stream",
     "text": [
      " * sqlite:///database/clean_db.sqlite\n",
      "Done.\n"
     ]
    },
    {
     "data": {
      "text/html": [
       "<table>\n",
       "    <thead>\n",
       "        <tr>\n",
       "            <th>name</th>\n",
       "        </tr>\n",
       "    </thead>\n",
       "    <tbody>\n",
       "        <tr>\n",
       "            <td>member_account_info</td>\n",
       "        </tr>\n",
       "        <tr>\n",
       "            <td>member_agreements</td>\n",
       "        </tr>\n",
       "        <tr>\n",
       "            <td>member_checkins</td>\n",
       "        </tr>\n",
       "        <tr>\n",
       "            <td>member_class_features</td>\n",
       "        </tr>\n",
       "        <tr>\n",
       "            <td>member_finances</td>\n",
       "        </tr>\n",
       "        <tr>\n",
       "            <td>member_PT</td>\n",
       "        </tr>\n",
       "        <tr>\n",
       "            <td>member_pos</td>\n",
       "        </tr>\n",
       "    </tbody>\n",
       "</table>"
      ],
      "text/plain": [
       "[('member_account_info',),\n",
       " ('member_agreements',),\n",
       " ('member_checkins',),\n",
       " ('member_class_features',),\n",
       " ('member_finances',),\n",
       " ('member_PT',),\n",
       " ('member_pos',)]"
      ]
     },
     "execution_count": 1,
     "metadata": {},
     "output_type": "execute_result"
    }
   ],
   "source": [
    "# Run pip install ipython-sql\n",
    "%load_ext sql\n",
    "\n",
    "%sql sqlite:///database/clean_db.sqlite\n",
    "\n",
    "# Run the next line if error\n",
    "%config SqlMagic.style = '_DEPRECATED_DEFAULT' \n",
    "\n",
    "%sql SELECT name from sqlite_master where type='table';"
   ]
  },
  {
   "cell_type": "code",
   "execution_count": 2,
   "id": "0911c0bf",
   "metadata": {},
   "outputs": [
    {
     "name": "stdout",
     "output_type": "stream",
     "text": [
      " * sqlite:///database/clean_db.sqlite\n",
      "Done.\n"
     ]
    },
    {
     "data": {
      "text/html": [
       "<table>\n",
       "    <thead>\n",
       "        <tr>\n",
       "            <th>member_id</th>\n",
       "            <th>gender</th>\n",
       "            <th>birthday</th>\n",
       "            <th>age</th>\n",
       "        </tr>\n",
       "    </thead>\n",
       "    <tbody>\n",
       "        <tr>\n",
       "            <td>ABC1000</td>\n",
       "            <td>male</td>\n",
       "            <td>2004-02-10 00:00:00</td>\n",
       "            <td>21.0</td>\n",
       "        </tr>\n",
       "    </tbody>\n",
       "</table>"
      ],
      "text/plain": [
       "[('ABC1000', 'male', '2004-02-10 00:00:00', 21.0)]"
      ]
     },
     "execution_count": 2,
     "metadata": {},
     "output_type": "execute_result"
    }
   ],
   "source": [
    "%sql select * from member_account_info limit 1;"
   ]
  },
  {
   "cell_type": "code",
   "execution_count": 3,
   "id": "abfa9b47",
   "metadata": {},
   "outputs": [
    {
     "name": "stdout",
     "output_type": "stream",
     "text": [
      " * sqlite:///database/clean_db.sqlite\n",
      "Done.\n"
     ]
    },
    {
     "data": {
      "text/html": [
       "<table>\n",
       "    <thead>\n",
       "        <tr>\n",
       "            <th>member_id</th>\n",
       "            <th>agreement_type</th>\n",
       "            <th>start_date</th>\n",
       "            <th>cancel_date</th>\n",
       "            <th>cancel_reason</th>\n",
       "            <th>status</th>\n",
       "            <th>tenure_days</th>\n",
       "            <th>eligible_105</th>\n",
       "            <th>churn_by_105</th>\n",
       "        </tr>\n",
       "    </thead>\n",
       "    <tbody>\n",
       "        <tr>\n",
       "            <td>ABC1000</td>\n",
       "            <td>Standard Annual</td>\n",
       "            <td>2024-08-21 00:00:00</td>\n",
       "            <td>None</td>\n",
       "            <td>None</td>\n",
       "            <td>Active</td>\n",
       "            <td>378</td>\n",
       "            <td>1</td>\n",
       "            <td>0</td>\n",
       "        </tr>\n",
       "    </tbody>\n",
       "</table>"
      ],
      "text/plain": [
       "[('ABC1000', 'Standard Annual', '2024-08-21 00:00:00', None, 'None', 'Active', 378, 1, 0)]"
      ]
     },
     "execution_count": 3,
     "metadata": {},
     "output_type": "execute_result"
    }
   ],
   "source": [
    "%sql select * from member_agreements limit 1;"
   ]
  },
  {
   "cell_type": "code",
   "execution_count": 4,
   "id": "425079e1",
   "metadata": {},
   "outputs": [
    {
     "name": "stdout",
     "output_type": "stream",
     "text": [
      " * sqlite:///database/clean_db.sqlite\n",
      "Done.\n"
     ]
    },
    {
     "data": {
      "text/html": [
       "<table>\n",
       "    <thead>\n",
       "        <tr>\n",
       "            <th>member_id</th>\n",
       "            <th>total_checkins</th>\n",
       "            <th>active_months</th>\n",
       "            <th>avg_checkins_per_month</th>\n",
       "            <th>most_frequent_day</th>\n",
       "            <th>most_common_hour</th>\n",
       "            <th>last_checkin_date</th>\n",
       "            <th>days_since_last_checkin</th>\n",
       "            <th>at_risk</th>\n",
       "        </tr>\n",
       "    </thead>\n",
       "    <tbody>\n",
       "        <tr>\n",
       "            <td>ABC1609</td>\n",
       "            <td>111</td>\n",
       "            <td>10</td>\n",
       "            <td>11.1</td>\n",
       "            <td>Saturday</td>\n",
       "            <td>17</td>\n",
       "            <td>2025-06-13 00:00:00</td>\n",
       "            <td>82</td>\n",
       "            <td>1</td>\n",
       "        </tr>\n",
       "    </tbody>\n",
       "</table>"
      ],
      "text/plain": [
       "[('ABC1609', 111, 10, 11.1, 'Saturday', 17, '2025-06-13 00:00:00', 82, 1)]"
      ]
     },
     "execution_count": 4,
     "metadata": {},
     "output_type": "execute_result"
    }
   ],
   "source": [
    "%sql select * from member_checkins limit 1;"
   ]
  },
  {
   "cell_type": "code",
   "execution_count": 5,
   "id": "032b727c",
   "metadata": {},
   "outputs": [
    {
     "name": "stdout",
     "output_type": "stream",
     "text": [
      " * sqlite:///database/clean_db.sqlite\n",
      "Done.\n"
     ]
    },
    {
     "data": {
      "text/html": [
       "<table>\n",
       "    <thead>\n",
       "        <tr>\n",
       "            <th>member_id</th>\n",
       "            <th>total_classes</th>\n",
       "            <th>favorite_class</th>\n",
       "            <th>favorite_day</th>\n",
       "            <th>favorite_hour</th>\n",
       "        </tr>\n",
       "    </thead>\n",
       "    <tbody>\n",
       "        <tr>\n",
       "            <td>ABC1239</td>\n",
       "            <td>3</td>\n",
       "            <td>spin class</td>\n",
       "            <td>Monday</td>\n",
       "            <td>15</td>\n",
       "        </tr>\n",
       "    </tbody>\n",
       "</table>"
      ],
      "text/plain": [
       "[('ABC1239', 3, 'spin class', 'Monday', 15)]"
      ]
     },
     "execution_count": 5,
     "metadata": {},
     "output_type": "execute_result"
    }
   ],
   "source": [
    "%sql select * from member_class_features limit 1;"
   ]
  },
  {
   "cell_type": "code",
   "execution_count": 6,
   "id": "84c1bc44",
   "metadata": {},
   "outputs": [
    {
     "name": "stdout",
     "output_type": "stream",
     "text": [
      " * sqlite:///database/clean_db.sqlite\n",
      "Done.\n"
     ]
    },
    {
     "data": {
      "text/html": [
       "<table>\n",
       "    <thead>\n",
       "        <tr>\n",
       "            <th>member_id</th>\n",
       "            <th>monthly_fee</th>\n",
       "            <th>payment_status_tendency</th>\n",
       "            <th>total_payments</th>\n",
       "            <th>lifetime_outstanding_balance</th>\n",
       "        </tr>\n",
       "    </thead>\n",
       "    <tbody>\n",
       "        <tr>\n",
       "            <td>ABC1204</td>\n",
       "            <td>45.0</td>\n",
       "            <td>on-time</td>\n",
       "            <td>1</td>\n",
       "            <td>0.0</td>\n",
       "        </tr>\n",
       "    </tbody>\n",
       "</table>"
      ],
      "text/plain": [
       "[('ABC1204', 45.0, 'on-time', 1, 0.0)]"
      ]
     },
     "execution_count": 6,
     "metadata": {},
     "output_type": "execute_result"
    }
   ],
   "source": [
    "%sql select * from member_finances limit 1;"
   ]
  },
  {
   "cell_type": "code",
   "execution_count": 7,
   "id": "078d3675",
   "metadata": {},
   "outputs": [
    {
     "name": "stdout",
     "output_type": "stream",
     "text": [
      " * sqlite:///database/clean_db.sqlite\n",
      "Done.\n"
     ]
    },
    {
     "data": {
      "text/html": [
       "<table>\n",
       "    <thead>\n",
       "        <tr>\n",
       "            <th>member_id</th>\n",
       "            <th>total_pt_sessions</th>\n",
       "            <th>favorite_pt_session</th>\n",
       "            <th>favorite_day</th>\n",
       "            <th>favorite_hour</th>\n",
       "            <th>latest_session</th>\n",
       "        </tr>\n",
       "    </thead>\n",
       "    <tbody>\n",
       "        <tr>\n",
       "            <td>ABC1859</td>\n",
       "            <td>2</td>\n",
       "            <td>hiit</td>\n",
       "            <td>Saturday</td>\n",
       "            <td>6</td>\n",
       "            <td>2024-06-15 00:00:00</td>\n",
       "        </tr>\n",
       "    </tbody>\n",
       "</table>"
      ],
      "text/plain": [
       "[('ABC1859', 2, 'hiit', 'Saturday', 6, '2024-06-15 00:00:00')]"
      ]
     },
     "execution_count": 7,
     "metadata": {},
     "output_type": "execute_result"
    }
   ],
   "source": [
    "%sql select * from member_PT limit 1;"
   ]
  },
  {
   "cell_type": "code",
   "execution_count": 8,
   "id": "8ca3e8a5",
   "metadata": {},
   "outputs": [
    {
     "name": "stdout",
     "output_type": "stream",
     "text": [
      " * sqlite:///database/clean_db.sqlite\n",
      "Done.\n"
     ]
    },
    {
     "data": {
      "text/html": [
       "<table>\n",
       "    <thead>\n",
       "        <tr>\n",
       "            <th>member_id</th>\n",
       "            <th>total_items_bought</th>\n",
       "            <th>total_purchase_value</th>\n",
       "            <th>last_purchase_date</th>\n",
       "        </tr>\n",
       "    </thead>\n",
       "    <tbody>\n",
       "        <tr>\n",
       "            <td>ABC1311</td>\n",
       "            <td>1</td>\n",
       "            <td>5.0</td>\n",
       "            <td>2024-06-25 00:00:00</td>\n",
       "        </tr>\n",
       "    </tbody>\n",
       "</table>"
      ],
      "text/plain": [
       "[('ABC1311', 1, 5.0, '2024-06-25 00:00:00')]"
      ]
     },
     "execution_count": 8,
     "metadata": {},
     "output_type": "execute_result"
    }
   ],
   "source": [
    "%sql select * from member_pos limit 1;"
   ]
  },
  {
   "cell_type": "code",
   "execution_count": null,
   "id": "69e2ca1e",
   "metadata": {},
   "outputs": [
    {
     "name": "stdout",
     "output_type": "stream",
     "text": [
      " * sqlite:///database/clean_db.sqlite\n",
      "Done.\n"
     ]
    },
    {
     "data": {
      "text/html": [
       "<table>\n",
       "    <thead>\n",
       "        <tr>\n",
       "            <th>row_count</th>\n",
       "            <th>unique_member_count</th>\n",
       "            <th>column_count</th>\n",
       "            <th>duplicate_rows</th>\n",
       "        </tr>\n",
       "    </thead>\n",
       "    <tbody>\n",
       "        <tr>\n",
       "            <td>900</td>\n",
       "            <td>900</td>\n",
       "            <td>4</td>\n",
       "            <td>0</td>\n",
       "        </tr>\n",
       "    </tbody>\n",
       "</table>"
      ],
      "text/plain": [
       "[(900, 900, 4, 0)]"
      ]
     },
     "execution_count": 9,
     "metadata": {},
     "output_type": "execute_result"
    }
   ],
   "source": [
    "# Run this query in all tables to show basic summary\n",
    "%sql SELECT \\\n",
    "    (SELECT COUNT(*) FROM member_pos) AS row_count, \\\n",
    "    (SELECT COUNT(DISTINCT member_id) FROM member_pos) AS unique_member_count, \\\n",
    "    (SELECT COUNT(*) FROM pragma_table_info('member_pos')) AS column_count, \\\n",
    "    (SELECT COUNT(*) - COUNT(DISTINCT member_id) FROM member_pos) AS duplicate_rows"
   ]
  },
  {
   "cell_type": "markdown",
   "id": "c85937b0",
   "metadata": {},
   "source": [
    "# Table Joins \n",
    "### Table Info\n",
    "\n",
    "| Table Name            | Row Count | Unique MemberID Count | Column Count | duplicated_rows |\n",
    "|-----------------------|-----------|-----------------------|--------------|-----------------|\n",
    "| member_account_info   | 1000      | 1000                  | 4            | 0               |\n",
    "| member_agreements     | 1000      | 1000                  | 7            | 0               |\n",
    "| member_checkins       | 1000      | 1000                  | 10           | 0               |\n",
    "| member_class_features | 810       | 810                   | 5            | 0               |\n",
    "| member_finances       | 1000      | 1000                  | 5            | 0               |\n",
    "| member_PT             | 139       | 139                   | 6            | 0               |\n",
    "| member_pos            | 900       | 900                   | 4            | 0               |"
   ]
  },
  {
   "cell_type": "markdown",
   "id": "6f3a6f89",
   "metadata": {},
   "source": [
    "# VIEW \n",
    "### create parent_member_view from member_account_info & member_agreements"
   ]
  },
  {
   "cell_type": "code",
   "execution_count": 10,
   "id": "a6eb8504",
   "metadata": {},
   "outputs": [
    {
     "name": "stdout",
     "output_type": "stream",
     "text": [
      " * sqlite:///database/clean_db.sqlite\n",
      "Done.\n"
     ]
    },
    {
     "data": {
      "text/plain": [
       "[]"
      ]
     },
     "execution_count": 10,
     "metadata": {},
     "output_type": "execute_result"
    }
   ],
   "source": [
    "%%sql \n",
    "CREATE VIEW parent_member_view as \n",
    "SELECT \n",
    "    a.member_id, \n",
    "    a.gender, a.age, \n",
    "    b.agreement_type, \n",
    "    b.start_date, \n",
    "    b.cancel_date, \n",
    "    b.cancel_reason, \n",
    "    b.status, \n",
    "    b.tenure_days,\n",
    "    b.eligible_105,\n",
    "    b.churn_by_105\n",
    "FROM member_account_info a\n",
    "LEFT JOIN member_agreements b \n",
    "    ON a.member_id = b.member_id"
   ]
  },
  {
   "cell_type": "markdown",
   "id": "f4034eea",
   "metadata": {},
   "source": [
    "# VIEW\n",
    "### create parent_checkins from parent_member_view & member_check_ins"
   ]
  },
  {
   "cell_type": "code",
   "execution_count": 11,
   "id": "9d083d6d",
   "metadata": {},
   "outputs": [
    {
     "name": "stdout",
     "output_type": "stream",
     "text": [
      " * sqlite:///database/clean_db.sqlite\n",
      "Done.\n"
     ]
    },
    {
     "data": {
      "text/plain": [
       "[]"
      ]
     },
     "execution_count": 11,
     "metadata": {},
     "output_type": "execute_result"
    }
   ],
   "source": [
    "%%sql \n",
    "CREATE VIEW parent_checkins as \n",
    "SELECT \n",
    "    a.member_id, \n",
    "    a.gender, a.age, \n",
    "    a.agreement_type, \n",
    "    a.start_date, \n",
    "    a.cancel_date, \n",
    "    a.cancel_reason, \n",
    "    a.status, \n",
    "    a.tenure_days,\n",
    "    a.eligible_105,\n",
    "    a.churn_by_105,\n",
    "\n",
    "    b.total_checkins, \n",
    "    b.active_months, \n",
    "    b.avg_checkins_per_month, \n",
    "    b.most_frequent_day, \n",
    "    b.most_common_hour, \n",
    "    b.last_checkin_date, \n",
    "    b.days_since_last_checkin, \n",
    "    b.at_risk\n",
    "\n",
    "FROM parent_member_view a\n",
    "LEFT JOIN member_checkins b \n",
    "    ON a.member_id = b.member_id"
   ]
  },
  {
   "cell_type": "markdown",
   "id": "b0b82536",
   "metadata": {},
   "source": [
    "# VIEW\n",
    "### create parent_classes from parent_member_view & member_class_features"
   ]
  },
  {
   "cell_type": "code",
   "execution_count": 12,
   "id": "55e511ff",
   "metadata": {},
   "outputs": [
    {
     "name": "stdout",
     "output_type": "stream",
     "text": [
      " * sqlite:///database/clean_db.sqlite\n",
      "Done.\n"
     ]
    },
    {
     "data": {
      "text/plain": [
       "[]"
      ]
     },
     "execution_count": 12,
     "metadata": {},
     "output_type": "execute_result"
    }
   ],
   "source": [
    "%%sql \n",
    "CREATE VIEW parent_classes as \n",
    "SELECT \n",
    "    a.member_id, \n",
    "    a.gender, a.age, \n",
    "    a.agreement_type, \n",
    "    a.start_date, \n",
    "    a.cancel_date, \n",
    "    a.cancel_reason, \n",
    "    a.status, \n",
    "    a.tenure_days,\n",
    "    a.eligible_105,\n",
    "    a.churn_by_105,\n",
    "\n",
    "    b.total_classes,\n",
    "    b.favorite_class,\n",
    "    b.favorite_day,\n",
    "    b.favorite_hour\n",
    "\n",
    "FROM parent_member_view a\n",
    "LEFT JOIN member_class_features b\n",
    "    ON a.member_id = b.member_id"
   ]
  },
  {
   "cell_type": "markdown",
   "id": "124934cc",
   "metadata": {},
   "source": [
    "# VIEW\n",
    "### create parent_finances from parent_member_view & member_finances"
   ]
  },
  {
   "cell_type": "code",
   "execution_count": 13,
   "id": "796437b9",
   "metadata": {},
   "outputs": [
    {
     "name": "stdout",
     "output_type": "stream",
     "text": [
      " * sqlite:///database/clean_db.sqlite\n",
      "Done.\n"
     ]
    },
    {
     "data": {
      "text/plain": [
       "[]"
      ]
     },
     "execution_count": 13,
     "metadata": {},
     "output_type": "execute_result"
    }
   ],
   "source": [
    "%%sql \n",
    "CREATE VIEW parent_finances as \n",
    "SELECT \n",
    "    a.member_id, \n",
    "    a.gender, a.age, \n",
    "    a.agreement_type, \n",
    "    a.start_date, \n",
    "    a.cancel_date, \n",
    "    a.cancel_reason, \n",
    "    a.status, \n",
    "    a.tenure_days,\n",
    "    a.eligible_105,\n",
    "    a.churn_by_105,\n",
    "\n",
    "    b.monthly_fee,\n",
    "    b.payment_status_tendency,\n",
    "    b.total_payments,\n",
    "    b.lifetime_outstanding_balance\n",
    "\n",
    "FROM parent_member_view a\n",
    "LEFT JOIN member_finances b\n",
    "    ON a.member_id = b.member_id"
   ]
  },
  {
   "cell_type": "markdown",
   "id": "2ea86091",
   "metadata": {},
   "source": [
    "# VIEW\n",
    "### create parent_pt from parent_member_view & member_PT"
   ]
  },
  {
   "cell_type": "code",
   "execution_count": 14,
   "id": "d7677042",
   "metadata": {},
   "outputs": [
    {
     "name": "stdout",
     "output_type": "stream",
     "text": [
      " * sqlite:///database/clean_db.sqlite\n",
      "Done.\n"
     ]
    },
    {
     "data": {
      "text/plain": [
       "[]"
      ]
     },
     "execution_count": 14,
     "metadata": {},
     "output_type": "execute_result"
    }
   ],
   "source": [
    "%%sql \n",
    "CREATE VIEW parent_pt as \n",
    "SELECT \n",
    "    a.member_id, \n",
    "    a.gender, a.age, \n",
    "    a.agreement_type, \n",
    "    a.start_date, \n",
    "    a.cancel_date, \n",
    "    a.cancel_reason, \n",
    "    a.status, \n",
    "    a.tenure_days,\n",
    "    a.eligible_105,\n",
    "    a.churn_by_105,\n",
    "\n",
    "    b.member_id,\n",
    "    b.total_pt_sessions,\n",
    "    b.favorite_pt_session,\n",
    "    b.favorite_day,\n",
    "    b.favorite_hour,\n",
    "    b.latest_session\n",
    "\n",
    "FROM parent_member_view a\n",
    "LEFT JOIN member_PT b\n",
    "    ON a.member_id = b.member_id"
   ]
  },
  {
   "cell_type": "markdown",
   "id": "ab173c7a",
   "metadata": {},
   "source": [
    "# VIEW\n",
    "### create parent_pos from parent_member_view & member_pos"
   ]
  },
  {
   "cell_type": "code",
   "execution_count": 15,
   "id": "6de6c926",
   "metadata": {},
   "outputs": [
    {
     "name": "stdout",
     "output_type": "stream",
     "text": [
      " * sqlite:///database/clean_db.sqlite\n",
      "Done.\n"
     ]
    },
    {
     "data": {
      "text/plain": [
       "[]"
      ]
     },
     "execution_count": 15,
     "metadata": {},
     "output_type": "execute_result"
    }
   ],
   "source": [
    "%%sql \n",
    "CREATE VIEW parent_pos as \n",
    "SELECT \n",
    "    a.member_id, \n",
    "    a.gender, a.age, \n",
    "    a.agreement_type, \n",
    "    a.start_date, \n",
    "    a.cancel_date, \n",
    "    a.cancel_reason, \n",
    "    a.status, \n",
    "    a.tenure_days,\n",
    "    a.eligible_105,\n",
    "    a.churn_by_105,\n",
    "\n",
    "    b.member_id,\n",
    "    b.total_items_bought,\n",
    "    b.total_purchase_value,\n",
    "    b.last_purchase_date\n",
    "\n",
    "FROM parent_member_view a\n",
    "LEFT JOIN member_pos b\n",
    "    ON a.member_id = b.member_id"
   ]
  },
  {
   "cell_type": "code",
   "execution_count": null,
   "id": "481da6b9",
   "metadata": {},
   "outputs": [],
   "source": []
  }
 ],
 "metadata": {
  "kernelspec": {
   "display_name": "Python 3",
   "language": "python",
   "name": "python3"
  },
  "language_info": {
   "codemirror_mode": {
    "name": "ipython",
    "version": 3
   },
   "file_extension": ".py",
   "mimetype": "text/x-python",
   "name": "python",
   "nbconvert_exporter": "python",
   "pygments_lexer": "ipython3",
   "version": "3.13.7"
  }
 },
 "nbformat": 4,
 "nbformat_minor": 5
}
