{
 "cells": [
  {
   "cell_type": "markdown",
   "id": "868a6a14",
   "metadata": {},
   "source": [
    "# Insights Deep-Dive"
   ]
  },
  {
   "cell_type": "markdown",
   "id": "f6d7353f",
   "metadata": {},
   "source": [
    "### By this point we have, converted csv files to .sqlite with load_data_sqlite.py. Explored, cleaned and prepared data in jupyternotebook and pandas (table_exploration_cleaning). Created table views based on the new member-level aggregates using table_join_views.ipynb. We can now proceed to uncover our insights!"
   ]
  },
  {
   "cell_type": "code",
   "execution_count": 1,
   "id": "6b845070",
   "metadata": {},
   "outputs": [
    {
     "name": "stdout",
     "output_type": "stream",
     "text": [
      " * sqlite:///database/clean_db.sqlite\n",
      "Done.\n"
     ]
    },
    {
     "data": {
      "text/html": [
       "<div>\n",
       "<style scoped>\n",
       "    .dataframe tbody tr th:only-of-type {\n",
       "        vertical-align: middle;\n",
       "    }\n",
       "\n",
       "    .dataframe tbody tr th {\n",
       "        vertical-align: top;\n",
       "    }\n",
       "\n",
       "    .dataframe thead th {\n",
       "        text-align: right;\n",
       "    }\n",
       "</style>\n",
       "<table border=\"1\" class=\"dataframe\">\n",
       "  <thead>\n",
       "    <tr style=\"text-align: right;\">\n",
       "      <th></th>\n",
       "      <th>name</th>\n",
       "    </tr>\n",
       "  </thead>\n",
       "  <tbody>\n",
       "    <tr>\n",
       "      <th>0</th>\n",
       "      <td>parent_member_view</td>\n",
       "    </tr>\n",
       "    <tr>\n",
       "      <th>1</th>\n",
       "      <td>parent_checkins</td>\n",
       "    </tr>\n",
       "    <tr>\n",
       "      <th>2</th>\n",
       "      <td>parent_classes</td>\n",
       "    </tr>\n",
       "    <tr>\n",
       "      <th>3</th>\n",
       "      <td>parent_finances</td>\n",
       "    </tr>\n",
       "    <tr>\n",
       "      <th>4</th>\n",
       "      <td>parent_pt</td>\n",
       "    </tr>\n",
       "    <tr>\n",
       "      <th>5</th>\n",
       "      <td>parent_pos</td>\n",
       "    </tr>\n",
       "  </tbody>\n",
       "</table>\n",
       "</div>"
      ],
      "text/plain": [
       "                 name\n",
       "0  parent_member_view\n",
       "1     parent_checkins\n",
       "2      parent_classes\n",
       "3     parent_finances\n",
       "4           parent_pt\n",
       "5          parent_pos"
      ]
     },
     "execution_count": 1,
     "metadata": {},
     "output_type": "execute_result"
    }
   ],
   "source": [
    "# Run pip install ipython-sql\n",
    "%load_ext sql\n",
    "\n",
    "%sql sqlite:///database/clean_db.sqlite\n",
    "\n",
    "# Run the next line if error\n",
    "%config SqlMagic.style = '_DEPRECATED_DEFAULT' \n",
    "\n",
    "# sql to df for visualization\n",
    "%config SqlMagic.autopandas = True\n",
    "\n",
    "%sql SELECT name from sqlite_master where type='view';"
   ]
  },
  {
   "cell_type": "code",
   "execution_count": 2,
   "id": "0f514c18",
   "metadata": {},
   "outputs": [
    {
     "name": "stdout",
     "output_type": "stream",
     "text": [
      " * sqlite:///database/clean_db.sqlite\n",
      "Done.\n"
     ]
    },
    {
     "data": {
      "text/html": [
       "<div>\n",
       "<style scoped>\n",
       "    .dataframe tbody tr th:only-of-type {\n",
       "        vertical-align: middle;\n",
       "    }\n",
       "\n",
       "    .dataframe tbody tr th {\n",
       "        vertical-align: top;\n",
       "    }\n",
       "\n",
       "    .dataframe thead th {\n",
       "        text-align: right;\n",
       "    }\n",
       "</style>\n",
       "<table border=\"1\" class=\"dataframe\">\n",
       "  <thead>\n",
       "    <tr style=\"text-align: right;\">\n",
       "      <th></th>\n",
       "      <th>member_id</th>\n",
       "      <th>gender</th>\n",
       "      <th>age</th>\n",
       "      <th>agreement_type</th>\n",
       "      <th>start_date</th>\n",
       "      <th>cancel_date</th>\n",
       "      <th>cancel_reason</th>\n",
       "      <th>status</th>\n",
       "      <th>tenure_days</th>\n",
       "      <th>eligible_105</th>\n",
       "      <th>churn_by_105</th>\n",
       "    </tr>\n",
       "  </thead>\n",
       "  <tbody>\n",
       "    <tr>\n",
       "      <th>0</th>\n",
       "      <td>ABC1000</td>\n",
       "      <td>male</td>\n",
       "      <td>21.0</td>\n",
       "      <td>Standard Annual</td>\n",
       "      <td>2024-08-21 00:00:00</td>\n",
       "      <td>None</td>\n",
       "      <td>None</td>\n",
       "      <td>Active</td>\n",
       "      <td>378</td>\n",
       "      <td>1</td>\n",
       "      <td>0</td>\n",
       "    </tr>\n",
       "    <tr>\n",
       "      <th>1</th>\n",
       "      <td>ABC1001</td>\n",
       "      <td>female</td>\n",
       "      <td>40.0</td>\n",
       "      <td>Standard M2M</td>\n",
       "      <td>2024-01-04 00:00:00</td>\n",
       "      <td>2024-12-02 00:00:00</td>\n",
       "      <td>Relocation</td>\n",
       "      <td>Canceled</td>\n",
       "      <td>333</td>\n",
       "      <td>1</td>\n",
       "      <td>0</td>\n",
       "    </tr>\n",
       "  </tbody>\n",
       "</table>\n",
       "</div>"
      ],
      "text/plain": [
       "  member_id  gender   age   agreement_type           start_date  \\\n",
       "0   ABC1000    male  21.0  Standard Annual  2024-08-21 00:00:00   \n",
       "1   ABC1001  female  40.0     Standard M2M  2024-01-04 00:00:00   \n",
       "\n",
       "           cancel_date cancel_reason    status  tenure_days  eligible_105  \\\n",
       "0                 None          None    Active          378             1   \n",
       "1  2024-12-02 00:00:00    Relocation  Canceled          333             1   \n",
       "\n",
       "   churn_by_105  \n",
       "0             0  \n",
       "1             0  "
      ]
     },
     "execution_count": 2,
     "metadata": {},
     "output_type": "execute_result"
    }
   ],
   "source": [
    "%sql select * from parent_member_view limit 2;"
   ]
  },
  {
   "cell_type": "code",
   "execution_count": 3,
   "id": "70bf361b",
   "metadata": {},
   "outputs": [
    {
     "name": "stdout",
     "output_type": "stream",
     "text": [
      " * sqlite:///database/clean_db.sqlite\n",
      "Done.\n"
     ]
    },
    {
     "data": {
      "text/html": [
       "<div>\n",
       "<style scoped>\n",
       "    .dataframe tbody tr th:only-of-type {\n",
       "        vertical-align: middle;\n",
       "    }\n",
       "\n",
       "    .dataframe tbody tr th {\n",
       "        vertical-align: top;\n",
       "    }\n",
       "\n",
       "    .dataframe thead th {\n",
       "        text-align: right;\n",
       "    }\n",
       "</style>\n",
       "<table border=\"1\" class=\"dataframe\">\n",
       "  <thead>\n",
       "    <tr style=\"text-align: right;\">\n",
       "      <th></th>\n",
       "      <th>member_id</th>\n",
       "      <th>gender</th>\n",
       "      <th>age</th>\n",
       "      <th>agreement_type</th>\n",
       "      <th>start_date</th>\n",
       "      <th>cancel_date</th>\n",
       "      <th>cancel_reason</th>\n",
       "      <th>status</th>\n",
       "      <th>tenure_days</th>\n",
       "      <th>eligible_105</th>\n",
       "      <th>churn_by_105</th>\n",
       "      <th>total_checkins</th>\n",
       "      <th>active_months</th>\n",
       "      <th>avg_checkins_per_month</th>\n",
       "      <th>most_frequent_day</th>\n",
       "      <th>most_common_hour</th>\n",
       "      <th>last_checkin_date</th>\n",
       "      <th>days_since_last_checkin</th>\n",
       "      <th>at_risk</th>\n",
       "    </tr>\n",
       "  </thead>\n",
       "  <tbody>\n",
       "    <tr>\n",
       "      <th>0</th>\n",
       "      <td>ABC1000</td>\n",
       "      <td>male</td>\n",
       "      <td>21.0</td>\n",
       "      <td>Standard Annual</td>\n",
       "      <td>2024-08-21 00:00:00</td>\n",
       "      <td>None</td>\n",
       "      <td>None</td>\n",
       "      <td>Active</td>\n",
       "      <td>378</td>\n",
       "      <td>1</td>\n",
       "      <td>0</td>\n",
       "      <td>155</td>\n",
       "      <td>13</td>\n",
       "      <td>11.923077</td>\n",
       "      <td>Sunday</td>\n",
       "      <td>8</td>\n",
       "      <td>2025-08-28 00:00:00</td>\n",
       "      <td>6</td>\n",
       "      <td>0</td>\n",
       "    </tr>\n",
       "    <tr>\n",
       "      <th>1</th>\n",
       "      <td>ABC1001</td>\n",
       "      <td>female</td>\n",
       "      <td>40.0</td>\n",
       "      <td>Standard M2M</td>\n",
       "      <td>2024-01-04 00:00:00</td>\n",
       "      <td>2024-12-02 00:00:00</td>\n",
       "      <td>Relocation</td>\n",
       "      <td>Canceled</td>\n",
       "      <td>333</td>\n",
       "      <td>1</td>\n",
       "      <td>0</td>\n",
       "      <td>196</td>\n",
       "      <td>12</td>\n",
       "      <td>16.333333</td>\n",
       "      <td>Sunday</td>\n",
       "      <td>8</td>\n",
       "      <td>2024-12-02 00:00:00</td>\n",
       "      <td>275</td>\n",
       "      <td>1</td>\n",
       "    </tr>\n",
       "  </tbody>\n",
       "</table>\n",
       "</div>"
      ],
      "text/plain": [
       "  member_id  gender   age   agreement_type           start_date  \\\n",
       "0   ABC1000    male  21.0  Standard Annual  2024-08-21 00:00:00   \n",
       "1   ABC1001  female  40.0     Standard M2M  2024-01-04 00:00:00   \n",
       "\n",
       "           cancel_date cancel_reason    status  tenure_days  eligible_105  \\\n",
       "0                 None          None    Active          378             1   \n",
       "1  2024-12-02 00:00:00    Relocation  Canceled          333             1   \n",
       "\n",
       "   churn_by_105  total_checkins  active_months  avg_checkins_per_month  \\\n",
       "0             0             155             13               11.923077   \n",
       "1             0             196             12               16.333333   \n",
       "\n",
       "  most_frequent_day  most_common_hour    last_checkin_date  \\\n",
       "0            Sunday                 8  2025-08-28 00:00:00   \n",
       "1            Sunday                 8  2024-12-02 00:00:00   \n",
       "\n",
       "   days_since_last_checkin  at_risk  \n",
       "0                        6        0  \n",
       "1                      275        1  "
      ]
     },
     "execution_count": 3,
     "metadata": {},
     "output_type": "execute_result"
    }
   ],
   "source": [
    "%sql select * from parent_checkins limit 2;"
   ]
  },
  {
   "cell_type": "code",
   "execution_count": 4,
   "id": "5168cf5e",
   "metadata": {},
   "outputs": [
    {
     "name": "stdout",
     "output_type": "stream",
     "text": [
      " * sqlite:///database/clean_db.sqlite\n",
      "Done.\n"
     ]
    },
    {
     "data": {
      "text/html": [
       "<div>\n",
       "<style scoped>\n",
       "    .dataframe tbody tr th:only-of-type {\n",
       "        vertical-align: middle;\n",
       "    }\n",
       "\n",
       "    .dataframe tbody tr th {\n",
       "        vertical-align: top;\n",
       "    }\n",
       "\n",
       "    .dataframe thead th {\n",
       "        text-align: right;\n",
       "    }\n",
       "</style>\n",
       "<table border=\"1\" class=\"dataframe\">\n",
       "  <thead>\n",
       "    <tr style=\"text-align: right;\">\n",
       "      <th></th>\n",
       "      <th>member_id</th>\n",
       "      <th>gender</th>\n",
       "      <th>age</th>\n",
       "      <th>agreement_type</th>\n",
       "      <th>start_date</th>\n",
       "      <th>cancel_date</th>\n",
       "      <th>cancel_reason</th>\n",
       "      <th>status</th>\n",
       "      <th>tenure_days</th>\n",
       "      <th>eligible_105</th>\n",
       "      <th>churn_by_105</th>\n",
       "      <th>monthly_fee</th>\n",
       "      <th>payment_status_tendency</th>\n",
       "      <th>total_payments</th>\n",
       "      <th>lifetime_outstanding_balance</th>\n",
       "    </tr>\n",
       "  </thead>\n",
       "  <tbody>\n",
       "    <tr>\n",
       "      <th>0</th>\n",
       "      <td>ABC1000</td>\n",
       "      <td>male</td>\n",
       "      <td>21.0</td>\n",
       "      <td>Standard Annual</td>\n",
       "      <td>2024-08-21 00:00:00</td>\n",
       "      <td>None</td>\n",
       "      <td>None</td>\n",
       "      <td>Active</td>\n",
       "      <td>378</td>\n",
       "      <td>1</td>\n",
       "      <td>0</td>\n",
       "      <td>55.00</td>\n",
       "      <td>on-time</td>\n",
       "      <td>15</td>\n",
       "      <td>0.00</td>\n",
       "    </tr>\n",
       "    <tr>\n",
       "      <th>1</th>\n",
       "      <td>ABC1001</td>\n",
       "      <td>female</td>\n",
       "      <td>40.0</td>\n",
       "      <td>Standard M2M</td>\n",
       "      <td>2024-01-04 00:00:00</td>\n",
       "      <td>2024-12-02 00:00:00</td>\n",
       "      <td>Relocation</td>\n",
       "      <td>Canceled</td>\n",
       "      <td>333</td>\n",
       "      <td>1</td>\n",
       "      <td>0</td>\n",
       "      <td>49.99</td>\n",
       "      <td>on-time</td>\n",
       "      <td>12</td>\n",
       "      <td>49.99</td>\n",
       "    </tr>\n",
       "  </tbody>\n",
       "</table>\n",
       "</div>"
      ],
      "text/plain": [
       "  member_id  gender   age   agreement_type           start_date  \\\n",
       "0   ABC1000    male  21.0  Standard Annual  2024-08-21 00:00:00   \n",
       "1   ABC1001  female  40.0     Standard M2M  2024-01-04 00:00:00   \n",
       "\n",
       "           cancel_date cancel_reason    status  tenure_days  eligible_105  \\\n",
       "0                 None          None    Active          378             1   \n",
       "1  2024-12-02 00:00:00    Relocation  Canceled          333             1   \n",
       "\n",
       "   churn_by_105  monthly_fee payment_status_tendency  total_payments  \\\n",
       "0             0        55.00                 on-time              15   \n",
       "1             0        49.99                 on-time              12   \n",
       "\n",
       "   lifetime_outstanding_balance  \n",
       "0                          0.00  \n",
       "1                         49.99  "
      ]
     },
     "execution_count": 4,
     "metadata": {},
     "output_type": "execute_result"
    }
   ],
   "source": [
    "%sql select * from parent_finances limit 2;"
   ]
  },
  {
   "cell_type": "code",
   "execution_count": 5,
   "id": "8a38317d",
   "metadata": {},
   "outputs": [
    {
     "name": "stdout",
     "output_type": "stream",
     "text": [
      " * sqlite:///database/clean_db.sqlite\n",
      "Done.\n"
     ]
    },
    {
     "data": {
      "text/html": [
       "<div>\n",
       "<style scoped>\n",
       "    .dataframe tbody tr th:only-of-type {\n",
       "        vertical-align: middle;\n",
       "    }\n",
       "\n",
       "    .dataframe tbody tr th {\n",
       "        vertical-align: top;\n",
       "    }\n",
       "\n",
       "    .dataframe thead th {\n",
       "        text-align: right;\n",
       "    }\n",
       "</style>\n",
       "<table border=\"1\" class=\"dataframe\">\n",
       "  <thead>\n",
       "    <tr style=\"text-align: right;\">\n",
       "      <th></th>\n",
       "      <th>member_id</th>\n",
       "      <th>gender</th>\n",
       "      <th>age</th>\n",
       "      <th>agreement_type</th>\n",
       "      <th>start_date</th>\n",
       "      <th>cancel_date</th>\n",
       "      <th>cancel_reason</th>\n",
       "      <th>status</th>\n",
       "      <th>tenure_days</th>\n",
       "      <th>eligible_105</th>\n",
       "      <th>churn_by_105</th>\n",
       "      <th>total_classes</th>\n",
       "      <th>favorite_class</th>\n",
       "      <th>favorite_day</th>\n",
       "      <th>favorite_hour</th>\n",
       "    </tr>\n",
       "  </thead>\n",
       "  <tbody>\n",
       "    <tr>\n",
       "      <th>0</th>\n",
       "      <td>ABC1000</td>\n",
       "      <td>male</td>\n",
       "      <td>21.0</td>\n",
       "      <td>Standard Annual</td>\n",
       "      <td>2024-08-21 00:00:00</td>\n",
       "      <td>None</td>\n",
       "      <td>None</td>\n",
       "      <td>Active</td>\n",
       "      <td>378</td>\n",
       "      <td>1</td>\n",
       "      <td>0</td>\n",
       "      <td>NaN</td>\n",
       "      <td>None</td>\n",
       "      <td>None</td>\n",
       "      <td>NaN</td>\n",
       "    </tr>\n",
       "    <tr>\n",
       "      <th>1</th>\n",
       "      <td>ABC1001</td>\n",
       "      <td>female</td>\n",
       "      <td>40.0</td>\n",
       "      <td>Standard M2M</td>\n",
       "      <td>2024-01-04 00:00:00</td>\n",
       "      <td>2024-12-02 00:00:00</td>\n",
       "      <td>Relocation</td>\n",
       "      <td>Canceled</td>\n",
       "      <td>333</td>\n",
       "      <td>1</td>\n",
       "      <td>0</td>\n",
       "      <td>7.0</td>\n",
       "      <td>yoga basics</td>\n",
       "      <td>Friday</td>\n",
       "      <td>6.0</td>\n",
       "    </tr>\n",
       "  </tbody>\n",
       "</table>\n",
       "</div>"
      ],
      "text/plain": [
       "  member_id  gender   age   agreement_type           start_date  \\\n",
       "0   ABC1000    male  21.0  Standard Annual  2024-08-21 00:00:00   \n",
       "1   ABC1001  female  40.0     Standard M2M  2024-01-04 00:00:00   \n",
       "\n",
       "           cancel_date cancel_reason    status  tenure_days  eligible_105  \\\n",
       "0                 None          None    Active          378             1   \n",
       "1  2024-12-02 00:00:00    Relocation  Canceled          333             1   \n",
       "\n",
       "   churn_by_105  total_classes favorite_class favorite_day  favorite_hour  \n",
       "0             0            NaN           None         None            NaN  \n",
       "1             0            7.0    yoga basics       Friday            6.0  "
      ]
     },
     "execution_count": 5,
     "metadata": {},
     "output_type": "execute_result"
    }
   ],
   "source": [
    "%sql select * from parent_classes limit 2;"
   ]
  },
  {
   "cell_type": "code",
   "execution_count": 6,
   "id": "8780b569",
   "metadata": {},
   "outputs": [
    {
     "name": "stdout",
     "output_type": "stream",
     "text": [
      " * sqlite:///database/clean_db.sqlite\n",
      "Done.\n"
     ]
    },
    {
     "data": {
      "text/html": [
       "<div>\n",
       "<style scoped>\n",
       "    .dataframe tbody tr th:only-of-type {\n",
       "        vertical-align: middle;\n",
       "    }\n",
       "\n",
       "    .dataframe tbody tr th {\n",
       "        vertical-align: top;\n",
       "    }\n",
       "\n",
       "    .dataframe thead th {\n",
       "        text-align: right;\n",
       "    }\n",
       "</style>\n",
       "<table border=\"1\" class=\"dataframe\">\n",
       "  <thead>\n",
       "    <tr style=\"text-align: right;\">\n",
       "      <th></th>\n",
       "      <th>member_id</th>\n",
       "      <th>gender</th>\n",
       "      <th>age</th>\n",
       "      <th>agreement_type</th>\n",
       "      <th>start_date</th>\n",
       "      <th>cancel_date</th>\n",
       "      <th>cancel_reason</th>\n",
       "      <th>status</th>\n",
       "      <th>tenure_days</th>\n",
       "      <th>eligible_105</th>\n",
       "      <th>churn_by_105</th>\n",
       "      <th>member_id:1</th>\n",
       "      <th>total_pt_sessions</th>\n",
       "      <th>favorite_pt_session</th>\n",
       "      <th>favorite_day</th>\n",
       "      <th>favorite_hour</th>\n",
       "      <th>latest_session</th>\n",
       "    </tr>\n",
       "  </thead>\n",
       "  <tbody>\n",
       "    <tr>\n",
       "      <th>0</th>\n",
       "      <td>ABC1000</td>\n",
       "      <td>male</td>\n",
       "      <td>21.0</td>\n",
       "      <td>Standard Annual</td>\n",
       "      <td>2024-08-21 00:00:00</td>\n",
       "      <td>None</td>\n",
       "      <td>None</td>\n",
       "      <td>Active</td>\n",
       "      <td>378</td>\n",
       "      <td>1</td>\n",
       "      <td>0</td>\n",
       "      <td>None</td>\n",
       "      <td>None</td>\n",
       "      <td>None</td>\n",
       "      <td>None</td>\n",
       "      <td>None</td>\n",
       "      <td>None</td>\n",
       "    </tr>\n",
       "    <tr>\n",
       "      <th>1</th>\n",
       "      <td>ABC1001</td>\n",
       "      <td>female</td>\n",
       "      <td>40.0</td>\n",
       "      <td>Standard M2M</td>\n",
       "      <td>2024-01-04 00:00:00</td>\n",
       "      <td>2024-12-02 00:00:00</td>\n",
       "      <td>Relocation</td>\n",
       "      <td>Canceled</td>\n",
       "      <td>333</td>\n",
       "      <td>1</td>\n",
       "      <td>0</td>\n",
       "      <td>None</td>\n",
       "      <td>None</td>\n",
       "      <td>None</td>\n",
       "      <td>None</td>\n",
       "      <td>None</td>\n",
       "      <td>None</td>\n",
       "    </tr>\n",
       "  </tbody>\n",
       "</table>\n",
       "</div>"
      ],
      "text/plain": [
       "  member_id  gender   age   agreement_type           start_date  \\\n",
       "0   ABC1000    male  21.0  Standard Annual  2024-08-21 00:00:00   \n",
       "1   ABC1001  female  40.0     Standard M2M  2024-01-04 00:00:00   \n",
       "\n",
       "           cancel_date cancel_reason    status  tenure_days  eligible_105  \\\n",
       "0                 None          None    Active          378             1   \n",
       "1  2024-12-02 00:00:00    Relocation  Canceled          333             1   \n",
       "\n",
       "   churn_by_105 member_id:1 total_pt_sessions favorite_pt_session  \\\n",
       "0             0        None              None                None   \n",
       "1             0        None              None                None   \n",
       "\n",
       "  favorite_day favorite_hour latest_session  \n",
       "0         None          None           None  \n",
       "1         None          None           None  "
      ]
     },
     "execution_count": 6,
     "metadata": {},
     "output_type": "execute_result"
    }
   ],
   "source": [
    "%sql select * from parent_pt limit 2;"
   ]
  },
  {
   "cell_type": "code",
   "execution_count": 7,
   "id": "a308bd84",
   "metadata": {},
   "outputs": [
    {
     "name": "stdout",
     "output_type": "stream",
     "text": [
      " * sqlite:///database/clean_db.sqlite\n",
      "Done.\n"
     ]
    },
    {
     "data": {
      "text/html": [
       "<div>\n",
       "<style scoped>\n",
       "    .dataframe tbody tr th:only-of-type {\n",
       "        vertical-align: middle;\n",
       "    }\n",
       "\n",
       "    .dataframe tbody tr th {\n",
       "        vertical-align: top;\n",
       "    }\n",
       "\n",
       "    .dataframe thead th {\n",
       "        text-align: right;\n",
       "    }\n",
       "</style>\n",
       "<table border=\"1\" class=\"dataframe\">\n",
       "  <thead>\n",
       "    <tr style=\"text-align: right;\">\n",
       "      <th></th>\n",
       "      <th>member_id</th>\n",
       "      <th>gender</th>\n",
       "      <th>age</th>\n",
       "      <th>agreement_type</th>\n",
       "      <th>start_date</th>\n",
       "      <th>cancel_date</th>\n",
       "      <th>cancel_reason</th>\n",
       "      <th>status</th>\n",
       "      <th>tenure_days</th>\n",
       "      <th>eligible_105</th>\n",
       "      <th>churn_by_105</th>\n",
       "      <th>member_id:1</th>\n",
       "      <th>total_items_bought</th>\n",
       "      <th>total_purchase_value</th>\n",
       "      <th>last_purchase_date</th>\n",
       "    </tr>\n",
       "  </thead>\n",
       "  <tbody>\n",
       "    <tr>\n",
       "      <th>0</th>\n",
       "      <td>ABC1000</td>\n",
       "      <td>male</td>\n",
       "      <td>21.0</td>\n",
       "      <td>Standard Annual</td>\n",
       "      <td>2024-08-21 00:00:00</td>\n",
       "      <td>None</td>\n",
       "      <td>None</td>\n",
       "      <td>Active</td>\n",
       "      <td>378</td>\n",
       "      <td>1</td>\n",
       "      <td>0</td>\n",
       "      <td>ABC1000</td>\n",
       "      <td>4</td>\n",
       "      <td>34.0</td>\n",
       "      <td>2025-05-19 00:00:00</td>\n",
       "    </tr>\n",
       "    <tr>\n",
       "      <th>1</th>\n",
       "      <td>ABC1001</td>\n",
       "      <td>female</td>\n",
       "      <td>40.0</td>\n",
       "      <td>Standard M2M</td>\n",
       "      <td>2024-01-04 00:00:00</td>\n",
       "      <td>2024-12-02 00:00:00</td>\n",
       "      <td>Relocation</td>\n",
       "      <td>Canceled</td>\n",
       "      <td>333</td>\n",
       "      <td>1</td>\n",
       "      <td>0</td>\n",
       "      <td>ABC1001</td>\n",
       "      <td>2</td>\n",
       "      <td>17.0</td>\n",
       "      <td>2024-04-19 00:00:00</td>\n",
       "    </tr>\n",
       "  </tbody>\n",
       "</table>\n",
       "</div>"
      ],
      "text/plain": [
       "  member_id  gender   age   agreement_type           start_date  \\\n",
       "0   ABC1000    male  21.0  Standard Annual  2024-08-21 00:00:00   \n",
       "1   ABC1001  female  40.0     Standard M2M  2024-01-04 00:00:00   \n",
       "\n",
       "           cancel_date cancel_reason    status  tenure_days  eligible_105  \\\n",
       "0                 None          None    Active          378             1   \n",
       "1  2024-12-02 00:00:00    Relocation  Canceled          333             1   \n",
       "\n",
       "   churn_by_105 member_id:1  total_items_bought  total_purchase_value  \\\n",
       "0             0     ABC1000                   4                  34.0   \n",
       "1             0     ABC1001                   2                  17.0   \n",
       "\n",
       "    last_purchase_date  \n",
       "0  2025-05-19 00:00:00  \n",
       "1  2024-04-19 00:00:00  "
      ]
     },
     "execution_count": 7,
     "metadata": {},
     "output_type": "execute_result"
    }
   ],
   "source": [
    "%sql select * from parent_pos limit 2;"
   ]
  },
  {
   "cell_type": "markdown",
   "id": "6c535793",
   "metadata": {},
   "source": [
    "# SQL Queries"
   ]
  },
  {
   "cell_type": "markdown",
   "id": "68975177",
   "metadata": {},
   "source": [
    "## Behavioral Analysis"
   ]
  },
  {
   "cell_type": "markdown",
   "id": "a8fb8196",
   "metadata": {},
   "source": [
    "### Average Monthly Check-Ins for active members (Retained)"
   ]
  },
  {
   "cell_type": "code",
   "execution_count": 8,
   "id": "a103bd2e",
   "metadata": {},
   "outputs": [
    {
     "name": "stdout",
     "output_type": "stream",
     "text": [
      " * sqlite:///database/clean_db.sqlite\n",
      "Done.\n"
     ]
    },
    {
     "data": {
      "text/html": [
       "<div>\n",
       "<style scoped>\n",
       "    .dataframe tbody tr th:only-of-type {\n",
       "        vertical-align: middle;\n",
       "    }\n",
       "\n",
       "    .dataframe tbody tr th {\n",
       "        vertical-align: top;\n",
       "    }\n",
       "\n",
       "    .dataframe thead th {\n",
       "        text-align: right;\n",
       "    }\n",
       "</style>\n",
       "<table border=\"1\" class=\"dataframe\">\n",
       "  <thead>\n",
       "    <tr style=\"text-align: right;\">\n",
       "      <th></th>\n",
       "      <th>avg_monthly_checkins</th>\n",
       "    </tr>\n",
       "  </thead>\n",
       "  <tbody>\n",
       "    <tr>\n",
       "      <th>0</th>\n",
       "      <td>9.42</td>\n",
       "    </tr>\n",
       "  </tbody>\n",
       "</table>\n",
       "</div>"
      ],
      "text/plain": [
       "   avg_monthly_checkins\n",
       "0                  9.42"
      ]
     },
     "execution_count": 8,
     "metadata": {},
     "output_type": "execute_result"
    }
   ],
   "source": [
    "%%sql\n",
    "SELECT\n",
    "    ROUND(AVG(avg_checkins_per_month), 2) as avg_monthly_checkins\n",
    "FROM parent_checkins\n",
    "WHERE status = 'Active'\n",
    "AND eligible_105 = 1;"
   ]
  },
  {
   "cell_type": "code",
   "execution_count": 9,
   "id": "ddcd398d",
   "metadata": {},
   "outputs": [
    {
     "name": "stdout",
     "output_type": "stream",
     "text": [
      " * sqlite:///database/clean_db.sqlite\n",
      "Done.\n"
     ]
    },
    {
     "data": {
      "text/html": [
       "<div>\n",
       "<style scoped>\n",
       "    .dataframe tbody tr th:only-of-type {\n",
       "        vertical-align: middle;\n",
       "    }\n",
       "\n",
       "    .dataframe tbody tr th {\n",
       "        vertical-align: top;\n",
       "    }\n",
       "\n",
       "    .dataframe thead th {\n",
       "        text-align: right;\n",
       "    }\n",
       "</style>\n",
       "<table border=\"1\" class=\"dataframe\">\n",
       "  <thead>\n",
       "    <tr style=\"text-align: right;\">\n",
       "      <th></th>\n",
       "      <th>avg_monthly_checkins</th>\n",
       "    </tr>\n",
       "  </thead>\n",
       "  <tbody>\n",
       "    <tr>\n",
       "      <th>0</th>\n",
       "      <td>7.91</td>\n",
       "    </tr>\n",
       "  </tbody>\n",
       "</table>\n",
       "</div>"
      ],
      "text/plain": [
       "   avg_monthly_checkins\n",
       "0                  7.91"
      ]
     },
     "execution_count": 9,
     "metadata": {},
     "output_type": "execute_result"
    }
   ],
   "source": [
    "%%sql\n",
    "SELECT\n",
    "    ROUND(AVG(avg_checkins_per_month), 2) as avg_monthly_checkins\n",
    "FROM parent_checkins\n",
    "WHERE status = 'Canceled'\n",
    "AND churn_by_105 = 1;"
   ]
  },
  {
   "cell_type": "markdown",
   "id": "d992cc57",
   "metadata": {},
   "source": [
    "### Churn Likelihood by Agreement Type"
   ]
  },
  {
   "cell_type": "code",
   "execution_count": 10,
   "id": "949e8ae9",
   "metadata": {},
   "outputs": [
    {
     "name": "stdout",
     "output_type": "stream",
     "text": [
      " * sqlite:///database/clean_db.sqlite\n",
      "Done.\n"
     ]
    },
    {
     "data": {
      "text/html": [
       "<div>\n",
       "<style scoped>\n",
       "    .dataframe tbody tr th:only-of-type {\n",
       "        vertical-align: middle;\n",
       "    }\n",
       "\n",
       "    .dataframe tbody tr th {\n",
       "        vertical-align: top;\n",
       "    }\n",
       "\n",
       "    .dataframe thead th {\n",
       "        text-align: right;\n",
       "    }\n",
       "</style>\n",
       "<table border=\"1\" class=\"dataframe\">\n",
       "  <thead>\n",
       "    <tr style=\"text-align: right;\">\n",
       "      <th></th>\n",
       "      <th>agreement_type</th>\n",
       "      <th>churn_rate_by_105</th>\n",
       "    </tr>\n",
       "  </thead>\n",
       "  <tbody>\n",
       "    <tr>\n",
       "      <th>0</th>\n",
       "      <td>Passport M2M</td>\n",
       "      <td>25.83</td>\n",
       "    </tr>\n",
       "    <tr>\n",
       "      <th>1</th>\n",
       "      <td>Standard M2M</td>\n",
       "      <td>18.90</td>\n",
       "    </tr>\n",
       "    <tr>\n",
       "      <th>2</th>\n",
       "      <td>Passport Annual</td>\n",
       "      <td>13.64</td>\n",
       "    </tr>\n",
       "    <tr>\n",
       "      <th>3</th>\n",
       "      <td>Standard Annual</td>\n",
       "      <td>11.56</td>\n",
       "    </tr>\n",
       "  </tbody>\n",
       "</table>\n",
       "</div>"
      ],
      "text/plain": [
       "    agreement_type  churn_rate_by_105\n",
       "0     Passport M2M              25.83\n",
       "1     Standard M2M              18.90\n",
       "2  Passport Annual              13.64\n",
       "3  Standard Annual              11.56"
      ]
     },
     "execution_count": 10,
     "metadata": {},
     "output_type": "execute_result"
    }
   ],
   "source": [
    "%%sql\n",
    "SELECT\n",
    "    agreement_type,\n",
    "    ROUND(AVG(churn_by_105) * 100.0, 2) AS churn_rate_by_105\n",
    "FROM parent_member_view\n",
    "WHERE eligible_105 = 1\n",
    "GROUP BY agreement_type\n",
    "ORDER BY churn_rate_by_105 DESC;"
   ]
  },
  {
   "cell_type": "markdown",
   "id": "45c55647",
   "metadata": {},
   "source": [
    "### Churn Likelihood by Check-In Frequency"
   ]
  },
  {
   "cell_type": "code",
   "execution_count": 11,
   "id": "abdf997e",
   "metadata": {},
   "outputs": [
    {
     "name": "stdout",
     "output_type": "stream",
     "text": [
      " * sqlite:///database/clean_db.sqlite\n",
      "Done.\n"
     ]
    },
    {
     "data": {
      "text/html": [
       "<div>\n",
       "<style scoped>\n",
       "    .dataframe tbody tr th:only-of-type {\n",
       "        vertical-align: middle;\n",
       "    }\n",
       "\n",
       "    .dataframe tbody tr th {\n",
       "        vertical-align: top;\n",
       "    }\n",
       "\n",
       "    .dataframe thead th {\n",
       "        text-align: right;\n",
       "    }\n",
       "</style>\n",
       "<table border=\"1\" class=\"dataframe\">\n",
       "  <thead>\n",
       "    <tr style=\"text-align: right;\">\n",
       "      <th></th>\n",
       "      <th>check_in_category</th>\n",
       "      <th>members</th>\n",
       "      <th>churn_rate_by_105</th>\n",
       "    </tr>\n",
       "  </thead>\n",
       "  <tbody>\n",
       "    <tr>\n",
       "      <th>0</th>\n",
       "      <td>Low (0–3)</td>\n",
       "      <td>93</td>\n",
       "      <td>43.01</td>\n",
       "    </tr>\n",
       "    <tr>\n",
       "      <th>1</th>\n",
       "      <td>High (11+)</td>\n",
       "      <td>432</td>\n",
       "      <td>15.28</td>\n",
       "    </tr>\n",
       "    <tr>\n",
       "      <th>2</th>\n",
       "      <td>Medium (4–10)</td>\n",
       "      <td>359</td>\n",
       "      <td>15.04</td>\n",
       "    </tr>\n",
       "  </tbody>\n",
       "</table>\n",
       "</div>"
      ],
      "text/plain": [
       "  check_in_category  members  churn_rate_by_105\n",
       "0         Low (0–3)       93              43.01\n",
       "1        High (11+)      432              15.28\n",
       "2     Medium (4–10)      359              15.04"
      ]
     },
     "execution_count": 11,
     "metadata": {},
     "output_type": "execute_result"
    }
   ],
   "source": [
    "%%sql\n",
    "SELECT\n",
    "    CASE\n",
    "        WHEN avg_checkins_per_month < 4 THEN 'Low (0–3)'\n",
    "        WHEN avg_checkins_per_month BETWEEN 4 AND 10 THEN 'Medium (4–10)'\n",
    "        ELSE 'High (11+)'\n",
    "    END AS check_in_category,\n",
    "    COUNT(*) AS members,\n",
    "    ROUND(AVG(churn_by_105) * 100.0, 2) AS churn_rate_by_105\n",
    "FROM parent_checkins\n",
    "WHERE eligible_105 = 1\n",
    "GROUP BY check_in_category\n",
    "ORDER BY churn_rate_by_105 DESC;"
   ]
  },
  {
   "cell_type": "markdown",
   "id": "c25ec353",
   "metadata": {},
   "source": [
    "### Churn Likelihood by Inactive period"
   ]
  },
  {
   "cell_type": "code",
   "execution_count": 12,
   "id": "fa0603d5",
   "metadata": {},
   "outputs": [
    {
     "name": "stdout",
     "output_type": "stream",
     "text": [
      " * sqlite:///database/clean_db.sqlite\n",
      "Done.\n"
     ]
    },
    {
     "data": {
      "text/html": [
       "<div>\n",
       "<style scoped>\n",
       "    .dataframe tbody tr th:only-of-type {\n",
       "        vertical-align: middle;\n",
       "    }\n",
       "\n",
       "    .dataframe tbody tr th {\n",
       "        vertical-align: top;\n",
       "    }\n",
       "\n",
       "    .dataframe thead th {\n",
       "        text-align: right;\n",
       "    }\n",
       "</style>\n",
       "<table border=\"1\" class=\"dataframe\">\n",
       "  <thead>\n",
       "    <tr style=\"text-align: right;\">\n",
       "      <th></th>\n",
       "      <th>inactive_category</th>\n",
       "      <th>churn_rate_by_105</th>\n",
       "    </tr>\n",
       "  </thead>\n",
       "  <tbody>\n",
       "    <tr>\n",
       "      <th>0</th>\n",
       "      <td>No check-in within 30 days</td>\n",
       "      <td>44.07</td>\n",
       "    </tr>\n",
       "    <tr>\n",
       "      <th>1</th>\n",
       "      <td>check-in within 30 days</td>\n",
       "      <td>5.09</td>\n",
       "    </tr>\n",
       "  </tbody>\n",
       "</table>\n",
       "</div>"
      ],
      "text/plain": [
       "            inactive_category  churn_rate_by_105\n",
       "0  No check-in within 30 days              44.07\n",
       "1     check-in within 30 days               5.09"
      ]
     },
     "execution_count": 12,
     "metadata": {},
     "output_type": "execute_result"
    }
   ],
   "source": [
    "%%sql\n",
    "SELECT\n",
    "    inactive_category,\n",
    "    ROUND(AVG(churn_by_105) * 100.0, 2) AS churn_rate_by_105\n",
    "FROM (\n",
    "    SELECT\n",
    "        member_id,\n",
    "        eligible_105,\n",
    "        churn_by_105,\n",
    "        CASE\n",
    "            WHEN days_since_last_checkin > 30 or\n",
    "            days_since_last_checkin IS NULL THEN 'No check-in within 30 days'\n",
    "            ELSE 'check-in within 30 days'\n",
    "        END AS inactive_category\n",
    "    FROM parent_checkins\n",
    ") sub\n",
    "WHERE eligible_105 = 1\n",
    "GROUP BY inactive_category\n",
    "ORDER BY churn_rate_by_105 DESC;"
   ]
  },
  {
   "cell_type": "markdown",
   "id": "cb120d18",
   "metadata": {},
   "source": [
    "### Churn Likelihood by Class Attendance"
   ]
  },
  {
   "cell_type": "code",
   "execution_count": 13,
   "id": "0b7901ec",
   "metadata": {},
   "outputs": [
    {
     "name": "stdout",
     "output_type": "stream",
     "text": [
      " * sqlite:///database/clean_db.sqlite\n",
      "Done.\n"
     ]
    },
    {
     "data": {
      "text/html": [
       "<div>\n",
       "<style scoped>\n",
       "    .dataframe tbody tr th:only-of-type {\n",
       "        vertical-align: middle;\n",
       "    }\n",
       "\n",
       "    .dataframe tbody tr th {\n",
       "        vertical-align: top;\n",
       "    }\n",
       "\n",
       "    .dataframe thead th {\n",
       "        text-align: right;\n",
       "    }\n",
       "</style>\n",
       "<table border=\"1\" class=\"dataframe\">\n",
       "  <thead>\n",
       "    <tr style=\"text-align: right;\">\n",
       "      <th></th>\n",
       "      <th>class_attendance</th>\n",
       "      <th>churn_rate_by_105</th>\n",
       "    </tr>\n",
       "  </thead>\n",
       "  <tbody>\n",
       "    <tr>\n",
       "      <th>0</th>\n",
       "      <td>No Classes</td>\n",
       "      <td>21.26</td>\n",
       "    </tr>\n",
       "    <tr>\n",
       "      <th>1</th>\n",
       "      <td>Attended Classes</td>\n",
       "      <td>17.32</td>\n",
       "    </tr>\n",
       "  </tbody>\n",
       "</table>\n",
       "</div>"
      ],
      "text/plain": [
       "   class_attendance  churn_rate_by_105\n",
       "0        No Classes              21.26\n",
       "1  Attended Classes              17.32"
      ]
     },
     "execution_count": 13,
     "metadata": {},
     "output_type": "execute_result"
    }
   ],
   "source": [
    "%%sql\n",
    "SELECT\n",
    "    class_attendance,\n",
    "    ROUND(AVG(churn_by_105) * 100.0, 2) AS churn_rate_by_105\n",
    "FROM (\n",
    "    SELECT\n",
    "        member_id,\n",
    "        eligible_105,\n",
    "        churn_by_105,\n",
    "        CASE\n",
    "            WHEN total_classes > 0 THEN 'Attended Classes'\n",
    "            ELSE 'No Classes'\n",
    "        END AS class_attendance\n",
    "    FROM parent_classes\n",
    ") sub\n",
    "WHERE eligible_105 = 1\n",
    "GROUP BY class_attendance\n",
    "ORDER BY churn_rate_by_105 DESC;"
   ]
  },
  {
   "cell_type": "markdown",
   "id": "09709a8e",
   "metadata": {},
   "source": [
    "### Churn Likelihood by Personal Training Attendee"
   ]
  },
  {
   "cell_type": "code",
   "execution_count": 14,
   "id": "3fdd3e79",
   "metadata": {},
   "outputs": [
    {
     "name": "stdout",
     "output_type": "stream",
     "text": [
      " * sqlite:///database/clean_db.sqlite\n",
      "Done.\n"
     ]
    },
    {
     "data": {
      "text/html": [
       "<div>\n",
       "<style scoped>\n",
       "    .dataframe tbody tr th:only-of-type {\n",
       "        vertical-align: middle;\n",
       "    }\n",
       "\n",
       "    .dataframe tbody tr th {\n",
       "        vertical-align: top;\n",
       "    }\n",
       "\n",
       "    .dataframe thead th {\n",
       "        text-align: right;\n",
       "    }\n",
       "</style>\n",
       "<table border=\"1\" class=\"dataframe\">\n",
       "  <thead>\n",
       "    <tr style=\"text-align: right;\">\n",
       "      <th></th>\n",
       "      <th>pt_attendance</th>\n",
       "      <th>churn_rate_by_105</th>\n",
       "    </tr>\n",
       "  </thead>\n",
       "  <tbody>\n",
       "    <tr>\n",
       "      <th>0</th>\n",
       "      <td>No PT</td>\n",
       "      <td>19.1</td>\n",
       "    </tr>\n",
       "    <tr>\n",
       "      <th>1</th>\n",
       "      <td>Attended PT</td>\n",
       "      <td>12.0</td>\n",
       "    </tr>\n",
       "  </tbody>\n",
       "</table>\n",
       "</div>"
      ],
      "text/plain": [
       "  pt_attendance  churn_rate_by_105\n",
       "0         No PT               19.1\n",
       "1   Attended PT               12.0"
      ]
     },
     "execution_count": 14,
     "metadata": {},
     "output_type": "execute_result"
    }
   ],
   "source": [
    "%%sql\n",
    "SELECT \n",
    "    pt_attendance,\n",
    "    ROUND(AVG(churn_by_105) * 100.0, 2) AS churn_rate_by_105\n",
    "FROM (\n",
    "    SELECT \n",
    "        member_id,\n",
    "        eligible_105,\n",
    "        churn_by_105,\n",
    "        CASE\n",
    "            WHEN total_pt_sessions > 0 THEN 'Attended PT'\n",
    "            ELSE 'No PT'\n",
    "        END AS pt_attendance\n",
    "    from parent_pt\n",
    ") sub\n",
    "WHERE eligible_105 = 1\n",
    "GROUP BY pt_attendance\n",
    "ORDER BY churn_rate_by_105 DESC;"
   ]
  },
  {
   "cell_type": "markdown",
   "id": "b130df1b",
   "metadata": {},
   "source": [
    "### Churn Likelihood by Purchase"
   ]
  },
  {
   "cell_type": "code",
   "execution_count": 15,
   "id": "271d8405",
   "metadata": {},
   "outputs": [
    {
     "name": "stdout",
     "output_type": "stream",
     "text": [
      " * sqlite:///database/clean_db.sqlite\n",
      "Done.\n"
     ]
    },
    {
     "data": {
      "text/html": [
       "<div>\n",
       "<style scoped>\n",
       "    .dataframe tbody tr th:only-of-type {\n",
       "        vertical-align: middle;\n",
       "    }\n",
       "\n",
       "    .dataframe tbody tr th {\n",
       "        vertical-align: top;\n",
       "    }\n",
       "\n",
       "    .dataframe thead th {\n",
       "        text-align: right;\n",
       "    }\n",
       "</style>\n",
       "<table border=\"1\" class=\"dataframe\">\n",
       "  <thead>\n",
       "    <tr style=\"text-align: right;\">\n",
       "      <th></th>\n",
       "      <th>purchase_category</th>\n",
       "      <th>churn_rate_by_105</th>\n",
       "    </tr>\n",
       "  </thead>\n",
       "  <tbody>\n",
       "    <tr>\n",
       "      <th>0</th>\n",
       "      <td>No Purchases</td>\n",
       "      <td>28.26</td>\n",
       "    </tr>\n",
       "    <tr>\n",
       "      <th>1</th>\n",
       "      <td>Made Purchases</td>\n",
       "      <td>16.92</td>\n",
       "    </tr>\n",
       "  </tbody>\n",
       "</table>\n",
       "</div>"
      ],
      "text/plain": [
       "  purchase_category  churn_rate_by_105\n",
       "0      No Purchases              28.26\n",
       "1    Made Purchases              16.92"
      ]
     },
     "execution_count": 15,
     "metadata": {},
     "output_type": "execute_result"
    }
   ],
   "source": [
    "%%sql\n",
    "SELECT\n",
    "    purchase_category,\n",
    "    ROUND(AVG(churn_by_105) * 100.0, 2) AS churn_rate_by_105\n",
    "FROM (\n",
    "    SELECT\n",
    "        member_id,\n",
    "        eligible_105,\n",
    "        churn_by_105,\n",
    "        CASE\n",
    "            WHEN total_purchase_value > 0 then 'Made Purchases'\n",
    "            ELSE 'No Purchases'\n",
    "        END AS purchase_category\n",
    "    from parent_pos\n",
    ") sub\n",
    "WHERE eligible_105 = 1\n",
    "GROUP BY purchase_category\n",
    "ORDER BY churn_rate_by_105 DESC;"
   ]
  },
  {
   "cell_type": "markdown",
   "id": "1e12b900",
   "metadata": {},
   "source": [
    "### Churn Likelihood by Late Payments."
   ]
  },
  {
   "cell_type": "code",
   "execution_count": 16,
   "id": "336e2eda",
   "metadata": {},
   "outputs": [
    {
     "name": "stdout",
     "output_type": "stream",
     "text": [
      " * sqlite:///database/clean_db.sqlite\n",
      "Done.\n"
     ]
    },
    {
     "data": {
      "text/html": [
       "<div>\n",
       "<style scoped>\n",
       "    .dataframe tbody tr th:only-of-type {\n",
       "        vertical-align: middle;\n",
       "    }\n",
       "\n",
       "    .dataframe tbody tr th {\n",
       "        vertical-align: top;\n",
       "    }\n",
       "\n",
       "    .dataframe thead th {\n",
       "        text-align: right;\n",
       "    }\n",
       "</style>\n",
       "<table border=\"1\" class=\"dataframe\">\n",
       "  <thead>\n",
       "    <tr style=\"text-align: right;\">\n",
       "      <th></th>\n",
       "      <th>payment_status_tendency</th>\n",
       "      <th>churn_rate_by_105</th>\n",
       "    </tr>\n",
       "  </thead>\n",
       "  <tbody>\n",
       "    <tr>\n",
       "      <th>0</th>\n",
       "      <td>late</td>\n",
       "      <td>100.00</td>\n",
       "    </tr>\n",
       "    <tr>\n",
       "      <th>1</th>\n",
       "      <td>on-time</td>\n",
       "      <td>14.32</td>\n",
       "    </tr>\n",
       "  </tbody>\n",
       "</table>\n",
       "</div>"
      ],
      "text/plain": [
       "  payment_status_tendency  churn_rate_by_105\n",
       "0                    late             100.00\n",
       "1                 on-time              14.32"
      ]
     },
     "execution_count": 16,
     "metadata": {},
     "output_type": "execute_result"
    }
   ],
   "source": [
    "%%sql\n",
    "SELECT\n",
    "    payment_status_tendency,\n",
    "    ROUND(AVG(churn_by_105) * 100.0, 2) AS churn_rate_by_105\n",
    "FROM parent_finances\n",
    "WHERE eligible_105 = 1\n",
    "GROUP BY payment_status_tendency\n",
    "ORDER BY churn_rate_by_105 DESC;"
   ]
  },
  {
   "cell_type": "markdown",
   "id": "bfaa6fe9",
   "metadata": {},
   "source": [
    "# Helpful Visualizations"
   ]
  },
  {
   "cell_type": "code",
   "execution_count": 3,
   "id": "668fd88f",
   "metadata": {},
   "outputs": [],
   "source": [
    "import pandas as pd\n",
    "import numpy as np\n",
    "import matplotlib.pyplot as plt\n",
    "import seaborn as sns\n",
    "import matplotlib.cm as cm\n",
    "import matplotlib.colors as mcolors"
   ]
  },
  {
   "cell_type": "code",
   "execution_count": 18,
   "id": "3454d49f",
   "metadata": {},
   "outputs": [
    {
     "name": "stdout",
     "output_type": "stream",
     "text": [
      " * sqlite:///database/clean_db.sqlite\n",
      "Done.\n"
     ]
    },
    {
     "data": {
      "image/png": "[encoded data removed]",
      "text/plain": [
       "<Figure size 600x500 with 1 Axes>"
      ]
     },
     "metadata": {},
     "output_type": "display_data"
    }
   ],
   "source": [
    "df = %sql \\\n",
    "SELECT \\\n",
    "    CASE \\\n",
    "        WHEN avg_checkins_per_month < 4 THEN 'Low (0–3)' \\\n",
    "        WHEN avg_checkins_per_month BETWEEN 4 AND 10 THEN 'Medium (4–10)' \\\n",
    "        ELSE 'High (11+)' \\\n",
    "    END AS check_in_category, \\\n",
    "    COUNT(*) AS members, \\\n",
    "    ROUND(AVG(churn_by_105) * 100.0, 2) AS churn_rate_by_105 \\\n",
    "FROM parent_checkins \\\n",
    "WHERE eligible_105 = 1 \\\n",
    "GROUP BY check_in_category \\\n",
    "ORDER BY churn_rate_by_105 DESC;\n",
    "\n",
    "order = [\"Low (0–3)\", \"Medium (4–10)\", \"High (11+)\"]\n",
    "df = df.set_index(\"check_in_category\").loc[order].reset_index()\n",
    "\n",
    "plt.figure(figsize=(6,5))\n",
    "plt.scatter(df[\"check_in_category\"], df[\"churn_rate_by_105\"],\n",
    "            s=df[\"members\"]*0.5, alpha=0.6, color=\"royalblue\")\n",
    "\n",
    "plt.title(\"Check-in Activity (≤105d)\")\n",
    "plt.ylabel(\"Churn rate (%)\")\n",
    "plt.xlabel(\"Average Monthly Check-ins\")\n",
    "\n",
    "# Add text labels\n",
    "for xi, r, m in zip(df[\"check_in_category\"], df[\"churn_rate_by_105\"], df[\"members\"]):\n",
    "    plt.text(xi, r+1, f\"{r:.1f}%\\n(n={int(m)})\", ha=\"center\")\n",
    "\n",
    "plt.grid(axis=\"y\", linestyle=\"--\", alpha=0.7)\n",
    "plt.show()"
   ]
  },
  {
   "cell_type": "code",
   "execution_count": 4,
   "id": "527d0f32",
   "metadata": {},
   "outputs": [
    {
     "name": "stdout",
     "output_type": "stream",
     "text": [
      " * sqlite:///database/clean_db.sqlite\n",
      "Done.\n"
     ]
    },
    {
     "data": {
      "image/png": "[encoded data removed]",
      "text/plain": [
       "<Figure size 600x500 with 1 Axes>"
      ]
     },
     "metadata": {},
     "output_type": "display_data"
    }
   ],
   "source": [
    "df_inactivity = %sql \\\n",
    "SELECT \\\n",
    "    CASE \\\n",
    "        WHEN days_since_last_checkin < 14 THEN 'Low Inactivity (0–13)' \\\n",
    "        WHEN days_since_last_checkin BETWEEN 14 AND 29 THEN 'Medium Inactivity (14–29)' \\\n",
    "        ELSE 'High Inactivity (30+)' \\\n",
    "    END AS inactivity_category, \\\n",
    "    COUNT(*) AS members, \\\n",
    "    ROUND(AVG(churn_by_105) * 100.0, 2) AS churn_rate_by_105 \\\n",
    "FROM parent_checkins \\\n",
    "WHERE eligible_105 = 1 \\\n",
    "GROUP BY inactivity_category \\\n",
    "ORDER BY churn_rate_by_105 DESC;\n",
    "\n",
    "order = [\"Low Inactivity (0–13)\", \"Medium Inactivity (14–29)\", \"High Inactivity (30+)\"]\n",
    "df_inactivity = df_inactivity.set_index(\"inactivity_category\").loc[order].reset_index()\n",
    "\n",
    "plt.figure(figsize=(6,5))\n",
    "plt.scatter(df_inactivity[\"inactivity_category\"], df_inactivity[\"churn_rate_by_105\"],\n",
    "            s=df_inactivity[\"members\"]*0.5, alpha=0.6, color=\"royalblue\")\n",
    "\n",
    "plt.title(\"Check-in Inactivity (≤105d)\")\n",
    "plt.ylabel(\"Churn rate (%)\")\n",
    "plt.xlabel(\"Inactivity Category (Days)\")\n",
    "\n",
    "# Add text labels\n",
    "for xi, r, m in zip(df_inactivity[\"inactivity_category\"], df_inactivity[\"churn_rate_by_105\"], df_inactivity[\"members\"]):\n",
    "    plt.text(xi, r+1, f\"{r:.1f}%\\n(n={int(m)})\", ha=\"center\")\n",
    "\n",
    "plt.grid(axis=\"y\", linestyle=\"--\", alpha=0.7)\n",
    "plt.show()"
   ]
  },
  {
   "cell_type": "code",
   "execution_count": 27,
   "id": "cad0947f",
   "metadata": {},
   "outputs": [
    {
     "name": "stdout",
     "output_type": "stream",
     "text": [
      " * sqlite:///database/clean_db.sqlite\n",
      "Done.\n"
     ]
    },
    {
     "data": {
      "image/png": "[encoded data removed]",
      "text/plain": [
       "<Figure size 600x400 with 1 Axes>"
      ]
     },
     "metadata": {},
     "output_type": "display_data"
    }
   ],
   "source": [
    "df_class = %sql \\\n",
    "SELECT \\\n",
    "    CASE WHEN total_classes > 0 THEN 'Attended Classes' ELSE 'No Classes' END AS class_attendance, \\\n",
    "    COUNT(*) AS members, \\\n",
    "    ROUND(AVG(churn_by_105) * 100.0, 2) AS churn_rate_by_105 \\\n",
    "FROM parent_classes \\\n",
    "WHERE eligible_105 = 1 \\\n",
    "GROUP BY class_attendance;\n",
    "\n",
    "ax = df_class.plot(x=\"class_attendance\", y=\"churn_rate_by_105\", kind=\"bar\", figsize=(6,4), color=[\"peru\", \"teal\"], legend=False)\n",
    "ax.bar_label(ax.containers[0], fmt=\"%.1f%%\")\n",
    "ax.set_ylim(0, df_class[\"churn_rate_by_105\"].max() * 1.15)\n",
    "ax.set_title(\"Churn Rate by Class Attendance (≤105d)\")\n",
    "ax.set_ylabel(\"Churn rate (%)\")\n",
    "ax.set_xlabel(\"Class Attendance\")\n",
    "plt.xticks(rotation=30, ha=\"right\")\n",
    "plt.show()"
   ]
  },
  {
   "cell_type": "code",
   "execution_count": 28,
   "id": "a9ef7314",
   "metadata": {},
   "outputs": [
    {
     "name": "stdout",
     "output_type": "stream",
     "text": [
      " * sqlite:///database/clean_db.sqlite\n",
      "Done.\n"
     ]
    },
    {
     "data": {
      "image/png": "[encoded data removed]",
      "text/plain": [
       "<Figure size 600x400 with 1 Axes>"
      ]
     },
     "metadata": {},
     "output_type": "display_data"
    }
   ],
   "source": [
    "df_pt = %sql \\\n",
    "SELECT \\\n",
    "  CASE WHEN IFNULL(total_pt_sessions,0) > 0 \\\n",
    "       THEN 'Attended PT' ELSE 'No PT' END AS pt_attendance, \\\n",
    "  COUNT(*) AS members, \\\n",
    "  ROUND(AVG(churn_by_105) * 100.0, 2) AS churn_rate_by_105 \\\n",
    "FROM parent_pt \\\n",
    "WHERE eligible_105 = 1 \\\n",
    "GROUP BY pt_attendance \\\n",
    "ORDER BY churn_rate_by_105 ASC;\n",
    "\n",
    "ax = df_pt.plot(x=\"pt_attendance\", y=\"churn_rate_by_105\", kind=\"bar\", figsize=(6,4), color=[\"peru\", \"seagreen\"], legend=False)\n",
    "ax.bar_label(ax.containers[0], fmt=\"%.1f%%\")\n",
    "ax.set_ylim(0, df_pt[\"churn_rate_by_105\"].max() * 1.15)\n",
    "ax.set_title(\"Churn Rate by Personal Training Attendance (≤105d)\")\n",
    "ax.set_ylabel(\"Churn rate (%)\")\n",
    "ax.set_xlabel(\"PT Participation\")\n",
    "plt.xticks(rotation=30, ha=\"right\")\n",
    "plt.show()"
   ]
  },
  {
   "cell_type": "code",
   "execution_count": 23,
   "id": "27021257",
   "metadata": {},
   "outputs": [
    {
     "name": "stdout",
     "output_type": "stream",
     "text": [
      " * sqlite:///database/clean_db.sqlite\n",
      "Done.\n"
     ]
    }
   ],
   "source": [
    "df_class_pt = %sql \\\n",
    "WITH base AS ( \\\n",
    "  SELECT \\\n",
    "    m.member_id, \\\n",
    "    m.eligible_105, \\\n",
    "    m.churn_by_105, \\\n",
    "    CASE WHEN IFNULL(c.total_classes, 0) > 0 THEN 'Attended Classes' ELSE 'No Classes' END AS class_attendance, \\\n",
    "    CASE WHEN IFNULL(p.total_pt_sessions, 0) > 0 THEN 'Attended PT'     ELSE 'No PT'     END AS pt_attendance \\\n",
    "  FROM parent_member_view AS m \\\n",
    "  LEFT JOIN parent_classes AS c USING (member_id) \\\n",
    "  LEFT JOIN parent_pt      AS p USING (member_id) \\\n",
    "  GROUP BY m.member_id \\\n",
    ") \\\n",
    "SELECT \\\n",
    "  class_attendance, \\\n",
    "  pt_attendance, \\\n",
    "  COUNT(*) AS members, \\\n",
    "  SUM(churn_by_105) AS early_canceled_members, \\\n",
    "  ROUND(AVG(churn_by_105) * 100.0, 2) AS churn_rate_by_105 \\\n",
    "FROM base \\\n",
    "WHERE eligible_105 = 1 \\\n",
    "GROUP BY class_attendance, pt_attendance \\\n",
    "ORDER BY churn_rate_by_105 ASC;"
   ]
  },
  {
   "cell_type": "code",
   "execution_count": 24,
   "id": "801c327e",
   "metadata": {},
   "outputs": [
    {
     "data": {
      "image/png": "[encoded data removed]",
      "text/plain": [
       "<Figure size 600x400 with 2 Axes>"
      ]
     },
     "metadata": {},
     "output_type": "display_data"
    }
   ],
   "source": [
    "pivot = df_class_pt.pivot(index=\"class_attendance\", \n",
    "                          columns=\"pt_attendance\", \n",
    "                          values=\"churn_rate_by_105\")\n",
    "\n",
    "plt.figure(figsize=(6,4))\n",
    "sns.heatmap(pivot, annot=True, fmt=\".2f\", cmap=\"YlGnBu\", \n",
    "            cbar_kws={\"label\": \"Churn Rate (%)\"})\n",
    "plt.title(\"Churn Rate by Class & PT Attendance (≤105d)\")\n",
    "plt.ylabel(\"Class Attendance\")\n",
    "plt.xlabel(\"PT Attendance\")\n",
    "plt.show()"
   ]
  },
  {
   "cell_type": "code",
   "execution_count": 31,
   "id": "8ef8fc0a",
   "metadata": {},
   "outputs": [
    {
     "name": "stdout",
     "output_type": "stream",
     "text": [
      " * sqlite:///database/clean_db.sqlite\n",
      "Done.\n"
     ]
    },
    {
     "data": {
      "image/png": "[encoded data removed]",
      "text/plain": [
       "<Figure size 600x400 with 1 Axes>"
      ]
     },
     "metadata": {},
     "output_type": "display_data"
    }
   ],
   "source": [
    "df_pos = %sql \\\n",
    "SELECT \\\n",
    "  CASE WHEN total_purchase_value > 0 THEN 'Made Purchases' ELSE 'No Purchases' END AS purchase_category, \\\n",
    "  COUNT(*) AS members, \\\n",
    "  ROUND(AVG(churn_by_105) * 100.0, 2) AS churn_rate_by_105 \\\n",
    "FROM parent_pos \\\n",
    "WHERE eligible_105 = 1 \\\n",
    "GROUP BY purchase_category;\n",
    "\n",
    "ax = df_pos.plot(x=\"purchase_category\", y=\"churn_rate_by_105\", kind=\"bar\", figsize=(6,4), color=[\"peru\", \"turquoise\"], legend=False)\n",
    "ax.bar_label(ax.containers[0], fmt=\"%.1f%%\")\n",
    "ax.set_ylim(0, df_pos[\"churn_rate_by_105\"].max() * 1.2)\n",
    "ax.set_title(\"Churn Rate by Purchase Engagement (≤105d)\")\n",
    "ax.set_ylabel(\"Churn rate (%)\")\n",
    "ax.set_xlabel(\"Purchase Category\")\n",
    "plt.xticks(rotation=30, ha=\"right\")\n",
    "plt.show()"
   ]
  },
  {
   "cell_type": "code",
   "execution_count": 32,
   "id": "8fc60d3d",
   "metadata": {},
   "outputs": [
    {
     "name": "stdout",
     "output_type": "stream",
     "text": [
      " * sqlite:///database/clean_db.sqlite\n",
      "Done.\n"
     ]
    },
    {
     "data": {
      "image/png": "[encoded data removed]",
      "text/plain": [
       "<Figure size 600x400 with 1 Axes>"
      ]
     },
     "metadata": {},
     "output_type": "display_data"
    }
   ],
   "source": [
    "df_payment = %sql \\\n",
    "SELECT payment_status_tendency, \\\n",
    "       COUNT(*) AS members, \\\n",
    "       ROUND(SUM(CASE WHEN status='Canceled' and tenure_days <= 105 THEN 1 ELSE 0 END)*100.0/COUNT(*),2) AS churn_rate \\\n",
    "FROM parent_finances \\\n",
    "GROUP BY payment_status_tendency \\\n",
    "ORDER BY payment_status_tendency desc;\n",
    "\n",
    "\n",
    "ax = df_payment.plot(x=\"payment_status_tendency\", y=\"churn_rate\", kind=\"bar\", figsize=(6,4), color=[\"peru\", \"lightblue\"], legend=False)\n",
    "ax.bar_label(ax.containers[0], fmt=\"%.1f%%\")\n",
    "ax.set_ylim(0, df_payment[\"churn_rate\"].max() * 1.2)\n",
    "ax.set_title(\"Churn Rate by Payment Status\")\n",
    "ax.set_ylabel(\"Churn rate (%)\")\n",
    "ax.set_xlabel(\"Payment Status\")\n",
    "plt.xticks(rotation=30, ha=\"right\")\n",
    "plt.show()"
   ]
  },
  {
   "cell_type": "code",
   "execution_count": 33,
   "id": "c3b5bbea",
   "metadata": {},
   "outputs": [
    {
     "name": "stdout",
     "output_type": "stream",
     "text": [
      " * sqlite:///database/clean_db.sqlite\n",
      "Done.\n"
     ]
    }
   ],
   "source": [
    "df_behavior = %sql \\\n",
    "WITH base AS ( \\\n",
    "  SELECT \\\n",
    "    m.member_id, m.status, m.agreement_type, \\\n",
    "    m.eligible_105, m.churn_by_105, \\\n",
    "    COALESCE(pur.avg_checkins_per_month, 0) AS avg_checkins_per_month \\\n",
    "  FROM parent_member_view m \\\n",
    "  LEFT JOIN parent_checkins pur USING (member_id) \\\n",
    "), \\\n",
    "features AS ( \\\n",
    "  SELECT \\\n",
    "    member_id, status, agreement_type, eligible_105, churn_by_105, \\\n",
    "    CASE \\\n",
    "      WHEN avg_checkins_per_month < 4 THEN 'Low (0–3)' \\\n",
    "      WHEN avg_checkins_per_month BETWEEN 4 AND 12 THEN 'Medium (4–12)' \\\n",
    "      ELSE 'High (13+)' \\\n",
    "    END AS checkin_bucket \\\n",
    "  FROM base \\\n",
    ") \\\n",
    "SELECT \\\n",
    "  agreement_type, \\\n",
    "  checkin_bucket, \\\n",
    "  COUNT(*) AS members, \\\n",
    "  ROUND(AVG(churn_by_105) * 100.0, 2) AS churn_rate_by_105 \\\n",
    "FROM features \\\n",
    "WHERE eligible_105 = 1 \\\n",
    "GROUP BY agreement_type, checkin_bucket \\\n",
    "ORDER BY churn_rate_by_105 DESC;"
   ]
  },
  {
   "cell_type": "code",
   "execution_count": 34,
   "id": "e8231c60",
   "metadata": {},
   "outputs": [
    {
     "data": {
      "text/html": [
       "<div>\n",
       "<style scoped>\n",
       "    .dataframe tbody tr th:only-of-type {\n",
       "        vertical-align: middle;\n",
       "    }\n",
       "\n",
       "    .dataframe tbody tr th {\n",
       "        vertical-align: top;\n",
       "    }\n",
       "\n",
       "    .dataframe thead th {\n",
       "        text-align: right;\n",
       "    }\n",
       "</style>\n",
       "<table border=\"1\" class=\"dataframe\">\n",
       "  <thead>\n",
       "    <tr style=\"text-align: right;\">\n",
       "      <th></th>\n",
       "      <th>agreement_type</th>\n",
       "      <th>checkin_bucket</th>\n",
       "      <th>members</th>\n",
       "      <th>churn_rate_by_105</th>\n",
       "    </tr>\n",
       "  </thead>\n",
       "  <tbody>\n",
       "    <tr>\n",
       "      <th>0</th>\n",
       "      <td>Passport Annual</td>\n",
       "      <td>Low (0–3)</td>\n",
       "      <td>7</td>\n",
       "      <td>71.43</td>\n",
       "    </tr>\n",
       "    <tr>\n",
       "      <th>1</th>\n",
       "      <td>Standard Annual</td>\n",
       "      <td>Low (0–3)</td>\n",
       "      <td>8</td>\n",
       "      <td>50.00</td>\n",
       "    </tr>\n",
       "    <tr>\n",
       "      <th>2</th>\n",
       "      <td>Passport M2M</td>\n",
       "      <td>Low (0–3)</td>\n",
       "      <td>15</td>\n",
       "      <td>46.67</td>\n",
       "    </tr>\n",
       "    <tr>\n",
       "      <th>3</th>\n",
       "      <td>Standard M2M</td>\n",
       "      <td>Low (0–3)</td>\n",
       "      <td>63</td>\n",
       "      <td>38.10</td>\n",
       "    </tr>\n",
       "    <tr>\n",
       "      <th>4</th>\n",
       "      <td>Passport M2M</td>\n",
       "      <td>Medium (4–12)</td>\n",
       "      <td>72</td>\n",
       "      <td>29.17</td>\n",
       "    </tr>\n",
       "    <tr>\n",
       "      <th>5</th>\n",
       "      <td>Standard M2M</td>\n",
       "      <td>Medium (4–12)</td>\n",
       "      <td>326</td>\n",
       "      <td>19.94</td>\n",
       "    </tr>\n",
       "    <tr>\n",
       "      <th>6</th>\n",
       "      <td>Passport Annual</td>\n",
       "      <td>Medium (4–12)</td>\n",
       "      <td>52</td>\n",
       "      <td>11.54</td>\n",
       "    </tr>\n",
       "    <tr>\n",
       "      <th>7</th>\n",
       "      <td>Standard Annual</td>\n",
       "      <td>Medium (4–12)</td>\n",
       "      <td>90</td>\n",
       "      <td>10.00</td>\n",
       "    </tr>\n",
       "    <tr>\n",
       "      <th>8</th>\n",
       "      <td>Passport M2M</td>\n",
       "      <td>High (13+)</td>\n",
       "      <td>33</td>\n",
       "      <td>9.09</td>\n",
       "    </tr>\n",
       "    <tr>\n",
       "      <th>9</th>\n",
       "      <td>Standard Annual</td>\n",
       "      <td>High (13+)</td>\n",
       "      <td>49</td>\n",
       "      <td>8.16</td>\n",
       "    </tr>\n",
       "    <tr>\n",
       "      <th>10</th>\n",
       "      <td>Standard M2M</td>\n",
       "      <td>High (13+)</td>\n",
       "      <td>140</td>\n",
       "      <td>7.86</td>\n",
       "    </tr>\n",
       "    <tr>\n",
       "      <th>11</th>\n",
       "      <td>Passport Annual</td>\n",
       "      <td>High (13+)</td>\n",
       "      <td>29</td>\n",
       "      <td>3.45</td>\n",
       "    </tr>\n",
       "  </tbody>\n",
       "</table>\n",
       "</div>"
      ],
      "text/plain": [
       "     agreement_type checkin_bucket  members  churn_rate_by_105\n",
       "0   Passport Annual      Low (0–3)        7              71.43\n",
       "1   Standard Annual      Low (0–3)        8              50.00\n",
       "2      Passport M2M      Low (0–3)       15              46.67\n",
       "3      Standard M2M      Low (0–3)       63              38.10\n",
       "4      Passport M2M  Medium (4–12)       72              29.17\n",
       "5      Standard M2M  Medium (4–12)      326              19.94\n",
       "6   Passport Annual  Medium (4–12)       52              11.54\n",
       "7   Standard Annual  Medium (4–12)       90              10.00\n",
       "8      Passport M2M     High (13+)       33               9.09\n",
       "9   Standard Annual     High (13+)       49               8.16\n",
       "10     Standard M2M     High (13+)      140               7.86\n",
       "11  Passport Annual     High (13+)       29               3.45"
      ]
     },
     "execution_count": 34,
     "metadata": {},
     "output_type": "execute_result"
    }
   ],
   "source": [
    "df_behavior"
   ]
  },
  {
   "cell_type": "code",
   "execution_count": 35,
   "id": "74f76686",
   "metadata": {},
   "outputs": [
    {
     "data": {
      "image/png": "[encoded data removed]",
      "text/plain": [
       "<Figure size 800x600 with 2 Axes>"
      ]
     },
     "metadata": {},
     "output_type": "display_data"
    }
   ],
   "source": [
    "pivot = (\n",
    "    df_behavior\n",
    "      .groupby([\"agreement_type\",\"checkin_bucket\"], as_index=False)[\"churn_rate_by_105\"]\n",
    "      .mean()\n",
    "      .pivot(index=\"agreement_type\", columns=\"checkin_bucket\", values=\"churn_rate_by_105\")\n",
    ")\n",
    "\n",
    "bucket_order = [\"Low (0–3)\", \"Medium (4–12)\", \"High (13+)\"]\n",
    "pivot = pivot[bucket_order]\n",
    "\n",
    "plt.figure(figsize=(8,6))\n",
    "sns.heatmap(\n",
    "    pivot, annot=True, fmt=\".1f\",\n",
    "    cmap=\"RdYlGn_r\", cbar_kws={\"label\":\"Churn Rate (%)\"},\n",
    "    linewidths=0.5, linecolor=\"white\"\n",
    ")\n",
    "plt.title(\"Churn Rate by Agreement Type × Check-in Bucket (≤105d)\")\n",
    "plt.ylabel(\"Agreement Type\")\n",
    "plt.xlabel(\"Check-in Bucket\")\n",
    "plt.tight_layout()\n",
    "plt.show()"
   ]
  }
 ],
 "metadata": {
  "kernelspec": {
   "display_name": "Python 3",
   "language": "python",
   "name": "python3"
  },
  "language_info": {
   "codemirror_mode": {
    "name": "ipython",
    "version": 3
   },
   "file_extension": ".py",
   "mimetype": "text/x-python",
   "name": "python",
   "nbconvert_exporter": "python",
   "pygments_lexer": "ipython3",
   "version": "3.13.7"
  }
 },
 "nbformat": 4,
 "nbformat_minor": 5
}
